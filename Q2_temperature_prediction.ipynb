{
 "cells": [
  {
   "cell_type": "markdown",
   "metadata": {
    "toc": true
   },
   "source": [
    "<h1>Table of Contents<span class=\"tocSkip\"></span></h1>\n",
    "<div class=\"toc\"><ul class=\"toc-item\"><li><span><a href=\"#Split-into-Training-and-Test-Data\" data-toc-modified-id=\"Split-into-Training-and-Test-Data-1\"><span class=\"toc-item-num\">1&nbsp;&nbsp;</span>Split into Training and Test Data</a></span><ul class=\"toc-item\"><li><span><a href=\"#Solving-nan\" data-toc-modified-id=\"Solving-nan-1.1\"><span class=\"toc-item-num\">1.1&nbsp;&nbsp;</span>Solving nan</a></span></li></ul></li><li><span><a href=\"#Implement-ML-Algorithms\" data-toc-modified-id=\"Implement-ML-Algorithms-2\"><span class=\"toc-item-num\">2&nbsp;&nbsp;</span>Implement ML Algorithms</a></span><ul class=\"toc-item\"><li><span><a href=\"#Linear-Regression\" data-toc-modified-id=\"Linear-Regression-2.1\"><span class=\"toc-item-num\">2.1&nbsp;&nbsp;</span>Linear Regression</a></span><ul class=\"toc-item\"><li><span><a href=\"#Neural-Network-Regression\" data-toc-modified-id=\"Neural-Network-Regression-2.1.1\"><span class=\"toc-item-num\">2.1.1&nbsp;&nbsp;</span>Neural Network Regression</a></span></li><li><span><a href=\"#Lasso\" data-toc-modified-id=\"Lasso-2.1.2\"><span class=\"toc-item-num\">2.1.2&nbsp;&nbsp;</span>Lasso</a></span></li><li><span><a href=\"#ElasticNet\" data-toc-modified-id=\"ElasticNet-2.1.3\"><span class=\"toc-item-num\">2.1.3&nbsp;&nbsp;</span>ElasticNet</a></span></li><li><span><a href=\"#Decision-Forest-Regression\" data-toc-modified-id=\"Decision-Forest-Regression-2.1.4\"><span class=\"toc-item-num\">2.1.4&nbsp;&nbsp;</span>Decision Forest Regression</a></span></li><li><span><a href=\"#Extra-Trees-Regression\" data-toc-modified-id=\"Extra-Trees-Regression-2.1.5\"><span class=\"toc-item-num\">2.1.5&nbsp;&nbsp;</span>Extra Trees Regression</a></span></li><li><span><a href=\"#Decision-Tree-+-AdaBoost\" data-toc-modified-id=\"Decision-Tree-+-AdaBoost-2.1.6\"><span class=\"toc-item-num\">2.1.6&nbsp;&nbsp;</span>Decision Tree + AdaBoost</a></span></li><li><span><a href=\"#XGBoost\" data-toc-modified-id=\"XGBoost-2.1.7\"><span class=\"toc-item-num\">2.1.7&nbsp;&nbsp;</span>XGBoost</a></span></li></ul></li></ul></li><li><span><a href=\"#Evaluate-Models\" data-toc-modified-id=\"Evaluate-Models-3\"><span class=\"toc-item-num\">3&nbsp;&nbsp;</span>Evaluate Models</a></span><ul class=\"toc-item\"><li><span><a href=\"#Predict\" data-toc-modified-id=\"Predict-3.1\"><span class=\"toc-item-num\">3.1&nbsp;&nbsp;</span>Predict</a></span></li></ul></li><li><span><a href=\"#LSTM\" data-toc-modified-id=\"LSTM-4\"><span class=\"toc-item-num\">4&nbsp;&nbsp;</span>LSTM</a></span></li><li><span><a href=\"#Predict-Weather\" data-toc-modified-id=\"Predict-Weather-5\"><span class=\"toc-item-num\">5&nbsp;&nbsp;</span>Predict Weather</a></span></li></ul></div>"
   ]
  },
  {
   "cell_type": "code",
   "execution_count": 2,
   "metadata": {
    "ExecuteTime": {
     "end_time": "2020-02-07T15:29:18.946721Z",
     "start_time": "2020-02-07T15:29:18.717980Z"
    }
   },
   "outputs": [],
   "source": [
    "# Import relevant items\n",
    "import pandas as pd\n",
    "import numpy as np\n",
    "\n",
    "import seaborn as sns\n",
    "%matplotlib inline\n"
   ]
  },
  {
   "cell_type": "markdown",
   "metadata": {},
   "source": [
    "# Split into Training and Test Data"
   ]
  },
  {
   "cell_type": "markdown",
   "metadata": {},
   "source": [
    "Cross validation is always desired when training machine learning models to be able to trust the generality of the model created. We will split our data into training and test data using Scikit learn's built in tools. Also for scikit learn we need to separate our dataset into inputs and the feature being predicted (or X's and y's)."
   ]
  },
  {
   "cell_type": "code",
   "execution_count": 3,
   "metadata": {
    "ExecuteTime": {
     "end_time": "2020-02-07T15:29:18.997757Z",
     "start_time": "2020-02-07T15:29:18.949453Z"
    }
   },
   "outputs": [],
   "source": [
    "df = pd.read_csv('train.csv')\n",
    "small=['date_2','hour','dayname','weekend','day_period','pm25','pm25_week_ago','pm25_two_week_ago']\n",
    "df=df[small]\n",
    "\n",
    "\n",
    "ls = []\n",
    "\n",
    "df['date_2']=pd.to_datetime(df.date_2)\n",
    "df['month']=df.date_2.dt.month\n",
    "df['week']=df.date_2.dt.week\n",
    "df.drop('date_2',axis=1,inplace=True)\n",
    "\n",
    "df['dayname']=df.dayname.replace({'Monday':'0', 'Tuesday':'1', 'Wednesday':'2', 'Thursday':'3', 'Friday':'4', 'Saturday':'5',\n",
    "                                 'Sunday':'6'})\n",
    "\n",
    "df['dayname']=df.dayname.astype('int')\n",
    "df['day_period'] = df.day_period.replace({'evening':'0','morning':'1','noon':'2','night':'3'})\n",
    "df['day_period']=df.day_period.astype('int')\n",
    "df['month']=df.month.astype('int')"
   ]
  },
  {
   "cell_type": "code",
   "execution_count": 4,
   "metadata": {
    "ExecuteTime": {
     "end_time": "2020-02-07T15:29:19.023051Z",
     "start_time": "2020-02-07T15:29:19.000090Z"
    }
   },
   "outputs": [
    {
     "data": {
      "text/html": [
       "<div>\n",
       "<style scoped>\n",
       "    .dataframe tbody tr th:only-of-type {\n",
       "        vertical-align: middle;\n",
       "    }\n",
       "\n",
       "    .dataframe tbody tr th {\n",
       "        vertical-align: top;\n",
       "    }\n",
       "\n",
       "    .dataframe thead th {\n",
       "        text-align: right;\n",
       "    }\n",
       "</style>\n",
       "<table border=\"1\" class=\"dataframe\">\n",
       "  <thead>\n",
       "    <tr style=\"text-align: right;\">\n",
       "      <th></th>\n",
       "      <th>hour</th>\n",
       "      <th>dayname</th>\n",
       "      <th>weekend</th>\n",
       "      <th>day_period</th>\n",
       "      <th>pm25</th>\n",
       "      <th>pm25_week_ago</th>\n",
       "      <th>pm25_two_week_ago</th>\n",
       "      <th>month</th>\n",
       "      <th>week</th>\n",
       "    </tr>\n",
       "  </thead>\n",
       "  <tbody>\n",
       "    <tr>\n",
       "      <td>0</td>\n",
       "      <td>0</td>\n",
       "      <td>2</td>\n",
       "      <td>False</td>\n",
       "      <td>0</td>\n",
       "      <td>32.70</td>\n",
       "      <td>NaN</td>\n",
       "      <td>NaN</td>\n",
       "      <td>5</td>\n",
       "      <td>21</td>\n",
       "    </tr>\n",
       "    <tr>\n",
       "      <td>1</td>\n",
       "      <td>1</td>\n",
       "      <td>2</td>\n",
       "      <td>False</td>\n",
       "      <td>0</td>\n",
       "      <td>29.00</td>\n",
       "      <td>NaN</td>\n",
       "      <td>NaN</td>\n",
       "      <td>5</td>\n",
       "      <td>21</td>\n",
       "    </tr>\n",
       "    <tr>\n",
       "      <td>2</td>\n",
       "      <td>2</td>\n",
       "      <td>2</td>\n",
       "      <td>False</td>\n",
       "      <td>0</td>\n",
       "      <td>27.55</td>\n",
       "      <td>NaN</td>\n",
       "      <td>NaN</td>\n",
       "      <td>5</td>\n",
       "      <td>21</td>\n",
       "    </tr>\n",
       "    <tr>\n",
       "      <td>3</td>\n",
       "      <td>3</td>\n",
       "      <td>2</td>\n",
       "      <td>False</td>\n",
       "      <td>0</td>\n",
       "      <td>24.83</td>\n",
       "      <td>NaN</td>\n",
       "      <td>NaN</td>\n",
       "      <td>5</td>\n",
       "      <td>21</td>\n",
       "    </tr>\n",
       "    <tr>\n",
       "      <td>4</td>\n",
       "      <td>4</td>\n",
       "      <td>2</td>\n",
       "      <td>False</td>\n",
       "      <td>1</td>\n",
       "      <td>21.60</td>\n",
       "      <td>NaN</td>\n",
       "      <td>NaN</td>\n",
       "      <td>5</td>\n",
       "      <td>21</td>\n",
       "    </tr>\n",
       "  </tbody>\n",
       "</table>\n",
       "</div>"
      ],
      "text/plain": [
       "   hour  dayname  weekend  day_period   pm25  pm25_week_ago  \\\n",
       "0     0        2    False           0  32.70            NaN   \n",
       "1     1        2    False           0  29.00            NaN   \n",
       "2     2        2    False           0  27.55            NaN   \n",
       "3     3        2    False           0  24.83            NaN   \n",
       "4     4        2    False           1  21.60            NaN   \n",
       "\n",
       "   pm25_two_week_ago  month  week  \n",
       "0                NaN      5    21  \n",
       "1                NaN      5    21  \n",
       "2                NaN      5    21  \n",
       "3                NaN      5    21  \n",
       "4                NaN      5    21  "
      ]
     },
     "execution_count": 4,
     "metadata": {},
     "output_type": "execute_result"
    }
   ],
   "source": [
    "df.head()"
   ]
  },
  {
   "cell_type": "code",
   "execution_count": 5,
   "metadata": {
    "ExecuteTime": {
     "end_time": "2020-02-07T15:29:19.056752Z",
     "start_time": "2020-02-07T15:29:19.025441Z"
    },
    "scrolled": true
   },
   "outputs": [],
   "source": [
    "#one week again\n",
    "one_week_ago=df[['hour','dayname','week','pm25']].copy()\n",
    "one_week_ago.week=one_week_ago.week+1\n",
    "one_week_ago=one_week_ago.set_index(['dayname','hour','week'])\n",
    "one_week_ago.columns=['one_week_ago']\n",
    "\n",
    "df=df.set_index(['dayname','hour','week']).join(one_week_ago)\n",
    "df.drop('pm25_week_ago',axis=1,inplace=True)\n",
    "df=df.rename(columns={'one_week_ago': 'pm25_week_ago'})\n",
    "df.reset_index(inplace=True)"
   ]
  },
  {
   "cell_type": "code",
   "execution_count": 6,
   "metadata": {
    "ExecuteTime": {
     "end_time": "2020-02-07T15:29:19.070882Z",
     "start_time": "2020-02-07T15:29:19.059283Z"
    }
   },
   "outputs": [
    {
     "data": {
      "text/html": [
       "<div>\n",
       "<style scoped>\n",
       "    .dataframe tbody tr th:only-of-type {\n",
       "        vertical-align: middle;\n",
       "    }\n",
       "\n",
       "    .dataframe tbody tr th {\n",
       "        vertical-align: top;\n",
       "    }\n",
       "\n",
       "    .dataframe thead th {\n",
       "        text-align: right;\n",
       "    }\n",
       "</style>\n",
       "<table border=\"1\" class=\"dataframe\">\n",
       "  <thead>\n",
       "    <tr style=\"text-align: right;\">\n",
       "      <th></th>\n",
       "      <th>dayname</th>\n",
       "      <th>hour</th>\n",
       "      <th>week</th>\n",
       "      <th>weekend</th>\n",
       "      <th>day_period</th>\n",
       "      <th>pm25</th>\n",
       "      <th>pm25_two_week_ago</th>\n",
       "      <th>month</th>\n",
       "      <th>pm25_week_ago</th>\n",
       "    </tr>\n",
       "  </thead>\n",
       "  <tbody>\n",
       "    <tr>\n",
       "      <td>0</td>\n",
       "      <td>2</td>\n",
       "      <td>0</td>\n",
       "      <td>21</td>\n",
       "      <td>False</td>\n",
       "      <td>0</td>\n",
       "      <td>32.70</td>\n",
       "      <td>NaN</td>\n",
       "      <td>5</td>\n",
       "      <td>NaN</td>\n",
       "    </tr>\n",
       "    <tr>\n",
       "      <td>1</td>\n",
       "      <td>2</td>\n",
       "      <td>1</td>\n",
       "      <td>21</td>\n",
       "      <td>False</td>\n",
       "      <td>0</td>\n",
       "      <td>29.00</td>\n",
       "      <td>NaN</td>\n",
       "      <td>5</td>\n",
       "      <td>NaN</td>\n",
       "    </tr>\n",
       "    <tr>\n",
       "      <td>2</td>\n",
       "      <td>2</td>\n",
       "      <td>2</td>\n",
       "      <td>21</td>\n",
       "      <td>False</td>\n",
       "      <td>0</td>\n",
       "      <td>27.55</td>\n",
       "      <td>NaN</td>\n",
       "      <td>5</td>\n",
       "      <td>NaN</td>\n",
       "    </tr>\n",
       "    <tr>\n",
       "      <td>3</td>\n",
       "      <td>2</td>\n",
       "      <td>3</td>\n",
       "      <td>21</td>\n",
       "      <td>False</td>\n",
       "      <td>0</td>\n",
       "      <td>24.83</td>\n",
       "      <td>NaN</td>\n",
       "      <td>5</td>\n",
       "      <td>NaN</td>\n",
       "    </tr>\n",
       "    <tr>\n",
       "      <td>4</td>\n",
       "      <td>2</td>\n",
       "      <td>4</td>\n",
       "      <td>21</td>\n",
       "      <td>False</td>\n",
       "      <td>1</td>\n",
       "      <td>21.60</td>\n",
       "      <td>NaN</td>\n",
       "      <td>5</td>\n",
       "      <td>NaN</td>\n",
       "    </tr>\n",
       "  </tbody>\n",
       "</table>\n",
       "</div>"
      ],
      "text/plain": [
       "   dayname  hour  week  weekend  day_period   pm25  pm25_two_week_ago  month  \\\n",
       "0        2     0    21    False           0  32.70                NaN      5   \n",
       "1        2     1    21    False           0  29.00                NaN      5   \n",
       "2        2     2    21    False           0  27.55                NaN      5   \n",
       "3        2     3    21    False           0  24.83                NaN      5   \n",
       "4        2     4    21    False           1  21.60                NaN      5   \n",
       "\n",
       "   pm25_week_ago  \n",
       "0            NaN  \n",
       "1            NaN  \n",
       "2            NaN  \n",
       "3            NaN  \n",
       "4            NaN  "
      ]
     },
     "execution_count": 6,
     "metadata": {},
     "output_type": "execute_result"
    }
   ],
   "source": [
    "df.head()"
   ]
  },
  {
   "cell_type": "code",
   "execution_count": 7,
   "metadata": {
    "ExecuteTime": {
     "end_time": "2020-02-07T15:29:19.096977Z",
     "start_time": "2020-02-07T15:29:19.072251Z"
    },
    "scrolled": true
   },
   "outputs": [],
   "source": [
    "\n",
    "#two week again\n",
    "two_week_ago=df[['hour','dayname','week','pm25']].copy()\n",
    "two_week_ago.week=two_week_ago.week+2\n",
    "two_week_ago=two_week_ago.set_index(['dayname','hour','week'])\n",
    "two_week_ago.columns=['two_week_ago']\n",
    "df.reset_index(inplace=True)\n",
    "df=df.set_index(['dayname','hour','week']).join(two_week_ago)\n",
    "df.drop('pm25_two_week_ago',axis=1,inplace=True)\n"
   ]
  },
  {
   "cell_type": "code",
   "execution_count": 8,
   "metadata": {
    "ExecuteTime": {
     "end_time": "2020-02-07T15:29:19.106561Z",
     "start_time": "2020-02-07T15:29:19.097974Z"
    }
   },
   "outputs": [],
   "source": [
    "df=df.rename(columns={'two_week_ago': 'pm25_two_week_ago'})"
   ]
  },
  {
   "cell_type": "code",
   "execution_count": 9,
   "metadata": {
    "ExecuteTime": {
     "end_time": "2020-02-07T15:29:19.133036Z",
     "start_time": "2020-02-07T15:29:19.110361Z"
    }
   },
   "outputs": [
    {
     "data": {
      "text/html": [
       "<div>\n",
       "<style scoped>\n",
       "    .dataframe tbody tr th:only-of-type {\n",
       "        vertical-align: middle;\n",
       "    }\n",
       "\n",
       "    .dataframe tbody tr th {\n",
       "        vertical-align: top;\n",
       "    }\n",
       "\n",
       "    .dataframe thead th {\n",
       "        text-align: right;\n",
       "    }\n",
       "</style>\n",
       "<table border=\"1\" class=\"dataframe\">\n",
       "  <thead>\n",
       "    <tr style=\"text-align: right;\">\n",
       "      <th></th>\n",
       "      <th></th>\n",
       "      <th></th>\n",
       "      <th>index</th>\n",
       "      <th>weekend</th>\n",
       "      <th>day_period</th>\n",
       "      <th>pm25</th>\n",
       "      <th>month</th>\n",
       "      <th>pm25_week_ago</th>\n",
       "      <th>pm25_two_week_ago</th>\n",
       "    </tr>\n",
       "    <tr>\n",
       "      <th>dayname</th>\n",
       "      <th>hour</th>\n",
       "      <th>week</th>\n",
       "      <th></th>\n",
       "      <th></th>\n",
       "      <th></th>\n",
       "      <th></th>\n",
       "      <th></th>\n",
       "      <th></th>\n",
       "      <th></th>\n",
       "    </tr>\n",
       "  </thead>\n",
       "  <tbody>\n",
       "    <tr>\n",
       "      <td rowspan=\"5\" valign=\"top\">2</td>\n",
       "      <td>0</td>\n",
       "      <td>21</td>\n",
       "      <td>0</td>\n",
       "      <td>False</td>\n",
       "      <td>0</td>\n",
       "      <td>32.70</td>\n",
       "      <td>5</td>\n",
       "      <td>NaN</td>\n",
       "      <td>NaN</td>\n",
       "    </tr>\n",
       "    <tr>\n",
       "      <td>1</td>\n",
       "      <td>21</td>\n",
       "      <td>1</td>\n",
       "      <td>False</td>\n",
       "      <td>0</td>\n",
       "      <td>29.00</td>\n",
       "      <td>5</td>\n",
       "      <td>NaN</td>\n",
       "      <td>NaN</td>\n",
       "    </tr>\n",
       "    <tr>\n",
       "      <td>2</td>\n",
       "      <td>21</td>\n",
       "      <td>2</td>\n",
       "      <td>False</td>\n",
       "      <td>0</td>\n",
       "      <td>27.55</td>\n",
       "      <td>5</td>\n",
       "      <td>NaN</td>\n",
       "      <td>NaN</td>\n",
       "    </tr>\n",
       "    <tr>\n",
       "      <td>3</td>\n",
       "      <td>21</td>\n",
       "      <td>3</td>\n",
       "      <td>False</td>\n",
       "      <td>0</td>\n",
       "      <td>24.83</td>\n",
       "      <td>5</td>\n",
       "      <td>NaN</td>\n",
       "      <td>NaN</td>\n",
       "    </tr>\n",
       "    <tr>\n",
       "      <td>4</td>\n",
       "      <td>21</td>\n",
       "      <td>4</td>\n",
       "      <td>False</td>\n",
       "      <td>1</td>\n",
       "      <td>21.60</td>\n",
       "      <td>5</td>\n",
       "      <td>NaN</td>\n",
       "      <td>NaN</td>\n",
       "    </tr>\n",
       "  </tbody>\n",
       "</table>\n",
       "</div>"
      ],
      "text/plain": [
       "                   index  weekend  day_period   pm25  month  pm25_week_ago  \\\n",
       "dayname hour week                                                            \n",
       "2       0    21        0    False           0  32.70      5            NaN   \n",
       "        1    21        1    False           0  29.00      5            NaN   \n",
       "        2    21        2    False           0  27.55      5            NaN   \n",
       "        3    21        3    False           0  24.83      5            NaN   \n",
       "        4    21        4    False           1  21.60      5            NaN   \n",
       "\n",
       "                   pm25_two_week_ago  \n",
       "dayname hour week                     \n",
       "2       0    21                  NaN  \n",
       "        1    21                  NaN  \n",
       "        2    21                  NaN  \n",
       "        3    21                  NaN  \n",
       "        4    21                  NaN  "
      ]
     },
     "execution_count": 9,
     "metadata": {},
     "output_type": "execute_result"
    }
   ],
   "source": [
    "df.head()"
   ]
  },
  {
   "cell_type": "markdown",
   "metadata": {
    "ExecuteTime": {
     "end_time": "2019-09-21T10:31:47.509602Z",
     "start_time": "2019-09-21T10:31:47.496653Z"
    }
   },
   "source": [
    "## Solving nan"
   ]
  },
  {
   "cell_type": "code",
   "execution_count": 10,
   "metadata": {
    "ExecuteTime": {
     "end_time": "2020-02-07T15:29:19.161255Z",
     "start_time": "2020-02-07T15:29:19.136782Z"
    }
   },
   "outputs": [
    {
     "data": {
      "text/html": [
       "<div>\n",
       "<style scoped>\n",
       "    .dataframe tbody tr th:only-of-type {\n",
       "        vertical-align: middle;\n",
       "    }\n",
       "\n",
       "    .dataframe tbody tr th {\n",
       "        vertical-align: top;\n",
       "    }\n",
       "\n",
       "    .dataframe thead th {\n",
       "        text-align: right;\n",
       "    }\n",
       "</style>\n",
       "<table border=\"1\" class=\"dataframe\">\n",
       "  <thead>\n",
       "    <tr style=\"text-align: right;\">\n",
       "      <th></th>\n",
       "      <th></th>\n",
       "      <th></th>\n",
       "      <th>index</th>\n",
       "      <th>weekend</th>\n",
       "      <th>day_period</th>\n",
       "      <th>pm25</th>\n",
       "      <th>month</th>\n",
       "      <th>pm25_week_ago</th>\n",
       "      <th>pm25_two_week_ago</th>\n",
       "    </tr>\n",
       "    <tr>\n",
       "      <th>dayname</th>\n",
       "      <th>hour</th>\n",
       "      <th>week</th>\n",
       "      <th></th>\n",
       "      <th></th>\n",
       "      <th></th>\n",
       "      <th></th>\n",
       "      <th></th>\n",
       "      <th></th>\n",
       "      <th></th>\n",
       "    </tr>\n",
       "  </thead>\n",
       "  <tbody>\n",
       "    <tr>\n",
       "      <td rowspan=\"5\" valign=\"top\">2</td>\n",
       "      <td>0</td>\n",
       "      <td>21</td>\n",
       "      <td>0</td>\n",
       "      <td>False</td>\n",
       "      <td>0</td>\n",
       "      <td>32.70</td>\n",
       "      <td>5</td>\n",
       "      <td>NaN</td>\n",
       "      <td>NaN</td>\n",
       "    </tr>\n",
       "    <tr>\n",
       "      <td>1</td>\n",
       "      <td>21</td>\n",
       "      <td>1</td>\n",
       "      <td>False</td>\n",
       "      <td>0</td>\n",
       "      <td>29.00</td>\n",
       "      <td>5</td>\n",
       "      <td>NaN</td>\n",
       "      <td>NaN</td>\n",
       "    </tr>\n",
       "    <tr>\n",
       "      <td>2</td>\n",
       "      <td>21</td>\n",
       "      <td>2</td>\n",
       "      <td>False</td>\n",
       "      <td>0</td>\n",
       "      <td>27.55</td>\n",
       "      <td>5</td>\n",
       "      <td>NaN</td>\n",
       "      <td>NaN</td>\n",
       "    </tr>\n",
       "    <tr>\n",
       "      <td>3</td>\n",
       "      <td>21</td>\n",
       "      <td>3</td>\n",
       "      <td>False</td>\n",
       "      <td>0</td>\n",
       "      <td>24.83</td>\n",
       "      <td>5</td>\n",
       "      <td>NaN</td>\n",
       "      <td>NaN</td>\n",
       "    </tr>\n",
       "    <tr>\n",
       "      <td>4</td>\n",
       "      <td>21</td>\n",
       "      <td>4</td>\n",
       "      <td>False</td>\n",
       "      <td>1</td>\n",
       "      <td>21.60</td>\n",
       "      <td>5</td>\n",
       "      <td>NaN</td>\n",
       "      <td>NaN</td>\n",
       "    </tr>\n",
       "  </tbody>\n",
       "</table>\n",
       "</div>"
      ],
      "text/plain": [
       "                   index  weekend  day_period   pm25  month  pm25_week_ago  \\\n",
       "dayname hour week                                                            \n",
       "2       0    21        0    False           0  32.70      5            NaN   \n",
       "        1    21        1    False           0  29.00      5            NaN   \n",
       "        2    21        2    False           0  27.55      5            NaN   \n",
       "        3    21        3    False           0  24.83      5            NaN   \n",
       "        4    21        4    False           1  21.60      5            NaN   \n",
       "\n",
       "                   pm25_two_week_ago  \n",
       "dayname hour week                     \n",
       "2       0    21                  NaN  \n",
       "        1    21                  NaN  \n",
       "        2    21                  NaN  \n",
       "        3    21                  NaN  \n",
       "        4    21                  NaN  "
      ]
     },
     "execution_count": 10,
     "metadata": {},
     "output_type": "execute_result"
    }
   ],
   "source": [
    "df.head()"
   ]
  },
  {
   "cell_type": "code",
   "execution_count": 11,
   "metadata": {
    "ExecuteTime": {
     "end_time": "2020-02-07T15:29:19.205774Z",
     "start_time": "2020-02-07T15:29:19.164705Z"
    }
   },
   "outputs": [],
   "source": [
    "week_ago=df.groupby(['dayname','hour']).agg({'pm25':'mean'})\n",
    "week_ago.columns=['missing_pm25']\n",
    "df.reset_index(inplace=True)\n",
    "df=df.set_index(['dayname','hour']).join(week_ago)\n",
    "df['pm25_week_ago']=np.select([df.pm25_week_ago.isnull()], [df.missing_pm25], default=df.pm25_week_ago)\n",
    "df['pm25_two_week_ago']=np.select([df.pm25_two_week_ago.isnull()], [df.missing_pm25], default=df.pm25_two_week_ago)"
   ]
  },
  {
   "cell_type": "code",
   "execution_count": 12,
   "metadata": {
    "ExecuteTime": {
     "end_time": "2020-02-07T15:29:19.216536Z",
     "start_time": "2020-02-07T15:29:19.208696Z"
    }
   },
   "outputs": [],
   "source": [
    "imp_col=['dayname', 'hour', 'weekend', 'day_period', 'pm25', 'pm25_week_ago',\n",
    "       'pm25_two_week_ago', 'month', 'week', 'missing_pm25']"
   ]
  },
  {
   "cell_type": "code",
   "execution_count": 13,
   "metadata": {
    "ExecuteTime": {
     "end_time": "2020-02-07T15:29:19.247510Z",
     "start_time": "2020-02-07T15:29:19.219417Z"
    }
   },
   "outputs": [
    {
     "data": {
      "text/html": [
       "<div>\n",
       "<style scoped>\n",
       "    .dataframe tbody tr th:only-of-type {\n",
       "        vertical-align: middle;\n",
       "    }\n",
       "\n",
       "    .dataframe tbody tr th {\n",
       "        vertical-align: top;\n",
       "    }\n",
       "\n",
       "    .dataframe thead th {\n",
       "        text-align: right;\n",
       "    }\n",
       "</style>\n",
       "<table border=\"1\" class=\"dataframe\">\n",
       "  <thead>\n",
       "    <tr style=\"text-align: right;\">\n",
       "      <th></th>\n",
       "      <th>dayname</th>\n",
       "      <th>hour</th>\n",
       "      <th>week</th>\n",
       "      <th>index</th>\n",
       "      <th>weekend</th>\n",
       "      <th>day_period</th>\n",
       "      <th>pm25</th>\n",
       "      <th>month</th>\n",
       "      <th>pm25_week_ago</th>\n",
       "      <th>pm25_two_week_ago</th>\n",
       "      <th>missing_pm25</th>\n",
       "    </tr>\n",
       "  </thead>\n",
       "  <tbody>\n",
       "    <tr>\n",
       "      <td>0</td>\n",
       "      <td>0</td>\n",
       "      <td>0</td>\n",
       "      <td>22</td>\n",
       "      <td>111</td>\n",
       "      <td>False</td>\n",
       "      <td>0</td>\n",
       "      <td>15.13</td>\n",
       "      <td>5</td>\n",
       "      <td>12.670</td>\n",
       "      <td>12.670</td>\n",
       "      <td>12.670</td>\n",
       "    </tr>\n",
       "    <tr>\n",
       "      <td>1</td>\n",
       "      <td>0</td>\n",
       "      <td>0</td>\n",
       "      <td>24</td>\n",
       "      <td>360</td>\n",
       "      <td>False</td>\n",
       "      <td>0</td>\n",
       "      <td>14.82</td>\n",
       "      <td>6</td>\n",
       "      <td>12.670</td>\n",
       "      <td>15.130</td>\n",
       "      <td>12.670</td>\n",
       "    </tr>\n",
       "    <tr>\n",
       "      <td>2</td>\n",
       "      <td>0</td>\n",
       "      <td>0</td>\n",
       "      <td>25</td>\n",
       "      <td>524</td>\n",
       "      <td>False</td>\n",
       "      <td>0</td>\n",
       "      <td>4.78</td>\n",
       "      <td>6</td>\n",
       "      <td>14.820</td>\n",
       "      <td>12.670</td>\n",
       "      <td>12.670</td>\n",
       "    </tr>\n",
       "    <tr>\n",
       "      <td>3</td>\n",
       "      <td>0</td>\n",
       "      <td>0</td>\n",
       "      <td>26</td>\n",
       "      <td>692</td>\n",
       "      <td>False</td>\n",
       "      <td>0</td>\n",
       "      <td>15.95</td>\n",
       "      <td>6</td>\n",
       "      <td>4.780</td>\n",
       "      <td>14.820</td>\n",
       "      <td>12.670</td>\n",
       "    </tr>\n",
       "    <tr>\n",
       "      <td>4</td>\n",
       "      <td>0</td>\n",
       "      <td>1</td>\n",
       "      <td>22</td>\n",
       "      <td>112</td>\n",
       "      <td>False</td>\n",
       "      <td>0</td>\n",
       "      <td>15.53</td>\n",
       "      <td>5</td>\n",
       "      <td>10.602</td>\n",
       "      <td>10.602</td>\n",
       "      <td>10.602</td>\n",
       "    </tr>\n",
       "  </tbody>\n",
       "</table>\n",
       "</div>"
      ],
      "text/plain": [
       "   dayname  hour  week  index  weekend  day_period   pm25  month  \\\n",
       "0        0     0    22    111    False           0  15.13      5   \n",
       "1        0     0    24    360    False           0  14.82      6   \n",
       "2        0     0    25    524    False           0   4.78      6   \n",
       "3        0     0    26    692    False           0  15.95      6   \n",
       "4        0     1    22    112    False           0  15.53      5   \n",
       "\n",
       "   pm25_week_ago  pm25_two_week_ago  missing_pm25  \n",
       "0         12.670             12.670        12.670  \n",
       "1         12.670             15.130        12.670  \n",
       "2         14.820             12.670        12.670  \n",
       "3          4.780             14.820        12.670  \n",
       "4         10.602             10.602        10.602  "
      ]
     },
     "execution_count": 13,
     "metadata": {},
     "output_type": "execute_result"
    }
   ],
   "source": [
    "df=df.reset_index()\n",
    "df.head()"
   ]
  },
  {
   "cell_type": "code",
   "execution_count": 14,
   "metadata": {
    "ExecuteTime": {
     "end_time": "2020-02-07T15:29:19.257701Z",
     "start_time": "2020-02-07T15:29:19.249138Z"
    }
   },
   "outputs": [],
   "source": [
    "df['x']=df.week*7+df.dayname\n",
    "df['trend']=df.x**2*(7*10**-5)-0.0621*df.x+24.772"
   ]
  },
  {
   "cell_type": "code",
   "execution_count": 15,
   "metadata": {
    "ExecuteTime": {
     "end_time": "2020-02-07T15:29:19.268002Z",
     "start_time": "2020-02-07T15:29:19.259693Z"
    }
   },
   "outputs": [],
   "source": [
    "y = df['pm25']\n",
    "X = df.drop(['pm25','missing_pm25','index'], axis=1)"
   ]
  },
  {
   "cell_type": "code",
   "execution_count": 16,
   "metadata": {
    "ExecuteTime": {
     "end_time": "2020-02-07T15:29:19.278977Z",
     "start_time": "2020-02-07T15:29:19.269006Z"
    }
   },
   "outputs": [],
   "source": [
    "from sklearn.model_selection import train_test_split\n",
    "\n",
    "X_train, X_test, y_train, y_test = train_test_split(X, y, test_size=.3, random_state=1234)"
   ]
  },
  {
   "cell_type": "code",
   "execution_count": 17,
   "metadata": {
    "ExecuteTime": {
     "end_time": "2020-02-07T15:29:19.289711Z",
     "start_time": "2020-02-07T15:29:19.280937Z"
    }
   },
   "outputs": [
    {
     "data": {
      "text/plain": [
       "((602, 10), (602,))"
      ]
     },
     "execution_count": 17,
     "metadata": {},
     "output_type": "execute_result"
    }
   ],
   "source": [
    "X_train.shape, y_train.shape"
   ]
  },
  {
   "cell_type": "code",
   "execution_count": 18,
   "metadata": {
    "ExecuteTime": {
     "end_time": "2020-02-07T15:29:19.299856Z",
     "start_time": "2020-02-07T15:29:19.291674Z"
    }
   },
   "outputs": [
    {
     "data": {
      "text/plain": [
       "((258, 10), (258,))"
      ]
     },
     "execution_count": 18,
     "metadata": {},
     "output_type": "execute_result"
    }
   ],
   "source": [
    "X_test.shape, y_test.shape"
   ]
  },
  {
   "cell_type": "markdown",
   "metadata": {},
   "source": [
    "# Implement ML Algorithms"
   ]
  },
  {
   "cell_type": "markdown",
   "metadata": {},
   "source": [
    "Algorithms to test:\n",
    "\n",
    "**Classification**\n",
    "- Multiclass neural network\n",
    "- Multiclass logistic regression\n",
    "- Random Forest\n",
    "- Decision Tree"
   ]
  },
  {
   "cell_type": "markdown",
   "metadata": {},
   "source": [
    "## Linear Regression"
   ]
  },
  {
   "cell_type": "code",
   "execution_count": 19,
   "metadata": {
    "ExecuteTime": {
     "end_time": "2020-02-07T15:29:19.327953Z",
     "start_time": "2020-02-07T15:29:19.300837Z"
    }
   },
   "outputs": [],
   "source": [
    "from sklearn.linear_model import LinearRegression\n",
    "from sklearn.metrics import mean_squared_error, mean_absolute_error, r2_score\n",
    "\n",
    "# Create linear regression object\n",
    "regr = LinearRegression()"
   ]
  },
  {
   "cell_type": "code",
   "execution_count": 20,
   "metadata": {
    "ExecuteTime": {
     "end_time": "2020-02-07T15:29:19.345640Z",
     "start_time": "2020-02-07T15:29:19.329617Z"
    },
    "scrolled": true
   },
   "outputs": [
    {
     "data": {
      "text/plain": [
       "LinearRegression(copy_X=True, fit_intercept=True, n_jobs=None, normalize=False)"
      ]
     },
     "execution_count": 20,
     "metadata": {},
     "output_type": "execute_result"
    }
   ],
   "source": [
    "# Train the model using the training sets\n",
    "regr.fit(X_train, y_train)"
   ]
  },
  {
   "cell_type": "code",
   "execution_count": 21,
   "metadata": {
    "ExecuteTime": {
     "end_time": "2020-02-07T15:29:19.353958Z",
     "start_time": "2020-02-07T15:29:19.347651Z"
    }
   },
   "outputs": [],
   "source": [
    "# Make predictions using the testing set\n",
    "lin_pred = regr.predict(X_test)"
   ]
  },
  {
   "cell_type": "code",
   "execution_count": 22,
   "metadata": {
    "ExecuteTime": {
     "end_time": "2020-02-07T15:29:19.366233Z",
     "start_time": "2020-02-07T15:29:19.354957Z"
    }
   },
   "outputs": [
    {
     "data": {
      "text/plain": [
       "0.2941727548865405"
      ]
     },
     "execution_count": 22,
     "metadata": {},
     "output_type": "execute_result"
    }
   ],
   "source": [
    "linear_regression_score = regr.score(X_test, y_test)\n",
    "linear_regression_score"
   ]
  },
  {
   "cell_type": "code",
   "execution_count": 23,
   "metadata": {
    "ExecuteTime": {
     "end_time": "2020-02-07T15:29:19.381974Z",
     "start_time": "2020-02-07T15:29:19.368211Z"
    },
    "scrolled": true
   },
   "outputs": [
    {
     "name": "stdout",
     "output_type": "stream",
     "text": [
      "Coefficients: \n",
      " [-4.72569105e-02  2.67970503e-01  4.26913143e+00  1.79076565e+00\n",
      "  4.75168300e-01  1.28494938e+01  2.21852519e-01  1.45660709e-01\n",
      "  2.98366631e+01  7.99286405e+02]\n",
      "Root mean squared error: 6.99\n",
      "Mean absolute error: 5.51\n",
      "R-squared: 0.29\n"
     ]
    }
   ],
   "source": [
    "from math import sqrt\n",
    "# The coefficients\n",
    "print('Coefficients: \\n', regr.coef_)\n",
    "# The mean squared error\n",
    "print(\"Root mean squared error: %.2f\"\n",
    "      % sqrt(mean_squared_error(y_test, lin_pred)))\n",
    "# The absolute squared error\n",
    "print(\"Mean absolute error: %.2f\"\n",
    "      % mean_absolute_error(y_test, lin_pred))\n",
    "# Explained variance score: 1 is perfect prediction\n",
    "print('R-squared: %.2f' % r2_score(y_test, lin_pred))"
   ]
  },
  {
   "cell_type": "code",
   "execution_count": 24,
   "metadata": {
    "ExecuteTime": {
     "end_time": "2020-02-07T15:29:19.603027Z",
     "start_time": "2020-02-07T15:29:19.388861Z"
    }
   },
   "outputs": [
    {
     "data": {
      "image/png": "[encoded data removed]",
      "text/plain": [
       "<Figure size 432x288 with 1 Axes>"
      ]
     },
     "metadata": {
      "needs_background": "light"
     },
     "output_type": "display_data"
    }
   ],
   "source": [
    "import matplotlib.pyplot as plt\n",
    "\n",
    "plt.scatter(y_test, lin_pred)\n",
    "plt.xlabel('Measured')\n",
    "plt.ylabel('Predicted')\n",
    "plt.title('Linear Regression Predicted vs Actual')\n",
    "plt.show()"
   ]
  },
  {
   "cell_type": "markdown",
   "metadata": {},
   "source": [
    "### Neural Network Regression"
   ]
  },
  {
   "cell_type": "code",
   "execution_count": 25,
   "metadata": {
    "ExecuteTime": {
     "end_time": "2020-02-07T15:29:19.613270Z",
     "start_time": "2020-02-07T15:29:19.604968Z"
    }
   },
   "outputs": [],
   "source": [
    "from sklearn.neural_network import MLPRegressor\n",
    "from sklearn.metrics import mean_squared_error, mean_absolute_error, r2_score\n",
    "\n",
    "# Create MLPRegressor object\n",
    "mlp = MLPRegressor()"
   ]
  },
  {
   "cell_type": "code",
   "execution_count": 26,
   "metadata": {
    "ExecuteTime": {
     "end_time": "2020-02-07T15:29:19.836135Z",
     "start_time": "2020-02-07T15:29:19.614674Z"
    }
   },
   "outputs": [
    {
     "data": {
      "text/plain": [
       "MLPRegressor(activation='relu', alpha=0.0001, batch_size='auto', beta_1=0.9,\n",
       "             beta_2=0.999, early_stopping=False, epsilon=1e-08,\n",
       "             hidden_layer_sizes=(100,), learning_rate='constant',\n",
       "             learning_rate_init=0.001, max_iter=200, momentum=0.9,\n",
       "             n_iter_no_change=10, nesterovs_momentum=True, power_t=0.5,\n",
       "             random_state=None, shuffle=True, solver='adam', tol=0.0001,\n",
       "             validation_fraction=0.1, verbose=False, warm_start=False)"
      ]
     },
     "execution_count": 26,
     "metadata": {},
     "output_type": "execute_result"
    }
   ],
   "source": [
    "# Train the model using the training sets\n",
    "mlp.fit(X_train, y_train)"
   ]
  },
  {
   "cell_type": "code",
   "execution_count": 27,
   "metadata": {
    "ExecuteTime": {
     "end_time": "2020-02-07T15:29:19.847844Z",
     "start_time": "2020-02-07T15:29:19.838867Z"
    }
   },
   "outputs": [
    {
     "data": {
      "text/plain": [
       "0.15942472168376776"
      ]
     },
     "execution_count": 27,
     "metadata": {},
     "output_type": "execute_result"
    }
   ],
   "source": [
    "# Score the model\n",
    "neural_network_regression_score = mlp.score(X_test, y_test)\n",
    "neural_network_regression_score"
   ]
  },
  {
   "cell_type": "code",
   "execution_count": 28,
   "metadata": {
    "ExecuteTime": {
     "end_time": "2020-02-07T15:29:19.859947Z",
     "start_time": "2020-02-07T15:29:19.849837Z"
    }
   },
   "outputs": [],
   "source": [
    "# Make predictions using the testing set\n",
    "nnr_pred = mlp.predict(X_test)"
   ]
  },
  {
   "cell_type": "code",
   "execution_count": 29,
   "metadata": {
    "ExecuteTime": {
     "end_time": "2020-02-07T15:29:19.871199Z",
     "start_time": "2020-02-07T15:29:19.862884Z"
    }
   },
   "outputs": [
    {
     "name": "stdout",
     "output_type": "stream",
     "text": [
      "Root mean squared error: 7.63\n",
      "Mean absolute error: 6.01\n",
      "R-squared: 0.16\n"
     ]
    }
   ],
   "source": [
    "# The mean squared error\n",
    "print(\"Root mean squared error: %.2f\"\n",
    "      % sqrt(mean_squared_error(y_test, nnr_pred)))\n",
    "# The absolute squared error\n",
    "print(\"Mean absolute error: %.2f\"\n",
    "      % mean_absolute_error(y_test, nnr_pred))\n",
    "# Explained variance score: 1 is perfect prediction\n",
    "print('R-squared: %.2f' % r2_score(y_test, nnr_pred))"
   ]
  },
  {
   "cell_type": "code",
   "execution_count": 30,
   "metadata": {
    "ExecuteTime": {
     "end_time": "2020-02-07T15:29:20.083084Z",
     "start_time": "2020-02-07T15:29:19.873788Z"
    }
   },
   "outputs": [
    {
     "data": {
      "image/png": "[encoded data removed]",
      "text/plain": [
       "<Figure size 432x288 with 1 Axes>"
      ]
     },
     "metadata": {
      "needs_background": "light"
     },
     "output_type": "display_data"
    }
   ],
   "source": [
    "plt.scatter(y_test, nnr_pred)\n",
    "plt.xlabel('Measured')\n",
    "plt.ylabel('Predicted')\n",
    "plt.title('Neural Network Regression Predicted vs Actual')\n",
    "plt.show()"
   ]
  },
  {
   "cell_type": "markdown",
   "metadata": {},
   "source": [
    "### Lasso"
   ]
  },
  {
   "cell_type": "code",
   "execution_count": 31,
   "metadata": {
    "ExecuteTime": {
     "end_time": "2020-02-07T15:29:20.087817Z",
     "start_time": "2020-02-07T15:29:20.085080Z"
    }
   },
   "outputs": [],
   "source": [
    "from sklearn.linear_model import Lasso\n",
    "\n",
    "lasso = Lasso()"
   ]
  },
  {
   "cell_type": "code",
   "execution_count": 32,
   "metadata": {
    "ExecuteTime": {
     "end_time": "2020-02-07T15:29:20.101775Z",
     "start_time": "2020-02-07T15:29:20.089404Z"
    }
   },
   "outputs": [
    {
     "data": {
      "text/plain": [
       "Lasso(alpha=1.0, copy_X=True, fit_intercept=True, max_iter=1000,\n",
       "      normalize=False, positive=False, precompute=False, random_state=None,\n",
       "      selection='cyclic', tol=0.0001, warm_start=False)"
      ]
     },
     "execution_count": 32,
     "metadata": {},
     "output_type": "execute_result"
    }
   ],
   "source": [
    "lasso.fit(X_train, y_train)"
   ]
  },
  {
   "cell_type": "code",
   "execution_count": 33,
   "metadata": {
    "ExecuteTime": {
     "end_time": "2020-02-07T15:29:20.112841Z",
     "start_time": "2020-02-07T15:29:20.104150Z"
    }
   },
   "outputs": [
    {
     "data": {
      "text/plain": [
       "0.17364298774098186"
      ]
     },
     "execution_count": 33,
     "metadata": {},
     "output_type": "execute_result"
    }
   ],
   "source": [
    "# Score the model\n",
    "lasso_score = lasso.score(X_test, y_test)\n",
    "lasso_score"
   ]
  },
  {
   "cell_type": "code",
   "execution_count": 34,
   "metadata": {
    "ExecuteTime": {
     "end_time": "2020-02-07T15:29:20.122336Z",
     "start_time": "2020-02-07T15:29:20.114958Z"
    }
   },
   "outputs": [],
   "source": [
    "# Make predictions using the testing set\n",
    "lasso_pred = lasso.predict(X_test)"
   ]
  },
  {
   "cell_type": "code",
   "execution_count": 35,
   "metadata": {
    "ExecuteTime": {
     "end_time": "2020-02-07T15:29:20.132278Z",
     "start_time": "2020-02-07T15:29:20.123299Z"
    }
   },
   "outputs": [
    {
     "name": "stdout",
     "output_type": "stream",
     "text": [
      "Root mean squared error: 7.56\n"
     ]
    }
   ],
   "source": [
    "print(\"Root mean squared error: %.2f\"\n",
    "      % sqrt(mean_squared_error(y_test, lasso_pred)))"
   ]
  },
  {
   "cell_type": "code",
   "execution_count": 36,
   "metadata": {
    "ExecuteTime": {
     "end_time": "2020-02-07T15:29:20.431780Z",
     "start_time": "2020-02-07T15:29:20.133242Z"
    }
   },
   "outputs": [
    {
     "data": {
      "image/png": "[encoded data removed]",
      "text/plain": [
       "<Figure size 432x288 with 1 Axes>"
      ]
     },
     "metadata": {
      "needs_background": "light"
     },
     "output_type": "display_data"
    }
   ],
   "source": [
    "plt.scatter(y_test, lasso_pred)\n",
    "plt.xlabel('Measured')\n",
    "plt.ylabel('Predicted')\n",
    "plt.title('Lasso Predicted vs Actual')\n",
    "plt.show()"
   ]
  },
  {
   "cell_type": "markdown",
   "metadata": {},
   "source": [
    "### ElasticNet"
   ]
  },
  {
   "cell_type": "code",
   "execution_count": 37,
   "metadata": {
    "ExecuteTime": {
     "end_time": "2020-02-07T15:29:20.438051Z",
     "start_time": "2020-02-07T15:29:20.431780Z"
    }
   },
   "outputs": [],
   "source": [
    "from sklearn.linear_model import ElasticNet\n",
    "\n",
    "elasticnet = ElasticNet()"
   ]
  },
  {
   "cell_type": "code",
   "execution_count": 38,
   "metadata": {
    "ExecuteTime": {
     "end_time": "2020-02-07T15:29:20.456064Z",
     "start_time": "2020-02-07T15:29:20.440411Z"
    }
   },
   "outputs": [
    {
     "data": {
      "text/plain": [
       "ElasticNet(alpha=1.0, copy_X=True, fit_intercept=True, l1_ratio=0.5,\n",
       "           max_iter=1000, normalize=False, positive=False, precompute=False,\n",
       "           random_state=None, selection='cyclic', tol=0.0001, warm_start=False)"
      ]
     },
     "execution_count": 38,
     "metadata": {},
     "output_type": "execute_result"
    }
   ],
   "source": [
    "elasticnet.fit(X_train, y_train)"
   ]
  },
  {
   "cell_type": "code",
   "execution_count": 39,
   "metadata": {
    "ExecuteTime": {
     "end_time": "2020-02-07T15:29:20.468682Z",
     "start_time": "2020-02-07T15:29:20.459254Z"
    }
   },
   "outputs": [
    {
     "data": {
      "text/plain": [
       "0.17497608916073937"
      ]
     },
     "execution_count": 39,
     "metadata": {},
     "output_type": "execute_result"
    }
   ],
   "source": [
    "elasticnet_score = elasticnet.score(X_test, y_test)\n",
    "elasticnet_score"
   ]
  },
  {
   "cell_type": "code",
   "execution_count": 40,
   "metadata": {
    "ExecuteTime": {
     "end_time": "2020-02-07T15:29:20.478416Z",
     "start_time": "2020-02-07T15:29:20.470262Z"
    }
   },
   "outputs": [],
   "source": [
    "elasticnet_pred = elasticnet.predict(X_test)"
   ]
  },
  {
   "cell_type": "code",
   "execution_count": 41,
   "metadata": {
    "ExecuteTime": {
     "end_time": "2020-02-07T15:29:20.485830Z",
     "start_time": "2020-02-07T15:29:20.480412Z"
    }
   },
   "outputs": [
    {
     "name": "stdout",
     "output_type": "stream",
     "text": [
      "Root mean squared error: 7.56\n"
     ]
    }
   ],
   "source": [
    "# The mean squared error\n",
    "print(\"Root mean squared error: %.2f\"\n",
    "      % sqrt(mean_squared_error(y_test, elasticnet_pred)))"
   ]
  },
  {
   "cell_type": "markdown",
   "metadata": {},
   "source": [
    "### Decision Forest Regression"
   ]
  },
  {
   "cell_type": "code",
   "execution_count": 42,
   "metadata": {
    "ExecuteTime": {
     "end_time": "2020-02-07T15:29:20.531187Z",
     "start_time": "2020-02-07T15:29:20.487466Z"
    }
   },
   "outputs": [],
   "source": [
    "from sklearn.ensemble import RandomForestRegressor\n",
    "from sklearn.metrics import mean_squared_error, mean_absolute_error, r2_score\n",
    "\n",
    "\n",
    "# Create Random Forrest Regressor object\n",
    "regr_rf = RandomForestRegressor(n_estimators=200, random_state=1234)"
   ]
  },
  {
   "cell_type": "code",
   "execution_count": 43,
   "metadata": {
    "ExecuteTime": {
     "end_time": "2020-02-07T15:29:20.992499Z",
     "start_time": "2020-02-07T15:29:20.533003Z"
    }
   },
   "outputs": [
    {
     "data": {
      "text/plain": [
       "RandomForestRegressor(bootstrap=True, criterion='mse', max_depth=None,\n",
       "                      max_features='auto', max_leaf_nodes=None,\n",
       "                      min_impurity_decrease=0.0, min_impurity_split=None,\n",
       "                      min_samples_leaf=1, min_samples_split=2,\n",
       "                      min_weight_fraction_leaf=0.0, n_estimators=200,\n",
       "                      n_jobs=None, oob_score=False, random_state=1234,\n",
       "                      verbose=0, warm_start=False)"
      ]
     },
     "execution_count": 43,
     "metadata": {},
     "output_type": "execute_result"
    }
   ],
   "source": [
    "# Train the model using the training sets\n",
    "regr_rf.fit(X_train, y_train)"
   ]
  },
  {
   "cell_type": "code",
   "execution_count": 44,
   "metadata": {
    "ExecuteTime": {
     "end_time": "2020-02-07T15:29:21.024094Z",
     "start_time": "2020-02-07T15:29:20.995114Z"
    }
   },
   "outputs": [
    {
     "data": {
      "text/plain": [
       "0.7100576666912646"
      ]
     },
     "execution_count": 44,
     "metadata": {},
     "output_type": "execute_result"
    }
   ],
   "source": [
    "# Score the model\n",
    "decision_forest_score = regr_rf.score(X_test, y_test)\n",
    "decision_forest_score"
   ]
  },
  {
   "cell_type": "code",
   "execution_count": 45,
   "metadata": {
    "ExecuteTime": {
     "end_time": "2020-02-07T15:29:21.065925Z",
     "start_time": "2020-02-07T15:29:21.026167Z"
    }
   },
   "outputs": [],
   "source": [
    "# Make predictions using the testing set\n",
    "regr_rf_pred = regr_rf.predict(X_test)"
   ]
  },
  {
   "cell_type": "code",
   "execution_count": 46,
   "metadata": {
    "ExecuteTime": {
     "end_time": "2020-02-07T15:29:21.085462Z",
     "start_time": "2020-02-07T15:29:21.069537Z"
    }
   },
   "outputs": [
    {
     "name": "stdout",
     "output_type": "stream",
     "text": [
      "Root mean squared error: 4.48\n",
      "Mean absolute error: 3.26\n",
      "R-squared: 0.71\n"
     ]
    }
   ],
   "source": [
    "# The mean squared error\n",
    "print(\"Root mean squared error: %.2f\"\n",
    "      % sqrt(mean_squared_error(y_test, regr_rf_pred)))\n",
    "# The absolute squared error\n",
    "print(\"Mean absolute error: %.2f\"\n",
    "      % mean_absolute_error(y_test, regr_rf_pred))\n",
    "# Explained variance score: 1 is perfect prediction\n",
    "print('R-squared: %.2f' % r2_score(y_test, regr_rf_pred))"
   ]
  },
  {
   "cell_type": "code",
   "execution_count": 47,
   "metadata": {
    "ExecuteTime": {
     "end_time": "2020-02-07T15:29:21.099413Z",
     "start_time": "2020-02-07T15:29:21.089909Z"
    }
   },
   "outputs": [
    {
     "data": {
      "text/plain": [
       "Index(['dayname', 'hour', 'week', 'weekend', 'day_period', 'month',\n",
       "       'pm25_week_ago', 'pm25_two_week_ago', 'x', 'trend'],\n",
       "      dtype='object')"
      ]
     },
     "execution_count": 47,
     "metadata": {},
     "output_type": "execute_result"
    }
   ],
   "source": [
    "X.columns"
   ]
  },
  {
   "cell_type": "code",
   "execution_count": 48,
   "metadata": {
    "ExecuteTime": {
     "end_time": "2020-02-07T15:29:21.317016Z",
     "start_time": "2020-02-07T15:29:21.103849Z"
    }
   },
   "outputs": [
    {
     "data": {
      "image/png": "[encoded data removed]",
      "text/plain": [
       "<Figure size 432x288 with 1 Axes>"
      ]
     },
     "metadata": {
      "needs_background": "light"
     },
     "output_type": "display_data"
    }
   ],
   "source": [
    "features = X.columns\n",
    "importances = regr_rf.feature_importances_\n",
    "indices = np.argsort(importances)\n",
    "\n",
    "plt.title('Feature Importances')\n",
    "plt.barh(range(len(indices)), importances[indices], color='b', align='center')\n",
    "plt.yticks(range(len(indices)), features[indices])\n",
    "plt.xlabel('Relative Importance')\n",
    "plt.show()"
   ]
  },
  {
   "cell_type": "code",
   "execution_count": 49,
   "metadata": {
    "ExecuteTime": {
     "end_time": "2020-02-07T15:29:21.488583Z",
     "start_time": "2020-02-07T15:29:21.318311Z"
    }
   },
   "outputs": [
    {
     "data": {
      "image/png": "[encoded data removed]",
      "text/plain": [
       "<Figure size 432x288 with 1 Axes>"
      ]
     },
     "metadata": {
      "needs_background": "light"
     },
     "output_type": "display_data"
    }
   ],
   "source": [
    "plt.scatter(y_test, regr_rf_pred)\n",
    "plt.xlabel('Measured')\n",
    "plt.ylabel('Predicted')\n",
    "plt.title('Decision Forest Predicted vs Actual')\n",
    "plt.show()"
   ]
  },
  {
   "cell_type": "markdown",
   "metadata": {},
   "source": [
    "### Extra Trees Regression"
   ]
  },
  {
   "cell_type": "code",
   "execution_count": 50,
   "metadata": {
    "ExecuteTime": {
     "end_time": "2020-02-07T15:29:21.495615Z",
     "start_time": "2020-02-07T15:29:21.491805Z"
    }
   },
   "outputs": [],
   "source": [
    "from sklearn.ensemble import ExtraTreesRegressor\n",
    "\n",
    "extra_tree = ExtraTreesRegressor(n_estimators=200, random_state=1234)"
   ]
  },
  {
   "cell_type": "code",
   "execution_count": 51,
   "metadata": {
    "ExecuteTime": {
     "end_time": "2020-02-07T15:29:22.011608Z",
     "start_time": "2020-02-07T15:29:21.497340Z"
    }
   },
   "outputs": [
    {
     "data": {
      "text/plain": [
       "0.7639978450303125"
      ]
     },
     "execution_count": 51,
     "metadata": {},
     "output_type": "execute_result"
    }
   ],
   "source": [
    "extra_tree.fit(X_train, y_train)\n",
    "extratree_score = extra_tree.score(X_test, y_test)\n",
    "extratree_score"
   ]
  },
  {
   "cell_type": "code",
   "execution_count": 52,
   "metadata": {
    "ExecuteTime": {
     "end_time": "2020-02-07T15:29:22.058234Z",
     "start_time": "2020-02-07T15:29:22.015564Z"
    }
   },
   "outputs": [],
   "source": [
    "extratree_pred = extra_tree.predict(X_test)"
   ]
  },
  {
   "cell_type": "code",
   "execution_count": 53,
   "metadata": {
    "ExecuteTime": {
     "end_time": "2020-02-07T15:29:22.065199Z",
     "start_time": "2020-02-07T15:29:22.061029Z"
    }
   },
   "outputs": [
    {
     "name": "stdout",
     "output_type": "stream",
     "text": [
      "Root mean squared error: 4.04\n"
     ]
    }
   ],
   "source": [
    "print(\"Root mean squared error: %.2f\"\n",
    "      % sqrt(mean_squared_error(y_test, extratree_pred)))"
   ]
  },
  {
   "cell_type": "code",
   "execution_count": 54,
   "metadata": {
    "ExecuteTime": {
     "end_time": "2020-02-07T15:29:22.230406Z",
     "start_time": "2020-02-07T15:29:22.067687Z"
    }
   },
   "outputs": [
    {
     "data": {
      "image/png": "[encoded data removed]",
      "text/plain": [
       "<Figure size 432x288 with 1 Axes>"
      ]
     },
     "metadata": {
      "needs_background": "light"
     },
     "output_type": "display_data"
    }
   ],
   "source": [
    "features = X.columns\n",
    "importances = extra_tree.feature_importances_\n",
    "indices = np.argsort(importances)\n",
    "\n",
    "plt.title('Feature Importances')\n",
    "plt.barh(range(len(indices)), importances[indices], color='b', align='center')\n",
    "plt.yticks(range(len(indices)), features[indices])\n",
    "plt.xlabel('Relative Importance')\n",
    "plt.show()"
   ]
  },
  {
   "cell_type": "code",
   "execution_count": 55,
   "metadata": {
    "ExecuteTime": {
     "end_time": "2020-02-07T15:29:22.410712Z",
     "start_time": "2020-02-07T15:29:22.231406Z"
    }
   },
   "outputs": [
    {
     "data": {
      "image/png": "[encoded data removed]",
      "text/plain": [
       "<Figure size 432x288 with 1 Axes>"
      ]
     },
     "metadata": {
      "needs_background": "light"
     },
     "output_type": "display_data"
    }
   ],
   "source": [
    "plt.scatter(y_test, extratree_pred)\n",
    "plt.xlabel('Measured')\n",
    "plt.ylabel('Predicted')\n",
    "plt.title('Extra Trees Predicted vs Actual')\n",
    "plt.show()"
   ]
  },
  {
   "cell_type": "markdown",
   "metadata": {},
   "source": [
    "### Decision Tree + AdaBoost"
   ]
  },
  {
   "cell_type": "code",
   "execution_count": 56,
   "metadata": {
    "ExecuteTime": {
     "end_time": "2020-02-07T15:29:22.417757Z",
     "start_time": "2020-02-07T15:29:22.413023Z"
    }
   },
   "outputs": [],
   "source": [
    "from sklearn.tree import DecisionTreeRegressor\n",
    "from sklearn.ensemble import AdaBoostRegressor\n",
    "from sklearn.metrics import mean_squared_error, mean_absolute_error, r2_score\n",
    "\n",
    "# Create Decision Tree Regressor object\n",
    "tree_1 = DecisionTreeRegressor()\n",
    "\n",
    "tree_2 = AdaBoostRegressor(DecisionTreeRegressor(), n_estimators=200, learning_rate=.1)"
   ]
  },
  {
   "cell_type": "code",
   "execution_count": 57,
   "metadata": {
    "ExecuteTime": {
     "end_time": "2020-02-07T15:29:23.187591Z",
     "start_time": "2020-02-07T15:29:22.419368Z"
    }
   },
   "outputs": [
    {
     "data": {
      "text/plain": [
       "AdaBoostRegressor(base_estimator=DecisionTreeRegressor(criterion='mse',\n",
       "                                                       max_depth=None,\n",
       "                                                       max_features=None,\n",
       "                                                       max_leaf_nodes=None,\n",
       "                                                       min_impurity_decrease=0.0,\n",
       "                                                       min_impurity_split=None,\n",
       "                                                       min_samples_leaf=1,\n",
       "                                                       min_samples_split=2,\n",
       "                                                       min_weight_fraction_leaf=0.0,\n",
       "                                                       presort=False,\n",
       "                                                       random_state=None,\n",
       "                                                       splitter='best'),\n",
       "                  learning_rate=0.1, loss='linear', n_estimators=200,\n",
       "                  random_state=None)"
      ]
     },
     "execution_count": 57,
     "metadata": {},
     "output_type": "execute_result"
    }
   ],
   "source": [
    "# Train the model using the training sets\n",
    "tree_1.fit(X_train, y_train)\n",
    "tree_2.fit(X_train, y_train)"
   ]
  },
  {
   "cell_type": "code",
   "execution_count": 58,
   "metadata": {
    "ExecuteTime": {
     "end_time": "2020-02-07T15:29:23.200637Z",
     "start_time": "2020-02-07T15:29:23.189589Z"
    }
   },
   "outputs": [
    {
     "data": {
      "text/plain": [
       "0.5169321860606024"
      ]
     },
     "execution_count": 58,
     "metadata": {},
     "output_type": "execute_result"
    }
   ],
   "source": [
    "# Score the decision tree model\n",
    "tree_1.score(X_test, y_test)"
   ]
  },
  {
   "cell_type": "code",
   "execution_count": 59,
   "metadata": {
    "ExecuteTime": {
     "end_time": "2020-02-07T15:29:23.250621Z",
     "start_time": "2020-02-07T15:29:23.202779Z"
    }
   },
   "outputs": [
    {
     "data": {
      "text/plain": [
       "0.6446196757881202"
      ]
     },
     "execution_count": 59,
     "metadata": {},
     "output_type": "execute_result"
    }
   ],
   "source": [
    "# Score the boosted decision tree model\n",
    "boosted_tree_score = tree_2.score(X_test, y_test)\n",
    "boosted_tree_score"
   ]
  },
  {
   "cell_type": "code",
   "execution_count": 60,
   "metadata": {
    "ExecuteTime": {
     "end_time": "2020-02-07T15:29:23.298080Z",
     "start_time": "2020-02-07T15:29:23.252607Z"
    }
   },
   "outputs": [],
   "source": [
    "# Make predictions using the testing set\n",
    "tree_1_pred = tree_1.predict(X_test)\n",
    "tree_2_pred = tree_2.predict(X_test)"
   ]
  },
  {
   "cell_type": "code",
   "execution_count": 61,
   "metadata": {
    "ExecuteTime": {
     "end_time": "2020-02-07T15:29:23.309214Z",
     "start_time": "2020-02-07T15:29:23.299065Z"
    }
   },
   "outputs": [
    {
     "name": "stdout",
     "output_type": "stream",
     "text": [
      "Coefficients: \n",
      " [-4.72569105e-02  2.67970503e-01  4.26913143e+00  1.79076565e+00\n",
      "  4.75168300e-01  1.28494938e+01  2.21852519e-01  1.45660709e-01\n",
      "  2.98366631e+01  7.99286405e+02]\n",
      "Root mean squared error: 4.96\n",
      "Mean absolute error: 3.23\n",
      "R-squared: 0.64\n"
     ]
    }
   ],
   "source": [
    "# The coefficients\n",
    "print('Coefficients: \\n', regr.coef_)\n",
    "# The mean squared error\n",
    "print(\"Root mean squared error: %.2f\"\n",
    "      % sqrt(mean_squared_error(y_test, tree_2_pred)))\n",
    "# The absolute squared error\n",
    "print(\"Mean absolute error: %.2f\"\n",
    "      % mean_absolute_error(y_test, tree_2_pred))\n",
    "# Explained variance score: 1 is perfect prediction\n",
    "print('R-squared: %.2f' % r2_score(y_test, tree_2_pred))"
   ]
  },
  {
   "cell_type": "code",
   "execution_count": 62,
   "metadata": {
    "ExecuteTime": {
     "end_time": "2020-02-07T15:29:23.475786Z",
     "start_time": "2020-02-07T15:29:23.312241Z"
    }
   },
   "outputs": [
    {
     "data": {
      "image/png": "[encoded data removed]",
      "text/plain": [
       "<Figure size 432x288 with 1 Axes>"
      ]
     },
     "metadata": {
      "needs_background": "light"
     },
     "output_type": "display_data"
    }
   ],
   "source": [
    "features = X.columns\n",
    "importances = tree_2.feature_importances_\n",
    "indices = np.argsort(importances)\n",
    "\n",
    "plt.title('Feature Importances')\n",
    "plt.barh(range(len(indices)), importances[indices], color='b', align='center')\n",
    "plt.yticks(range(len(indices)), features[indices])\n",
    "plt.xlabel('Relative Importance')\n",
    "plt.show()"
   ]
  },
  {
   "cell_type": "code",
   "execution_count": 63,
   "metadata": {
    "ExecuteTime": {
     "end_time": "2020-02-07T15:29:23.699460Z",
     "start_time": "2020-02-07T15:29:23.477999Z"
    }
   },
   "outputs": [
    {
     "data": {
      "image/png": "[encoded data removed]",
      "text/plain": [
       "<Figure size 432x288 with 1 Axes>"
      ]
     },
     "metadata": {
      "needs_background": "light"
     },
     "output_type": "display_data"
    }
   ],
   "source": [
    "plt.scatter(y_test, tree_1_pred)\n",
    "plt.xlabel('Measured')\n",
    "plt.ylabel('Predicted')\n",
    "plt.title('Decision Tree Predicted vs Actual')\n",
    "plt.show()"
   ]
  },
  {
   "cell_type": "code",
   "execution_count": 64,
   "metadata": {
    "ExecuteTime": {
     "end_time": "2020-02-07T15:29:23.854062Z",
     "start_time": "2020-02-07T15:29:23.702286Z"
    }
   },
   "outputs": [
    {
     "data": {
      "image/png": "[encoded data removed]",
      "text/plain": [
       "<Figure size 432x288 with 1 Axes>"
      ]
     },
     "metadata": {
      "needs_background": "light"
     },
     "output_type": "display_data"
    }
   ],
   "source": [
    "plt.scatter(y_test, tree_2_pred)\n",
    "plt.xlabel('Measured')\n",
    "plt.ylabel('Predicted')\n",
    "plt.title('Boosted Decision Tree Predicted vs Actual')\n",
    "plt.show()"
   ]
  },
  {
   "cell_type": "markdown",
   "metadata": {},
   "source": [
    "### XGBoost"
   ]
  },
  {
   "cell_type": "code",
   "execution_count": 65,
   "metadata": {
    "ExecuteTime": {
     "end_time": "2020-02-07T15:29:23.861171Z",
     "start_time": "2020-02-07T15:29:23.857065Z"
    }
   },
   "outputs": [],
   "source": [
    "from xgboost.sklearn import XGBRegressor\n",
    "\n",
    "#Fitting XGB regressor \n",
    "xboost = XGBRegressor(n_estimators=200)"
   ]
  },
  {
   "cell_type": "code",
   "execution_count": 66,
   "metadata": {
    "ExecuteTime": {
     "end_time": "2020-02-07T15:29:23.880223Z",
     "start_time": "2020-02-07T15:29:23.863657Z"
    },
    "scrolled": true
   },
   "outputs": [
    {
     "data": {
      "text/plain": [
       "dayname                int64\n",
       "hour                   int64\n",
       "week                   int64\n",
       "weekend                 bool\n",
       "day_period             int32\n",
       "month                  int32\n",
       "pm25_week_ago        float64\n",
       "pm25_two_week_ago    float64\n",
       "x                      int64\n",
       "trend                float64\n",
       "dtype: object"
      ]
     },
     "execution_count": 66,
     "metadata": {},
     "output_type": "execute_result"
    }
   ],
   "source": [
    "X_train.dtypes"
   ]
  },
  {
   "cell_type": "code",
   "execution_count": 67,
   "metadata": {
    "ExecuteTime": {
     "end_time": "2020-02-07T15:29:23.899612Z",
     "start_time": "2020-02-07T15:29:23.882743Z"
    }
   },
   "outputs": [
    {
     "data": {
      "text/html": [
       "<div>\n",
       "<style scoped>\n",
       "    .dataframe tbody tr th:only-of-type {\n",
       "        vertical-align: middle;\n",
       "    }\n",
       "\n",
       "    .dataframe tbody tr th {\n",
       "        vertical-align: top;\n",
       "    }\n",
       "\n",
       "    .dataframe thead th {\n",
       "        text-align: right;\n",
       "    }\n",
       "</style>\n",
       "<table border=\"1\" class=\"dataframe\">\n",
       "  <thead>\n",
       "    <tr style=\"text-align: right;\">\n",
       "      <th></th>\n",
       "      <th>dayname</th>\n",
       "      <th>hour</th>\n",
       "      <th>week</th>\n",
       "      <th>weekend</th>\n",
       "      <th>day_period</th>\n",
       "      <th>month</th>\n",
       "      <th>pm25_week_ago</th>\n",
       "      <th>pm25_two_week_ago</th>\n",
       "      <th>x</th>\n",
       "      <th>trend</th>\n",
       "    </tr>\n",
       "  </thead>\n",
       "  <tbody>\n",
       "    <tr>\n",
       "      <td>652</td>\n",
       "      <td>5</td>\n",
       "      <td>12</td>\n",
       "      <td>23</td>\n",
       "      <td>True</td>\n",
       "      <td>2</td>\n",
       "      <td>6</td>\n",
       "      <td>16.43</td>\n",
       "      <td>16.430</td>\n",
       "      <td>166</td>\n",
       "      <td>16.39232</td>\n",
       "    </tr>\n",
       "    <tr>\n",
       "      <td>753</td>\n",
       "      <td>6</td>\n",
       "      <td>5</td>\n",
       "      <td>23</td>\n",
       "      <td>True</td>\n",
       "      <td>1</td>\n",
       "      <td>6</td>\n",
       "      <td>13.82</td>\n",
       "      <td>6.360</td>\n",
       "      <td>167</td>\n",
       "      <td>16.35353</td>\n",
       "    </tr>\n",
       "    <tr>\n",
       "      <td>167</td>\n",
       "      <td>1</td>\n",
       "      <td>11</td>\n",
       "      <td>24</td>\n",
       "      <td>False</td>\n",
       "      <td>2</td>\n",
       "      <td>6</td>\n",
       "      <td>12.44</td>\n",
       "      <td>15.500</td>\n",
       "      <td>169</td>\n",
       "      <td>16.27637</td>\n",
       "    </tr>\n",
       "    <tr>\n",
       "      <td>452</td>\n",
       "      <td>3</td>\n",
       "      <td>20</td>\n",
       "      <td>24</td>\n",
       "      <td>False</td>\n",
       "      <td>3</td>\n",
       "      <td>6</td>\n",
       "      <td>0.92</td>\n",
       "      <td>18.466</td>\n",
       "      <td>171</td>\n",
       "      <td>16.19977</td>\n",
       "    </tr>\n",
       "    <tr>\n",
       "      <td>467</td>\n",
       "      <td>3</td>\n",
       "      <td>23</td>\n",
       "      <td>24</td>\n",
       "      <td>False</td>\n",
       "      <td>0</td>\n",
       "      <td>6</td>\n",
       "      <td>5.50</td>\n",
       "      <td>18.032</td>\n",
       "      <td>171</td>\n",
       "      <td>16.19977</td>\n",
       "    </tr>\n",
       "  </tbody>\n",
       "</table>\n",
       "</div>"
      ],
      "text/plain": [
       "     dayname  hour  week  weekend  day_period  month  pm25_week_ago  \\\n",
       "652        5    12    23     True           2      6          16.43   \n",
       "753        6     5    23     True           1      6          13.82   \n",
       "167        1    11    24    False           2      6          12.44   \n",
       "452        3    20    24    False           3      6           0.92   \n",
       "467        3    23    24    False           0      6           5.50   \n",
       "\n",
       "     pm25_two_week_ago    x     trend  \n",
       "652             16.430  166  16.39232  \n",
       "753              6.360  167  16.35353  \n",
       "167             15.500  169  16.27637  \n",
       "452             18.466  171  16.19977  \n",
       "467             18.032  171  16.19977  "
      ]
     },
     "execution_count": 67,
     "metadata": {},
     "output_type": "execute_result"
    }
   ],
   "source": [
    "X_train.head()"
   ]
  },
  {
   "cell_type": "code",
   "execution_count": 68,
   "metadata": {
    "ExecuteTime": {
     "end_time": "2020-02-07T15:29:23.908015Z",
     "start_time": "2020-02-07T15:29:23.901525Z"
    }
   },
   "outputs": [
    {
     "data": {
      "text/plain": [
       "Index(['dayname', 'hour', 'week', 'weekend', 'day_period', 'month',\n",
       "       'pm25_week_ago', 'pm25_two_week_ago', 'x', 'trend'],\n",
       "      dtype='object')"
      ]
     },
     "execution_count": 68,
     "metadata": {},
     "output_type": "execute_result"
    }
   ],
   "source": [
    "X_train.columns"
   ]
  },
  {
   "cell_type": "code",
   "execution_count": 69,
   "metadata": {
    "ExecuteTime": {
     "end_time": "2020-02-07T15:29:23.931925Z",
     "start_time": "2020-02-07T15:29:23.917549Z"
    }
   },
   "outputs": [
    {
     "name": "stderr",
     "output_type": "stream",
     "text": [
      "C:\\Users\\danma\\Anaconda3\\lib\\site-packages\\ipykernel_launcher.py:1: SettingWithCopyWarning: \n",
      "A value is trying to be set on a copy of a slice from a DataFrame.\n",
      "Try using .loc[row_indexer,col_indexer] = value instead\n",
      "\n",
      "See the caveats in the documentation: http://pandas.pydata.org/pandas-docs/stable/user_guide/indexing.html#returning-a-view-versus-a-copy\n",
      "  \"\"\"Entry point for launching an IPython kernel.\n",
      "C:\\Users\\danma\\Anaconda3\\lib\\site-packages\\ipykernel_launcher.py:2: SettingWithCopyWarning: \n",
      "A value is trying to be set on a copy of a slice from a DataFrame.\n",
      "Try using .loc[row_indexer,col_indexer] = value instead\n",
      "\n",
      "See the caveats in the documentation: http://pandas.pydata.org/pandas-docs/stable/user_guide/indexing.html#returning-a-view-versus-a-copy\n",
      "  \n"
     ]
    }
   ],
   "source": [
    "X_train['day_period']=X_train.day_period.astype('int')\n",
    "X_train['month']=X_train.month.astype('int')"
   ]
  },
  {
   "cell_type": "code",
   "execution_count": 70,
   "metadata": {
    "ExecuteTime": {
     "end_time": "2020-02-07T15:29:23.942358Z",
     "start_time": "2020-02-07T15:29:23.934875Z"
    }
   },
   "outputs": [
    {
     "data": {
      "text/plain": [
       "dayname                int64\n",
       "hour                   int64\n",
       "week                   int64\n",
       "weekend                 bool\n",
       "day_period             int32\n",
       "month                  int32\n",
       "pm25_week_ago        float64\n",
       "pm25_two_week_ago    float64\n",
       "x                      int64\n",
       "trend                float64\n",
       "dtype: object"
      ]
     },
     "execution_count": 70,
     "metadata": {},
     "output_type": "execute_result"
    }
   ],
   "source": [
    "X_train.dtypes"
   ]
  },
  {
   "cell_type": "code",
   "execution_count": 71,
   "metadata": {
    "ExecuteTime": {
     "end_time": "2020-02-07T15:29:26.027172Z",
     "start_time": "2020-02-07T15:29:23.944382Z"
    }
   },
   "outputs": [
    {
     "name": "stderr",
     "output_type": "stream",
     "text": [
      "C:\\Users\\danma\\Anaconda3\\lib\\site-packages\\xgboost\\core.py:587: FutureWarning: Series.base is deprecated and will be removed in a future version\n",
      "  if getattr(data, 'base', None) is not None and \\\n"
     ]
    },
    {
     "name": "stdout",
     "output_type": "stream",
     "text": [
      "[16:29:23] WARNING: C:/Jenkins/workspace/xgboost-win64_release_0.90/src/objective/regression_obj.cu:152: reg:linear is now deprecated in favor of reg:squarederror.\n"
     ]
    },
    {
     "data": {
      "text/plain": [
       "XGBRegressor(base_score=0.5, booster='gbtree', colsample_bylevel=1,\n",
       "             colsample_bynode=1, colsample_bytree=1, gamma=0,\n",
       "             importance_type='gain', learning_rate=0.1, max_delta_step=0,\n",
       "             max_depth=3, min_child_weight=1, missing=None, n_estimators=200,\n",
       "             n_jobs=1, nthread=None, objective='reg:linear', random_state=0,\n",
       "             reg_alpha=0, reg_lambda=1, scale_pos_weight=1, seed=None,\n",
       "             silent=None, subsample=1, verbosity=1)"
      ]
     },
     "execution_count": 71,
     "metadata": {},
     "output_type": "execute_result"
    }
   ],
   "source": [
    "xboost.fit(X_train, y_train)"
   ]
  },
  {
   "cell_type": "code",
   "execution_count": 72,
   "metadata": {
    "ExecuteTime": {
     "end_time": "2020-02-07T15:29:26.037809Z",
     "start_time": "2020-02-07T15:29:26.029492Z"
    }
   },
   "outputs": [
    {
     "name": "stderr",
     "output_type": "stream",
     "text": [
      "C:\\Users\\danma\\Anaconda3\\lib\\site-packages\\ipykernel_launcher.py:1: SettingWithCopyWarning: \n",
      "A value is trying to be set on a copy of a slice from a DataFrame.\n",
      "Try using .loc[row_indexer,col_indexer] = value instead\n",
      "\n",
      "See the caveats in the documentation: http://pandas.pydata.org/pandas-docs/stable/user_guide/indexing.html#returning-a-view-versus-a-copy\n",
      "  \"\"\"Entry point for launching an IPython kernel.\n",
      "C:\\Users\\danma\\Anaconda3\\lib\\site-packages\\ipykernel_launcher.py:2: SettingWithCopyWarning: \n",
      "A value is trying to be set on a copy of a slice from a DataFrame.\n",
      "Try using .loc[row_indexer,col_indexer] = value instead\n",
      "\n",
      "See the caveats in the documentation: http://pandas.pydata.org/pandas-docs/stable/user_guide/indexing.html#returning-a-view-versus-a-copy\n",
      "  \n"
     ]
    }
   ],
   "source": [
    "X_test['day_period']=X_test.day_period.astype('int')\n",
    "X_test['month']=X_test.month.astype('int')"
   ]
  },
  {
   "cell_type": "code",
   "execution_count": 73,
   "metadata": {
    "ExecuteTime": {
     "end_time": "2020-02-07T15:29:26.065665Z",
     "start_time": "2020-02-07T15:29:26.041564Z"
    }
   },
   "outputs": [
    {
     "data": {
      "text/plain": [
       "0.7280852364537784"
      ]
     },
     "execution_count": 73,
     "metadata": {},
     "output_type": "execute_result"
    }
   ],
   "source": [
    "xgb_score = xboost.score(X_test, y_test)\n",
    "xgb_score"
   ]
  },
  {
   "cell_type": "code",
   "execution_count": 74,
   "metadata": {
    "ExecuteTime": {
     "end_time": "2020-02-07T15:29:26.079430Z",
     "start_time": "2020-02-07T15:29:26.066656Z"
    }
   },
   "outputs": [],
   "source": [
    "#Predict \n",
    "xboost_pred = xboost.predict(X_test)"
   ]
  },
  {
   "cell_type": "code",
   "execution_count": 75,
   "metadata": {
    "ExecuteTime": {
     "end_time": "2020-02-07T15:29:26.086369Z",
     "start_time": "2020-02-07T15:29:26.081426Z"
    }
   },
   "outputs": [
    {
     "name": "stdout",
     "output_type": "stream",
     "text": [
      "Root mean squared error: 4.34\n"
     ]
    }
   ],
   "source": [
    "print(\"Root mean squared error: %.2f\"\n",
    "      % sqrt(mean_squared_error(y_test, xboost_pred)))"
   ]
  },
  {
   "cell_type": "code",
   "execution_count": 76,
   "metadata": {
    "ExecuteTime": {
     "end_time": "2020-02-07T15:29:26.397363Z",
     "start_time": "2020-02-07T15:29:26.088798Z"
    }
   },
   "outputs": [
    {
     "data": {
      "image/png": "[encoded data removed]",
      "text/plain": [
       "<Figure size 432x288 with 1 Axes>"
      ]
     },
     "metadata": {
      "needs_background": "light"
     },
     "output_type": "display_data"
    }
   ],
   "source": [
    "plt.scatter(y_test, xboost_pred)\n",
    "plt.xlabel('Measured')\n",
    "plt.ylabel('Predicted')\n",
    "plt.title('XGBoost Predicted vs Actual')\n",
    "plt.show()"
   ]
  },
  {
   "cell_type": "markdown",
   "metadata": {},
   "source": [
    "# Evaluate Models"
   ]
  },
  {
   "cell_type": "code",
   "execution_count": 77,
   "metadata": {
    "ExecuteTime": {
     "end_time": "2020-02-07T15:29:26.434973Z",
     "start_time": "2020-02-07T15:29:26.402229Z"
    }
   },
   "outputs": [
    {
     "name": "stdout",
     "output_type": "stream",
     "text": [
      "Scores:\n",
      "Linear regression score:  0.2941727548865405\n",
      "Neural network regression score:  0.15942472168376776\n",
      "Lasso regression score:  0.17364298774098186\n",
      "ElasticNet regression score:  0.17497608916073937\n",
      "Decision forest score:  0.7100576666912646\n",
      "Extra Trees score:  0.7639978450303125\n",
      "Boosted decision tree score:  0.6446196757881202\n",
      "\n",
      "\n",
      "RMSE:\n",
      "Linear regression RMSE: 6.99\n",
      "Neural network RMSE: 7.63\n",
      "Lasso RMSE: 7.56\n",
      "ElasticNet RMSE: 7.56\n",
      "Decision forest RMSE: 4.48\n",
      "Extra Trees RMSE: 4.04\n",
      "Boosted decision tree RMSE: 4.96\n"
     ]
    }
   ],
   "source": [
    "print(\"Scores:\")\n",
    "print(\"Linear regression score: \", linear_regression_score)\n",
    "print(\"Neural network regression score: \", neural_network_regression_score)\n",
    "print(\"Lasso regression score: \", lasso_score)\n",
    "print(\"ElasticNet regression score: \", elasticnet_score)\n",
    "print(\"Decision forest score: \", decision_forest_score)\n",
    "print(\"Extra Trees score: \", extratree_score)\n",
    "print(\"Boosted decision tree score: \", boosted_tree_score)\n",
    "#print(\"XGBoost score:\", xgb_score)\n",
    "print(\"\\n\")\n",
    "print(\"RMSE:\")\n",
    "print(\"Linear regression RMSE: %.2f\"\n",
    "      % sqrt(mean_squared_error(y_test, lin_pred)))\n",
    "print(\"Neural network RMSE: %.2f\"\n",
    "      % sqrt(mean_squared_error(y_test, nnr_pred)))\n",
    "print(\"Lasso RMSE: %.2f\"\n",
    "      % sqrt(mean_squared_error(y_test, lasso_pred)))\n",
    "print(\"ElasticNet RMSE: %.2f\"\n",
    "      % sqrt(mean_squared_error(y_test, elasticnet_pred)))\n",
    "print(\"Decision forest RMSE: %.2f\"\n",
    "      % sqrt(mean_squared_error(y_test, regr_rf_pred)))\n",
    "print(\"Extra Trees RMSE: %.2f\"\n",
    "      % sqrt(mean_squared_error(y_test, extratree_pred)))\n",
    "print(\"Boosted decision tree RMSE: %.2f\"\n",
    "      % sqrt(mean_squared_error(y_test, tree_2_pred)))\n",
    "#print(\"XGBoost RMSE: %.2f\"\n",
    "#      % sqrt(mean_squared_error(y_test, xboost_pred)))"
   ]
  },
  {
   "cell_type": "code",
   "execution_count": 78,
   "metadata": {
    "ExecuteTime": {
     "end_time": "2020-02-07T15:29:26.457480Z",
     "start_time": "2020-02-07T15:29:26.442444Z"
    }
   },
   "outputs": [
    {
     "data": {
      "text/plain": [
       "Index(['dayname', 'hour', 'week', 'weekend', 'day_period', 'month',\n",
       "       'pm25_week_ago', 'pm25_two_week_ago', 'x', 'trend'],\n",
       "      dtype='object')"
      ]
     },
     "execution_count": 78,
     "metadata": {},
     "output_type": "execute_result"
    }
   ],
   "source": [
    "X_train.columns"
   ]
  },
  {
   "cell_type": "code",
   "execution_count": 79,
   "metadata": {
    "ExecuteTime": {
     "end_time": "2020-02-07T15:29:26.511373Z",
     "start_time": "2020-02-07T15:29:26.462611Z"
    },
    "scrolled": true
   },
   "outputs": [
    {
     "data": {
      "text/html": [
       "<div>\n",
       "<style scoped>\n",
       "    .dataframe tbody tr th:only-of-type {\n",
       "        vertical-align: middle;\n",
       "    }\n",
       "\n",
       "    .dataframe tbody tr th {\n",
       "        vertical-align: top;\n",
       "    }\n",
       "\n",
       "    .dataframe thead th {\n",
       "        text-align: right;\n",
       "    }\n",
       "</style>\n",
       "<table border=\"1\" class=\"dataframe\">\n",
       "  <thead>\n",
       "    <tr style=\"text-align: right;\">\n",
       "      <th></th>\n",
       "      <th>dayname</th>\n",
       "      <th>hour</th>\n",
       "      <th>week</th>\n",
       "      <th>weekend</th>\n",
       "      <th>day_period</th>\n",
       "      <th>month</th>\n",
       "      <th>pm25_week_ago</th>\n",
       "      <th>pm25_two_week_ago</th>\n",
       "      <th>x</th>\n",
       "      <th>trend</th>\n",
       "    </tr>\n",
       "  </thead>\n",
       "  <tbody>\n",
       "    <tr>\n",
       "      <td>444</td>\n",
       "      <td>3</td>\n",
       "      <td>18</td>\n",
       "      <td>26</td>\n",
       "      <td>False</td>\n",
       "      <td>3</td>\n",
       "      <td>6</td>\n",
       "      <td>20.110</td>\n",
       "      <td>7.000</td>\n",
       "      <td>185</td>\n",
       "      <td>15.67925</td>\n",
       "    </tr>\n",
       "    <tr>\n",
       "      <td>146</td>\n",
       "      <td>1</td>\n",
       "      <td>7</td>\n",
       "      <td>23</td>\n",
       "      <td>False</td>\n",
       "      <td>1</td>\n",
       "      <td>6</td>\n",
       "      <td>8.350</td>\n",
       "      <td>9.936</td>\n",
       "      <td>162</td>\n",
       "      <td>16.54888</td>\n",
       "    </tr>\n",
       "    <tr>\n",
       "      <td>122</td>\n",
       "      <td>1</td>\n",
       "      <td>2</td>\n",
       "      <td>24</td>\n",
       "      <td>False</td>\n",
       "      <td>0</td>\n",
       "      <td>6</td>\n",
       "      <td>24.200</td>\n",
       "      <td>7.320</td>\n",
       "      <td>169</td>\n",
       "      <td>16.27637</td>\n",
       "    </tr>\n",
       "    <tr>\n",
       "      <td>226</td>\n",
       "      <td>2</td>\n",
       "      <td>1</td>\n",
       "      <td>24</td>\n",
       "      <td>False</td>\n",
       "      <td>0</td>\n",
       "      <td>6</td>\n",
       "      <td>28.690</td>\n",
       "      <td>16.312</td>\n",
       "      <td>170</td>\n",
       "      <td>16.23800</td>\n",
       "    </tr>\n",
       "    <tr>\n",
       "      <td>322</td>\n",
       "      <td>2</td>\n",
       "      <td>19</td>\n",
       "      <td>24</td>\n",
       "      <td>False</td>\n",
       "      <td>3</td>\n",
       "      <td>6</td>\n",
       "      <td>18.600</td>\n",
       "      <td>17.000</td>\n",
       "      <td>170</td>\n",
       "      <td>16.23800</td>\n",
       "    </tr>\n",
       "    <tr>\n",
       "      <td>...</td>\n",
       "      <td>...</td>\n",
       "      <td>...</td>\n",
       "      <td>...</td>\n",
       "      <td>...</td>\n",
       "      <td>...</td>\n",
       "      <td>...</td>\n",
       "      <td>...</td>\n",
       "      <td>...</td>\n",
       "      <td>...</td>\n",
       "      <td>...</td>\n",
       "    </tr>\n",
       "    <tr>\n",
       "      <td>305</td>\n",
       "      <td>2</td>\n",
       "      <td>16</td>\n",
       "      <td>23</td>\n",
       "      <td>False</td>\n",
       "      <td>3</td>\n",
       "      <td>6</td>\n",
       "      <td>17.422</td>\n",
       "      <td>24.000</td>\n",
       "      <td>163</td>\n",
       "      <td>16.50953</td>\n",
       "    </tr>\n",
       "    <tr>\n",
       "      <td>153</td>\n",
       "      <td>1</td>\n",
       "      <td>8</td>\n",
       "      <td>25</td>\n",
       "      <td>False</td>\n",
       "      <td>1</td>\n",
       "      <td>6</td>\n",
       "      <td>6.700</td>\n",
       "      <td>19.330</td>\n",
       "      <td>176</td>\n",
       "      <td>16.01072</td>\n",
       "    </tr>\n",
       "    <tr>\n",
       "      <td>828</td>\n",
       "      <td>6</td>\n",
       "      <td>18</td>\n",
       "      <td>21</td>\n",
       "      <td>True</td>\n",
       "      <td>3</td>\n",
       "      <td>5</td>\n",
       "      <td>18.474</td>\n",
       "      <td>18.474</td>\n",
       "      <td>153</td>\n",
       "      <td>16.90933</td>\n",
       "    </tr>\n",
       "    <tr>\n",
       "      <td>412</td>\n",
       "      <td>3</td>\n",
       "      <td>12</td>\n",
       "      <td>24</td>\n",
       "      <td>False</td>\n",
       "      <td>2</td>\n",
       "      <td>6</td>\n",
       "      <td>5.920</td>\n",
       "      <td>14.514</td>\n",
       "      <td>171</td>\n",
       "      <td>16.19977</td>\n",
       "    </tr>\n",
       "    <tr>\n",
       "      <td>221</td>\n",
       "      <td>2</td>\n",
       "      <td>0</td>\n",
       "      <td>24</td>\n",
       "      <td>False</td>\n",
       "      <td>0</td>\n",
       "      <td>6</td>\n",
       "      <td>27.810</td>\n",
       "      <td>17.810</td>\n",
       "      <td>170</td>\n",
       "      <td>16.23800</td>\n",
       "    </tr>\n",
       "  </tbody>\n",
       "</table>\n",
       "<p>258 rows × 10 columns</p>\n",
       "</div>"
      ],
      "text/plain": [
       "     dayname  hour  week  weekend  day_period  month  pm25_week_ago  \\\n",
       "444        3    18    26    False           3      6         20.110   \n",
       "146        1     7    23    False           1      6          8.350   \n",
       "122        1     2    24    False           0      6         24.200   \n",
       "226        2     1    24    False           0      6         28.690   \n",
       "322        2    19    24    False           3      6         18.600   \n",
       "..       ...   ...   ...      ...         ...    ...            ...   \n",
       "305        2    16    23    False           3      6         17.422   \n",
       "153        1     8    25    False           1      6          6.700   \n",
       "828        6    18    21     True           3      5         18.474   \n",
       "412        3    12    24    False           2      6          5.920   \n",
       "221        2     0    24    False           0      6         27.810   \n",
       "\n",
       "     pm25_two_week_ago    x     trend  \n",
       "444              7.000  185  15.67925  \n",
       "146              9.936  162  16.54888  \n",
       "122              7.320  169  16.27637  \n",
       "226             16.312  170  16.23800  \n",
       "322             17.000  170  16.23800  \n",
       "..                 ...  ...       ...  \n",
       "305             24.000  163  16.50953  \n",
       "153             19.330  176  16.01072  \n",
       "828             18.474  153  16.90933  \n",
       "412             14.514  171  16.19977  \n",
       "221             17.810  170  16.23800  \n",
       "\n",
       "[258 rows x 10 columns]"
      ]
     },
     "execution_count": 79,
     "metadata": {},
     "output_type": "execute_result"
    }
   ],
   "source": [
    "X_test"
   ]
  },
  {
   "cell_type": "markdown",
   "metadata": {},
   "source": [
    "## Predict"
   ]
  },
  {
   "cell_type": "code",
   "execution_count": 80,
   "metadata": {
    "ExecuteTime": {
     "end_time": "2020-02-07T15:29:26.530321Z",
     "start_time": "2020-02-07T15:29:26.516071Z"
    }
   },
   "outputs": [],
   "source": [
    "pdf=pd.read_csv('predict.csv')"
   ]
  },
  {
   "cell_type": "code",
   "execution_count": 81,
   "metadata": {
    "ExecuteTime": {
     "end_time": "2020-02-07T15:29:26.568957Z",
     "start_time": "2020-02-07T15:29:26.533535Z"
    }
   },
   "outputs": [
    {
     "data": {
      "text/html": [
       "<div>\n",
       "<style scoped>\n",
       "    .dataframe tbody tr th:only-of-type {\n",
       "        vertical-align: middle;\n",
       "    }\n",
       "\n",
       "    .dataframe tbody tr th {\n",
       "        vertical-align: top;\n",
       "    }\n",
       "\n",
       "    .dataframe thead th {\n",
       "        text-align: right;\n",
       "    }\n",
       "</style>\n",
       "<table border=\"1\" class=\"dataframe\">\n",
       "  <thead>\n",
       "    <tr style=\"text-align: right;\">\n",
       "      <th></th>\n",
       "      <th>Unnamed: 0</th>\n",
       "      <th>date</th>\n",
       "      <th>hour</th>\n",
       "      <th>dayname</th>\n",
       "      <th>weekend</th>\n",
       "      <th>day_period</th>\n",
       "      <th>pm25_week_ago</th>\n",
       "      <th>pm25_two_week_ago</th>\n",
       "    </tr>\n",
       "  </thead>\n",
       "  <tbody>\n",
       "    <tr>\n",
       "      <td>0</td>\n",
       "      <td>0</td>\n",
       "      <td>2019-07-01</td>\n",
       "      <td>0</td>\n",
       "      <td>Monday</td>\n",
       "      <td>False</td>\n",
       "      <td>evening</td>\n",
       "      <td>15.95</td>\n",
       "      <td>29.00</td>\n",
       "    </tr>\n",
       "    <tr>\n",
       "      <td>1</td>\n",
       "      <td>1</td>\n",
       "      <td>2019-07-01</td>\n",
       "      <td>1</td>\n",
       "      <td>Monday</td>\n",
       "      <td>False</td>\n",
       "      <td>evening</td>\n",
       "      <td>10.63</td>\n",
       "      <td>30.45</td>\n",
       "    </tr>\n",
       "    <tr>\n",
       "      <td>2</td>\n",
       "      <td>2</td>\n",
       "      <td>2019-07-01</td>\n",
       "      <td>2</td>\n",
       "      <td>Monday</td>\n",
       "      <td>False</td>\n",
       "      <td>evening</td>\n",
       "      <td>5.33</td>\n",
       "      <td>32.34</td>\n",
       "    </tr>\n",
       "    <tr>\n",
       "      <td>3</td>\n",
       "      <td>3</td>\n",
       "      <td>2019-07-01</td>\n",
       "      <td>3</td>\n",
       "      <td>Monday</td>\n",
       "      <td>False</td>\n",
       "      <td>evening</td>\n",
       "      <td>3.68</td>\n",
       "      <td>33.94</td>\n",
       "    </tr>\n",
       "    <tr>\n",
       "      <td>4</td>\n",
       "      <td>4</td>\n",
       "      <td>2019-07-01</td>\n",
       "      <td>4</td>\n",
       "      <td>Monday</td>\n",
       "      <td>False</td>\n",
       "      <td>morning</td>\n",
       "      <td>2.53</td>\n",
       "      <td>35.27</td>\n",
       "    </tr>\n",
       "  </tbody>\n",
       "</table>\n",
       "</div>"
      ],
      "text/plain": [
       "   Unnamed: 0        date  hour dayname  weekend day_period  pm25_week_ago  \\\n",
       "0           0  2019-07-01     0  Monday    False    evening          15.95   \n",
       "1           1  2019-07-01     1  Monday    False    evening          10.63   \n",
       "2           2  2019-07-01     2  Monday    False    evening           5.33   \n",
       "3           3  2019-07-01     3  Monday    False    evening           3.68   \n",
       "4           4  2019-07-01     4  Monday    False    morning           2.53   \n",
       "\n",
       "   pm25_two_week_ago  \n",
       "0              29.00  \n",
       "1              30.45  \n",
       "2              32.34  \n",
       "3              33.94  \n",
       "4              35.27  "
      ]
     },
     "execution_count": 81,
     "metadata": {},
     "output_type": "execute_result"
    }
   ],
   "source": [
    "pdf.head()"
   ]
  },
  {
   "cell_type": "code",
   "execution_count": 82,
   "metadata": {
    "ExecuteTime": {
     "end_time": "2020-02-07T15:29:26.631719Z",
     "start_time": "2020-02-07T15:29:26.574170Z"
    }
   },
   "outputs": [],
   "source": [
    "small=['date_2','hour','dayname','weekend','day_period','pm25','pm25_week_ago','pm25_two_week_ago']\n",
    "\n",
    "ls = []\n",
    "\n",
    "\n",
    "pdf['date_2']=pd.to_datetime(pdf.date)\n",
    "pdf['month']=pdf.date_2.dt.month\n",
    "pdf['week']=pdf.date_2.dt.week\n",
    "pdf.drop(['date_2','date'],axis=1,inplace=True)\n",
    "\n",
    "pdf['dayname']=pdf.dayname.replace({'Monday':'0', 'Tuesday':'1', 'Wednesday':'2', 'Thursday':'3', 'Friday':'4', 'Saturday':'5',\n",
    "                                 'Sunday':'6'})\n",
    "\n",
    "pdf['dayname']=pdf.dayname.astype('int')\n",
    "pdf['day_period'] = pdf.day_period.replace({'evening':'0','morning':'1','noon':'2','night':'3'})\n",
    "pdf['day_period']=pdf.day_period.astype('int')\n",
    "pdf['month']=pdf.month.astype('int')\n",
    "\n",
    "pdf['x']=pdf.week*7+df.dayname\n",
    "pdf['trend']=pdf.x**2*(7*10**-5)-0.0621*pdf.x+24.772"
   ]
  },
  {
   "cell_type": "code",
   "execution_count": 83,
   "metadata": {
    "ExecuteTime": {
     "end_time": "2020-02-07T15:29:26.675268Z",
     "start_time": "2020-02-07T15:29:26.635807Z"
    }
   },
   "outputs": [
    {
     "data": {
      "text/html": [
       "<div>\n",
       "<style scoped>\n",
       "    .dataframe tbody tr th:only-of-type {\n",
       "        vertical-align: middle;\n",
       "    }\n",
       "\n",
       "    .dataframe tbody tr th {\n",
       "        vertical-align: top;\n",
       "    }\n",
       "\n",
       "    .dataframe thead th {\n",
       "        text-align: right;\n",
       "    }\n",
       "</style>\n",
       "<table border=\"1\" class=\"dataframe\">\n",
       "  <thead>\n",
       "    <tr style=\"text-align: right;\">\n",
       "      <th></th>\n",
       "      <th>Unnamed: 0</th>\n",
       "      <th>hour</th>\n",
       "      <th>dayname</th>\n",
       "      <th>weekend</th>\n",
       "      <th>day_period</th>\n",
       "      <th>pm25_week_ago</th>\n",
       "      <th>pm25_two_week_ago</th>\n",
       "      <th>month</th>\n",
       "      <th>week</th>\n",
       "      <th>x</th>\n",
       "      <th>trend</th>\n",
       "    </tr>\n",
       "  </thead>\n",
       "  <tbody>\n",
       "    <tr>\n",
       "      <td>0</td>\n",
       "      <td>0</td>\n",
       "      <td>0</td>\n",
       "      <td>0</td>\n",
       "      <td>False</td>\n",
       "      <td>0</td>\n",
       "      <td>15.95</td>\n",
       "      <td>29.00</td>\n",
       "      <td>7</td>\n",
       "      <td>27</td>\n",
       "      <td>189.0</td>\n",
       "      <td>15.53557</td>\n",
       "    </tr>\n",
       "    <tr>\n",
       "      <td>1</td>\n",
       "      <td>1</td>\n",
       "      <td>1</td>\n",
       "      <td>0</td>\n",
       "      <td>False</td>\n",
       "      <td>0</td>\n",
       "      <td>10.63</td>\n",
       "      <td>30.45</td>\n",
       "      <td>7</td>\n",
       "      <td>27</td>\n",
       "      <td>189.0</td>\n",
       "      <td>15.53557</td>\n",
       "    </tr>\n",
       "    <tr>\n",
       "      <td>2</td>\n",
       "      <td>2</td>\n",
       "      <td>2</td>\n",
       "      <td>0</td>\n",
       "      <td>False</td>\n",
       "      <td>0</td>\n",
       "      <td>5.33</td>\n",
       "      <td>32.34</td>\n",
       "      <td>7</td>\n",
       "      <td>27</td>\n",
       "      <td>189.0</td>\n",
       "      <td>15.53557</td>\n",
       "    </tr>\n",
       "    <tr>\n",
       "      <td>3</td>\n",
       "      <td>3</td>\n",
       "      <td>3</td>\n",
       "      <td>0</td>\n",
       "      <td>False</td>\n",
       "      <td>0</td>\n",
       "      <td>3.68</td>\n",
       "      <td>33.94</td>\n",
       "      <td>7</td>\n",
       "      <td>27</td>\n",
       "      <td>189.0</td>\n",
       "      <td>15.53557</td>\n",
       "    </tr>\n",
       "    <tr>\n",
       "      <td>4</td>\n",
       "      <td>4</td>\n",
       "      <td>4</td>\n",
       "      <td>0</td>\n",
       "      <td>False</td>\n",
       "      <td>1</td>\n",
       "      <td>2.53</td>\n",
       "      <td>35.27</td>\n",
       "      <td>7</td>\n",
       "      <td>27</td>\n",
       "      <td>189.0</td>\n",
       "      <td>15.53557</td>\n",
       "    </tr>\n",
       "  </tbody>\n",
       "</table>\n",
       "</div>"
      ],
      "text/plain": [
       "   Unnamed: 0  hour  dayname  weekend  day_period  pm25_week_ago  \\\n",
       "0           0     0        0    False           0          15.95   \n",
       "1           1     1        0    False           0          10.63   \n",
       "2           2     2        0    False           0           5.33   \n",
       "3           3     3        0    False           0           3.68   \n",
       "4           4     4        0    False           1           2.53   \n",
       "\n",
       "   pm25_two_week_ago  month  week      x     trend  \n",
       "0              29.00      7    27  189.0  15.53557  \n",
       "1              30.45      7    27  189.0  15.53557  \n",
       "2              32.34      7    27  189.0  15.53557  \n",
       "3              33.94      7    27  189.0  15.53557  \n",
       "4              35.27      7    27  189.0  15.53557  "
      ]
     },
     "execution_count": 83,
     "metadata": {},
     "output_type": "execute_result"
    }
   ],
   "source": [
    "pdf.head()"
   ]
  },
  {
   "cell_type": "code",
   "execution_count": 84,
   "metadata": {
    "ExecuteTime": {
     "end_time": "2020-02-07T15:29:26.717458Z",
     "start_time": "2020-02-07T15:29:26.680390Z"
    }
   },
   "outputs": [
    {
     "data": {
      "text/html": [
       "<div>\n",
       "<style scoped>\n",
       "    .dataframe tbody tr th:only-of-type {\n",
       "        vertical-align: middle;\n",
       "    }\n",
       "\n",
       "    .dataframe tbody tr th {\n",
       "        vertical-align: top;\n",
       "    }\n",
       "\n",
       "    .dataframe thead th {\n",
       "        text-align: right;\n",
       "    }\n",
       "</style>\n",
       "<table border=\"1\" class=\"dataframe\">\n",
       "  <thead>\n",
       "    <tr style=\"text-align: right;\">\n",
       "      <th></th>\n",
       "      <th>dayname</th>\n",
       "      <th>hour</th>\n",
       "      <th>week</th>\n",
       "      <th>weekend</th>\n",
       "      <th>day_period</th>\n",
       "      <th>month</th>\n",
       "      <th>pm25_week_ago</th>\n",
       "      <th>pm25_two_week_ago</th>\n",
       "      <th>x</th>\n",
       "      <th>trend</th>\n",
       "    </tr>\n",
       "  </thead>\n",
       "  <tbody>\n",
       "    <tr>\n",
       "      <td>0</td>\n",
       "      <td>0</td>\n",
       "      <td>0</td>\n",
       "      <td>22</td>\n",
       "      <td>False</td>\n",
       "      <td>0</td>\n",
       "      <td>5</td>\n",
       "      <td>12.670</td>\n",
       "      <td>12.670</td>\n",
       "      <td>154</td>\n",
       "      <td>16.86872</td>\n",
       "    </tr>\n",
       "    <tr>\n",
       "      <td>1</td>\n",
       "      <td>0</td>\n",
       "      <td>0</td>\n",
       "      <td>24</td>\n",
       "      <td>False</td>\n",
       "      <td>0</td>\n",
       "      <td>6</td>\n",
       "      <td>12.670</td>\n",
       "      <td>15.130</td>\n",
       "      <td>168</td>\n",
       "      <td>16.31488</td>\n",
       "    </tr>\n",
       "    <tr>\n",
       "      <td>2</td>\n",
       "      <td>0</td>\n",
       "      <td>0</td>\n",
       "      <td>25</td>\n",
       "      <td>False</td>\n",
       "      <td>0</td>\n",
       "      <td>6</td>\n",
       "      <td>14.820</td>\n",
       "      <td>12.670</td>\n",
       "      <td>175</td>\n",
       "      <td>16.04825</td>\n",
       "    </tr>\n",
       "    <tr>\n",
       "      <td>3</td>\n",
       "      <td>0</td>\n",
       "      <td>0</td>\n",
       "      <td>26</td>\n",
       "      <td>False</td>\n",
       "      <td>0</td>\n",
       "      <td>6</td>\n",
       "      <td>4.780</td>\n",
       "      <td>14.820</td>\n",
       "      <td>182</td>\n",
       "      <td>15.78848</td>\n",
       "    </tr>\n",
       "    <tr>\n",
       "      <td>4</td>\n",
       "      <td>0</td>\n",
       "      <td>1</td>\n",
       "      <td>22</td>\n",
       "      <td>False</td>\n",
       "      <td>0</td>\n",
       "      <td>5</td>\n",
       "      <td>10.602</td>\n",
       "      <td>10.602</td>\n",
       "      <td>154</td>\n",
       "      <td>16.86872</td>\n",
       "    </tr>\n",
       "  </tbody>\n",
       "</table>\n",
       "</div>"
      ],
      "text/plain": [
       "   dayname  hour  week  weekend  day_period  month  pm25_week_ago  \\\n",
       "0        0     0    22    False           0      5         12.670   \n",
       "1        0     0    24    False           0      6         12.670   \n",
       "2        0     0    25    False           0      6         14.820   \n",
       "3        0     0    26    False           0      6          4.780   \n",
       "4        0     1    22    False           0      5         10.602   \n",
       "\n",
       "   pm25_two_week_ago    x     trend  \n",
       "0             12.670  154  16.86872  \n",
       "1             15.130  168  16.31488  \n",
       "2             12.670  175  16.04825  \n",
       "3             14.820  182  15.78848  \n",
       "4             10.602  154  16.86872  "
      ]
     },
     "execution_count": 84,
     "metadata": {},
     "output_type": "execute_result"
    }
   ],
   "source": [
    "X.head()"
   ]
  },
  {
   "cell_type": "code",
   "execution_count": 85,
   "metadata": {
    "ExecuteTime": {
     "end_time": "2020-02-07T15:29:26.737702Z",
     "start_time": "2020-02-07T15:29:26.723408Z"
    },
    "scrolled": true
   },
   "outputs": [],
   "source": [
    "X_predict=pdf[X.columns.tolist()]"
   ]
  },
  {
   "cell_type": "code",
   "execution_count": 86,
   "metadata": {
    "ExecuteTime": {
     "end_time": "2020-02-07T15:29:28.256378Z",
     "start_time": "2020-02-07T15:29:26.743378Z"
    }
   },
   "outputs": [
    {
     "data": {
      "text/plain": [
       "ExtraTreesRegressor(bootstrap=False, criterion='mse', max_depth=None,\n",
       "                    max_features='auto', max_leaf_nodes=None,\n",
       "                    min_impurity_decrease=0.0, min_impurity_split=None,\n",
       "                    min_samples_leaf=1, min_samples_split=2,\n",
       "                    min_weight_fraction_leaf=0.0, n_estimators=200, n_jobs=None,\n",
       "                    oob_score=False, random_state=1234, verbose=0,\n",
       "                    warm_start=False)"
      ]
     },
     "execution_count": 86,
     "metadata": {},
     "output_type": "execute_result"
    }
   ],
   "source": [
    "from sklearn.ensemble import ExtraTreesRegressor\n",
    "\n",
    "extra_tree = ExtraTreesRegressor(n_estimators=200, random_state=1234)\n",
    "extra_tree.fit(X, y)"
   ]
  },
  {
   "cell_type": "code",
   "execution_count": 87,
   "metadata": {
    "ExecuteTime": {
     "end_time": "2020-02-07T15:29:28.296225Z",
     "start_time": "2020-02-07T15:29:28.261044Z"
    },
    "scrolled": true
   },
   "outputs": [
    {
     "data": {
      "text/html": [
       "<div>\n",
       "<style scoped>\n",
       "    .dataframe tbody tr th:only-of-type {\n",
       "        vertical-align: middle;\n",
       "    }\n",
       "\n",
       "    .dataframe tbody tr th {\n",
       "        vertical-align: top;\n",
       "    }\n",
       "\n",
       "    .dataframe thead th {\n",
       "        text-align: right;\n",
       "    }\n",
       "</style>\n",
       "<table border=\"1\" class=\"dataframe\">\n",
       "  <thead>\n",
       "    <tr style=\"text-align: right;\">\n",
       "      <th></th>\n",
       "      <th>dayname</th>\n",
       "      <th>hour</th>\n",
       "      <th>week</th>\n",
       "      <th>weekend</th>\n",
       "      <th>day_period</th>\n",
       "      <th>month</th>\n",
       "      <th>pm25_week_ago</th>\n",
       "      <th>pm25_two_week_ago</th>\n",
       "      <th>x</th>\n",
       "      <th>trend</th>\n",
       "    </tr>\n",
       "  </thead>\n",
       "  <tbody>\n",
       "    <tr>\n",
       "      <td>0</td>\n",
       "      <td>0</td>\n",
       "      <td>0</td>\n",
       "      <td>27</td>\n",
       "      <td>False</td>\n",
       "      <td>0</td>\n",
       "      <td>7</td>\n",
       "      <td>15.95</td>\n",
       "      <td>29.00</td>\n",
       "      <td>189.0</td>\n",
       "      <td>15.53557</td>\n",
       "    </tr>\n",
       "    <tr>\n",
       "      <td>1</td>\n",
       "      <td>0</td>\n",
       "      <td>1</td>\n",
       "      <td>27</td>\n",
       "      <td>False</td>\n",
       "      <td>0</td>\n",
       "      <td>7</td>\n",
       "      <td>10.63</td>\n",
       "      <td>30.45</td>\n",
       "      <td>189.0</td>\n",
       "      <td>15.53557</td>\n",
       "    </tr>\n",
       "    <tr>\n",
       "      <td>2</td>\n",
       "      <td>0</td>\n",
       "      <td>2</td>\n",
       "      <td>27</td>\n",
       "      <td>False</td>\n",
       "      <td>0</td>\n",
       "      <td>7</td>\n",
       "      <td>5.33</td>\n",
       "      <td>32.34</td>\n",
       "      <td>189.0</td>\n",
       "      <td>15.53557</td>\n",
       "    </tr>\n",
       "    <tr>\n",
       "      <td>3</td>\n",
       "      <td>0</td>\n",
       "      <td>3</td>\n",
       "      <td>27</td>\n",
       "      <td>False</td>\n",
       "      <td>0</td>\n",
       "      <td>7</td>\n",
       "      <td>3.68</td>\n",
       "      <td>33.94</td>\n",
       "      <td>189.0</td>\n",
       "      <td>15.53557</td>\n",
       "    </tr>\n",
       "    <tr>\n",
       "      <td>4</td>\n",
       "      <td>0</td>\n",
       "      <td>4</td>\n",
       "      <td>27</td>\n",
       "      <td>False</td>\n",
       "      <td>1</td>\n",
       "      <td>7</td>\n",
       "      <td>2.53</td>\n",
       "      <td>35.27</td>\n",
       "      <td>189.0</td>\n",
       "      <td>15.53557</td>\n",
       "    </tr>\n",
       "  </tbody>\n",
       "</table>\n",
       "</div>"
      ],
      "text/plain": [
       "   dayname  hour  week  weekend  day_period  month  pm25_week_ago  \\\n",
       "0        0     0    27    False           0      7          15.95   \n",
       "1        0     1    27    False           0      7          10.63   \n",
       "2        0     2    27    False           0      7           5.33   \n",
       "3        0     3    27    False           0      7           3.68   \n",
       "4        0     4    27    False           1      7           2.53   \n",
       "\n",
       "   pm25_two_week_ago      x     trend  \n",
       "0              29.00  189.0  15.53557  \n",
       "1              30.45  189.0  15.53557  \n",
       "2              32.34  189.0  15.53557  \n",
       "3              33.94  189.0  15.53557  \n",
       "4              35.27  189.0  15.53557  "
      ]
     },
     "execution_count": 87,
     "metadata": {},
     "output_type": "execute_result"
    }
   ],
   "source": [
    "X_predict.head()"
   ]
  },
  {
   "cell_type": "code",
   "execution_count": 88,
   "metadata": {
    "ExecuteTime": {
     "end_time": "2020-02-07T15:29:28.358771Z",
     "start_time": "2020-02-07T15:29:28.302042Z"
    }
   },
   "outputs": [],
   "source": [
    "extratree_pred = extra_tree.predict(X_predict)"
   ]
  },
  {
   "cell_type": "code",
   "execution_count": 89,
   "metadata": {
    "ExecuteTime": {
     "end_time": "2020-02-07T15:29:28.371627Z",
     "start_time": "2020-02-07T15:29:28.362872Z"
    }
   },
   "outputs": [],
   "source": [
    "pdf['predict']=extratree_pred"
   ]
  },
  {
   "cell_type": "code",
   "execution_count": 90,
   "metadata": {
    "ExecuteTime": {
     "end_time": "2020-02-07T15:29:28.405476Z",
     "start_time": "2020-02-07T15:29:28.376467Z"
    }
   },
   "outputs": [],
   "source": [
    "pdf.to_csv('2b_res.csv')"
   ]
  },
  {
   "cell_type": "code",
   "execution_count": 91,
   "metadata": {
    "ExecuteTime": {
     "end_time": "2020-02-07T15:29:28.468006Z",
     "start_time": "2020-02-07T15:29:28.409972Z"
    },
    "scrolled": true
   },
   "outputs": [
    {
     "data": {
      "text/html": [
       "<div>\n",
       "<style scoped>\n",
       "    .dataframe tbody tr th:only-of-type {\n",
       "        vertical-align: middle;\n",
       "    }\n",
       "\n",
       "    .dataframe tbody tr th {\n",
       "        vertical-align: top;\n",
       "    }\n",
       "\n",
       "    .dataframe thead th {\n",
       "        text-align: right;\n",
       "    }\n",
       "</style>\n",
       "<table border=\"1\" class=\"dataframe\">\n",
       "  <thead>\n",
       "    <tr style=\"text-align: right;\">\n",
       "      <th></th>\n",
       "      <th>Unnamed: 0</th>\n",
       "      <th>hour</th>\n",
       "      <th>dayname</th>\n",
       "      <th>weekend</th>\n",
       "      <th>day_period</th>\n",
       "      <th>pm25_week_ago</th>\n",
       "      <th>pm25_two_week_ago</th>\n",
       "      <th>month</th>\n",
       "      <th>week</th>\n",
       "      <th>x</th>\n",
       "      <th>trend</th>\n",
       "      <th>predict</th>\n",
       "    </tr>\n",
       "  </thead>\n",
       "  <tbody>\n",
       "    <tr>\n",
       "      <td>0</td>\n",
       "      <td>0</td>\n",
       "      <td>0</td>\n",
       "      <td>0</td>\n",
       "      <td>False</td>\n",
       "      <td>0</td>\n",
       "      <td>15.95</td>\n",
       "      <td>29.00</td>\n",
       "      <td>7</td>\n",
       "      <td>27</td>\n",
       "      <td>189.0</td>\n",
       "      <td>15.53557</td>\n",
       "      <td>20.04070</td>\n",
       "    </tr>\n",
       "    <tr>\n",
       "      <td>1</td>\n",
       "      <td>1</td>\n",
       "      <td>1</td>\n",
       "      <td>0</td>\n",
       "      <td>False</td>\n",
       "      <td>0</td>\n",
       "      <td>10.63</td>\n",
       "      <td>30.45</td>\n",
       "      <td>7</td>\n",
       "      <td>27</td>\n",
       "      <td>189.0</td>\n",
       "      <td>15.53557</td>\n",
       "      <td>20.47570</td>\n",
       "    </tr>\n",
       "    <tr>\n",
       "      <td>2</td>\n",
       "      <td>2</td>\n",
       "      <td>2</td>\n",
       "      <td>0</td>\n",
       "      <td>False</td>\n",
       "      <td>0</td>\n",
       "      <td>5.33</td>\n",
       "      <td>32.34</td>\n",
       "      <td>7</td>\n",
       "      <td>27</td>\n",
       "      <td>189.0</td>\n",
       "      <td>15.53557</td>\n",
       "      <td>18.57145</td>\n",
       "    </tr>\n",
       "    <tr>\n",
       "      <td>3</td>\n",
       "      <td>3</td>\n",
       "      <td>3</td>\n",
       "      <td>0</td>\n",
       "      <td>False</td>\n",
       "      <td>0</td>\n",
       "      <td>3.68</td>\n",
       "      <td>33.94</td>\n",
       "      <td>7</td>\n",
       "      <td>27</td>\n",
       "      <td>189.0</td>\n",
       "      <td>15.53557</td>\n",
       "      <td>17.34800</td>\n",
       "    </tr>\n",
       "    <tr>\n",
       "      <td>4</td>\n",
       "      <td>4</td>\n",
       "      <td>4</td>\n",
       "      <td>0</td>\n",
       "      <td>False</td>\n",
       "      <td>1</td>\n",
       "      <td>2.53</td>\n",
       "      <td>35.27</td>\n",
       "      <td>7</td>\n",
       "      <td>27</td>\n",
       "      <td>189.0</td>\n",
       "      <td>15.53557</td>\n",
       "      <td>13.94215</td>\n",
       "    </tr>\n",
       "    <tr>\n",
       "      <td>...</td>\n",
       "      <td>...</td>\n",
       "      <td>...</td>\n",
       "      <td>...</td>\n",
       "      <td>...</td>\n",
       "      <td>...</td>\n",
       "      <td>...</td>\n",
       "      <td>...</td>\n",
       "      <td>...</td>\n",
       "      <td>...</td>\n",
       "      <td>...</td>\n",
       "      <td>...</td>\n",
       "      <td>...</td>\n",
       "    </tr>\n",
       "    <tr>\n",
       "      <td>163</td>\n",
       "      <td>163</td>\n",
       "      <td>19</td>\n",
       "      <td>6</td>\n",
       "      <td>True</td>\n",
       "      <td>3</td>\n",
       "      <td>28.00</td>\n",
       "      <td>28.96</td>\n",
       "      <td>7</td>\n",
       "      <td>27</td>\n",
       "      <td>190.0</td>\n",
       "      <td>15.50000</td>\n",
       "      <td>26.86145</td>\n",
       "    </tr>\n",
       "    <tr>\n",
       "      <td>164</td>\n",
       "      <td>164</td>\n",
       "      <td>20</td>\n",
       "      <td>6</td>\n",
       "      <td>True</td>\n",
       "      <td>3</td>\n",
       "      <td>27.00</td>\n",
       "      <td>28.86</td>\n",
       "      <td>7</td>\n",
       "      <td>27</td>\n",
       "      <td>190.0</td>\n",
       "      <td>15.50000</td>\n",
       "      <td>26.96115</td>\n",
       "    </tr>\n",
       "    <tr>\n",
       "      <td>165</td>\n",
       "      <td>165</td>\n",
       "      <td>21</td>\n",
       "      <td>6</td>\n",
       "      <td>True</td>\n",
       "      <td>3</td>\n",
       "      <td>28.15</td>\n",
       "      <td>28.73</td>\n",
       "      <td>7</td>\n",
       "      <td>27</td>\n",
       "      <td>190.0</td>\n",
       "      <td>15.50000</td>\n",
       "      <td>26.77330</td>\n",
       "    </tr>\n",
       "    <tr>\n",
       "      <td>166</td>\n",
       "      <td>166</td>\n",
       "      <td>22</td>\n",
       "      <td>6</td>\n",
       "      <td>True</td>\n",
       "      <td>0</td>\n",
       "      <td>28.71</td>\n",
       "      <td>28.72</td>\n",
       "      <td>7</td>\n",
       "      <td>27</td>\n",
       "      <td>190.0</td>\n",
       "      <td>15.50000</td>\n",
       "      <td>19.10535</td>\n",
       "    </tr>\n",
       "    <tr>\n",
       "      <td>167</td>\n",
       "      <td>167</td>\n",
       "      <td>23</td>\n",
       "      <td>6</td>\n",
       "      <td>True</td>\n",
       "      <td>0</td>\n",
       "      <td>29.84</td>\n",
       "      <td>28.71</td>\n",
       "      <td>7</td>\n",
       "      <td>27</td>\n",
       "      <td>190.0</td>\n",
       "      <td>15.50000</td>\n",
       "      <td>17.86045</td>\n",
       "    </tr>\n",
       "  </tbody>\n",
       "</table>\n",
       "<p>168 rows × 12 columns</p>\n",
       "</div>"
      ],
      "text/plain": [
       "     Unnamed: 0  hour  dayname  weekend  day_period  pm25_week_ago  \\\n",
       "0             0     0        0    False           0          15.95   \n",
       "1             1     1        0    False           0          10.63   \n",
       "2             2     2        0    False           0           5.33   \n",
       "3             3     3        0    False           0           3.68   \n",
       "4             4     4        0    False           1           2.53   \n",
       "..          ...   ...      ...      ...         ...            ...   \n",
       "163         163    19        6     True           3          28.00   \n",
       "164         164    20        6     True           3          27.00   \n",
       "165         165    21        6     True           3          28.15   \n",
       "166         166    22        6     True           0          28.71   \n",
       "167         167    23        6     True           0          29.84   \n",
       "\n",
       "     pm25_two_week_ago  month  week      x     trend   predict  \n",
       "0                29.00      7    27  189.0  15.53557  20.04070  \n",
       "1                30.45      7    27  189.0  15.53557  20.47570  \n",
       "2                32.34      7    27  189.0  15.53557  18.57145  \n",
       "3                33.94      7    27  189.0  15.53557  17.34800  \n",
       "4                35.27      7    27  189.0  15.53557  13.94215  \n",
       "..                 ...    ...   ...    ...       ...       ...  \n",
       "163              28.96      7    27  190.0  15.50000  26.86145  \n",
       "164              28.86      7    27  190.0  15.50000  26.96115  \n",
       "165              28.73      7    27  190.0  15.50000  26.77330  \n",
       "166              28.72      7    27  190.0  15.50000  19.10535  \n",
       "167              28.71      7    27  190.0  15.50000  17.86045  \n",
       "\n",
       "[168 rows x 12 columns]"
      ]
     },
     "execution_count": 91,
     "metadata": {},
     "output_type": "execute_result"
    }
   ],
   "source": [
    "pdf"
   ]
  },
  {
   "cell_type": "markdown",
   "metadata": {
    "ExecuteTime": {
     "end_time": "2019-09-21T12:54:49.762213Z",
     "start_time": "2019-09-21T12:54:49.737245Z"
    },
    "heading_collapsed": true
   },
   "source": [
    "# LSTM\n",
    "try and fail"
   ]
  },
  {
   "cell_type": "code",
   "execution_count": 92,
   "metadata": {
    "ExecuteTime": {
     "end_time": "2020-02-07T15:29:28.510440Z",
     "start_time": "2020-02-07T15:29:28.473255Z"
    },
    "hidden": true
   },
   "outputs": [
    {
     "data": {
      "text/html": [
       "<div>\n",
       "<style scoped>\n",
       "    .dataframe tbody tr th:only-of-type {\n",
       "        vertical-align: middle;\n",
       "    }\n",
       "\n",
       "    .dataframe tbody tr th {\n",
       "        vertical-align: top;\n",
       "    }\n",
       "\n",
       "    .dataframe thead th {\n",
       "        text-align: right;\n",
       "    }\n",
       "</style>\n",
       "<table border=\"1\" class=\"dataframe\">\n",
       "  <thead>\n",
       "    <tr style=\"text-align: right;\">\n",
       "      <th></th>\n",
       "      <th>dayname</th>\n",
       "      <th>hour</th>\n",
       "      <th>week</th>\n",
       "      <th>index</th>\n",
       "      <th>weekend</th>\n",
       "      <th>day_period</th>\n",
       "      <th>pm25</th>\n",
       "      <th>month</th>\n",
       "      <th>pm25_week_ago</th>\n",
       "      <th>pm25_two_week_ago</th>\n",
       "      <th>missing_pm25</th>\n",
       "      <th>x</th>\n",
       "      <th>trend</th>\n",
       "    </tr>\n",
       "  </thead>\n",
       "  <tbody>\n",
       "    <tr>\n",
       "      <td>0</td>\n",
       "      <td>0</td>\n",
       "      <td>0</td>\n",
       "      <td>22</td>\n",
       "      <td>111</td>\n",
       "      <td>False</td>\n",
       "      <td>0</td>\n",
       "      <td>15.13</td>\n",
       "      <td>5</td>\n",
       "      <td>12.670</td>\n",
       "      <td>12.670</td>\n",
       "      <td>12.670</td>\n",
       "      <td>154</td>\n",
       "      <td>16.86872</td>\n",
       "    </tr>\n",
       "    <tr>\n",
       "      <td>1</td>\n",
       "      <td>0</td>\n",
       "      <td>0</td>\n",
       "      <td>24</td>\n",
       "      <td>360</td>\n",
       "      <td>False</td>\n",
       "      <td>0</td>\n",
       "      <td>14.82</td>\n",
       "      <td>6</td>\n",
       "      <td>12.670</td>\n",
       "      <td>15.130</td>\n",
       "      <td>12.670</td>\n",
       "      <td>168</td>\n",
       "      <td>16.31488</td>\n",
       "    </tr>\n",
       "    <tr>\n",
       "      <td>2</td>\n",
       "      <td>0</td>\n",
       "      <td>0</td>\n",
       "      <td>25</td>\n",
       "      <td>524</td>\n",
       "      <td>False</td>\n",
       "      <td>0</td>\n",
       "      <td>4.78</td>\n",
       "      <td>6</td>\n",
       "      <td>14.820</td>\n",
       "      <td>12.670</td>\n",
       "      <td>12.670</td>\n",
       "      <td>175</td>\n",
       "      <td>16.04825</td>\n",
       "    </tr>\n",
       "    <tr>\n",
       "      <td>3</td>\n",
       "      <td>0</td>\n",
       "      <td>0</td>\n",
       "      <td>26</td>\n",
       "      <td>692</td>\n",
       "      <td>False</td>\n",
       "      <td>0</td>\n",
       "      <td>15.95</td>\n",
       "      <td>6</td>\n",
       "      <td>4.780</td>\n",
       "      <td>14.820</td>\n",
       "      <td>12.670</td>\n",
       "      <td>182</td>\n",
       "      <td>15.78848</td>\n",
       "    </tr>\n",
       "    <tr>\n",
       "      <td>4</td>\n",
       "      <td>0</td>\n",
       "      <td>1</td>\n",
       "      <td>22</td>\n",
       "      <td>112</td>\n",
       "      <td>False</td>\n",
       "      <td>0</td>\n",
       "      <td>15.53</td>\n",
       "      <td>5</td>\n",
       "      <td>10.602</td>\n",
       "      <td>10.602</td>\n",
       "      <td>10.602</td>\n",
       "      <td>154</td>\n",
       "      <td>16.86872</td>\n",
       "    </tr>\n",
       "  </tbody>\n",
       "</table>\n",
       "</div>"
      ],
      "text/plain": [
       "   dayname  hour  week  index  weekend  day_period   pm25  month  \\\n",
       "0        0     0    22    111    False           0  15.13      5   \n",
       "1        0     0    24    360    False           0  14.82      6   \n",
       "2        0     0    25    524    False           0   4.78      6   \n",
       "3        0     0    26    692    False           0  15.95      6   \n",
       "4        0     1    22    112    False           0  15.53      5   \n",
       "\n",
       "   pm25_week_ago  pm25_two_week_ago  missing_pm25    x     trend  \n",
       "0         12.670             12.670        12.670  154  16.86872  \n",
       "1         12.670             15.130        12.670  168  16.31488  \n",
       "2         14.820             12.670        12.670  175  16.04825  \n",
       "3          4.780             14.820        12.670  182  15.78848  \n",
       "4         10.602             10.602        10.602  154  16.86872  "
      ]
     },
     "execution_count": 92,
     "metadata": {},
     "output_type": "execute_result"
    }
   ],
   "source": [
    "df.head()"
   ]
  },
  {
   "cell_type": "code",
   "execution_count": 93,
   "metadata": {
    "ExecuteTime": {
     "end_time": "2020-02-07T15:29:28.540642Z",
     "start_time": "2020-02-07T15:29:28.514426Z"
    },
    "hidden": true
   },
   "outputs": [],
   "source": [
    "#one week ahed\n",
    "one_ahead=df[['hour','dayname','week','pm25']].copy()\n",
    "one_ahead['week']=one_ahead.week-1\n",
    "one_ahead=one_ahead.set_index(['dayname','hour','week'])\n",
    "one_ahead.columns=['one_ahead']"
   ]
  },
  {
   "cell_type": "code",
   "execution_count": 94,
   "metadata": {
    "ExecuteTime": {
     "end_time": "2020-02-07T15:29:28.571439Z",
     "start_time": "2020-02-07T15:29:28.546304Z"
    },
    "hidden": true
   },
   "outputs": [
    {
     "data": {
      "text/html": [
       "<div>\n",
       "<style scoped>\n",
       "    .dataframe tbody tr th:only-of-type {\n",
       "        vertical-align: middle;\n",
       "    }\n",
       "\n",
       "    .dataframe tbody tr th {\n",
       "        vertical-align: top;\n",
       "    }\n",
       "\n",
       "    .dataframe thead th {\n",
       "        text-align: right;\n",
       "    }\n",
       "</style>\n",
       "<table border=\"1\" class=\"dataframe\">\n",
       "  <thead>\n",
       "    <tr style=\"text-align: right;\">\n",
       "      <th></th>\n",
       "      <th></th>\n",
       "      <th></th>\n",
       "      <th>one_ahead</th>\n",
       "    </tr>\n",
       "    <tr>\n",
       "      <th>dayname</th>\n",
       "      <th>hour</th>\n",
       "      <th>week</th>\n",
       "      <th></th>\n",
       "    </tr>\n",
       "  </thead>\n",
       "  <tbody>\n",
       "    <tr>\n",
       "      <td rowspan=\"5\" valign=\"top\">0</td>\n",
       "      <td rowspan=\"4\" valign=\"top\">0</td>\n",
       "      <td>21</td>\n",
       "      <td>15.13</td>\n",
       "    </tr>\n",
       "    <tr>\n",
       "      <td>23</td>\n",
       "      <td>14.82</td>\n",
       "    </tr>\n",
       "    <tr>\n",
       "      <td>24</td>\n",
       "      <td>4.78</td>\n",
       "    </tr>\n",
       "    <tr>\n",
       "      <td>25</td>\n",
       "      <td>15.95</td>\n",
       "    </tr>\n",
       "    <tr>\n",
       "      <td>1</td>\n",
       "      <td>21</td>\n",
       "      <td>15.53</td>\n",
       "    </tr>\n",
       "  </tbody>\n",
       "</table>\n",
       "</div>"
      ],
      "text/plain": [
       "                   one_ahead\n",
       "dayname hour week           \n",
       "0       0    21        15.13\n",
       "             23        14.82\n",
       "             24         4.78\n",
       "             25        15.95\n",
       "        1    21        15.53"
      ]
     },
     "execution_count": 94,
     "metadata": {},
     "output_type": "execute_result"
    }
   ],
   "source": [
    "one_ahead.head()"
   ]
  },
  {
   "cell_type": "code",
   "execution_count": 95,
   "metadata": {
    "ExecuteTime": {
     "end_time": "2020-02-07T15:29:28.612703Z",
     "start_time": "2020-02-07T15:29:28.576553Z"
    },
    "hidden": true
   },
   "outputs": [],
   "source": [
    "df=df.set_index(['dayname','hour','week']).join(one_ahead)"
   ]
  },
  {
   "cell_type": "code",
   "execution_count": 96,
   "metadata": {
    "ExecuteTime": {
     "end_time": "2020-02-07T15:29:28.667957Z",
     "start_time": "2020-02-07T15:29:28.617742Z"
    },
    "hidden": true
   },
   "outputs": [
    {
     "data": {
      "text/html": [
       "<div>\n",
       "<style scoped>\n",
       "    .dataframe tbody tr th:only-of-type {\n",
       "        vertical-align: middle;\n",
       "    }\n",
       "\n",
       "    .dataframe tbody tr th {\n",
       "        vertical-align: top;\n",
       "    }\n",
       "\n",
       "    .dataframe thead th {\n",
       "        text-align: right;\n",
       "    }\n",
       "</style>\n",
       "<table border=\"1\" class=\"dataframe\">\n",
       "  <thead>\n",
       "    <tr style=\"text-align: right;\">\n",
       "      <th></th>\n",
       "      <th></th>\n",
       "      <th></th>\n",
       "      <th>index</th>\n",
       "      <th>weekend</th>\n",
       "      <th>day_period</th>\n",
       "      <th>pm25</th>\n",
       "      <th>month</th>\n",
       "      <th>pm25_week_ago</th>\n",
       "      <th>pm25_two_week_ago</th>\n",
       "      <th>missing_pm25</th>\n",
       "      <th>x</th>\n",
       "      <th>trend</th>\n",
       "      <th>one_ahead</th>\n",
       "    </tr>\n",
       "    <tr>\n",
       "      <th>dayname</th>\n",
       "      <th>hour</th>\n",
       "      <th>week</th>\n",
       "      <th></th>\n",
       "      <th></th>\n",
       "      <th></th>\n",
       "      <th></th>\n",
       "      <th></th>\n",
       "      <th></th>\n",
       "      <th></th>\n",
       "      <th></th>\n",
       "      <th></th>\n",
       "      <th></th>\n",
       "      <th></th>\n",
       "    </tr>\n",
       "  </thead>\n",
       "  <tbody>\n",
       "    <tr>\n",
       "      <td rowspan=\"5\" valign=\"top\">0</td>\n",
       "      <td rowspan=\"4\" valign=\"top\">0</td>\n",
       "      <td>22</td>\n",
       "      <td>111</td>\n",
       "      <td>False</td>\n",
       "      <td>0</td>\n",
       "      <td>15.13</td>\n",
       "      <td>5</td>\n",
       "      <td>12.670</td>\n",
       "      <td>12.670</td>\n",
       "      <td>12.670</td>\n",
       "      <td>154</td>\n",
       "      <td>16.86872</td>\n",
       "      <td>NaN</td>\n",
       "    </tr>\n",
       "    <tr>\n",
       "      <td>24</td>\n",
       "      <td>360</td>\n",
       "      <td>False</td>\n",
       "      <td>0</td>\n",
       "      <td>14.82</td>\n",
       "      <td>6</td>\n",
       "      <td>12.670</td>\n",
       "      <td>15.130</td>\n",
       "      <td>12.670</td>\n",
       "      <td>168</td>\n",
       "      <td>16.31488</td>\n",
       "      <td>4.78</td>\n",
       "    </tr>\n",
       "    <tr>\n",
       "      <td>25</td>\n",
       "      <td>524</td>\n",
       "      <td>False</td>\n",
       "      <td>0</td>\n",
       "      <td>4.78</td>\n",
       "      <td>6</td>\n",
       "      <td>14.820</td>\n",
       "      <td>12.670</td>\n",
       "      <td>12.670</td>\n",
       "      <td>175</td>\n",
       "      <td>16.04825</td>\n",
       "      <td>15.95</td>\n",
       "    </tr>\n",
       "    <tr>\n",
       "      <td>26</td>\n",
       "      <td>692</td>\n",
       "      <td>False</td>\n",
       "      <td>0</td>\n",
       "      <td>15.95</td>\n",
       "      <td>6</td>\n",
       "      <td>4.780</td>\n",
       "      <td>14.820</td>\n",
       "      <td>12.670</td>\n",
       "      <td>182</td>\n",
       "      <td>15.78848</td>\n",
       "      <td>NaN</td>\n",
       "    </tr>\n",
       "    <tr>\n",
       "      <td>1</td>\n",
       "      <td>22</td>\n",
       "      <td>112</td>\n",
       "      <td>False</td>\n",
       "      <td>0</td>\n",
       "      <td>15.53</td>\n",
       "      <td>5</td>\n",
       "      <td>10.602</td>\n",
       "      <td>10.602</td>\n",
       "      <td>10.602</td>\n",
       "      <td>154</td>\n",
       "      <td>16.86872</td>\n",
       "      <td>12.00</td>\n",
       "    </tr>\n",
       "  </tbody>\n",
       "</table>\n",
       "</div>"
      ],
      "text/plain": [
       "                   index  weekend  day_period   pm25  month  pm25_week_ago  \\\n",
       "dayname hour week                                                            \n",
       "0       0    22      111    False           0  15.13      5         12.670   \n",
       "             24      360    False           0  14.82      6         12.670   \n",
       "             25      524    False           0   4.78      6         14.820   \n",
       "             26      692    False           0  15.95      6          4.780   \n",
       "        1    22      112    False           0  15.53      5         10.602   \n",
       "\n",
       "                   pm25_two_week_ago  missing_pm25    x     trend  one_ahead  \n",
       "dayname hour week                                                             \n",
       "0       0    22               12.670        12.670  154  16.86872        NaN  \n",
       "             24               15.130        12.670  168  16.31488       4.78  \n",
       "             25               12.670        12.670  175  16.04825      15.95  \n",
       "             26               14.820        12.670  182  15.78848        NaN  \n",
       "        1    22               10.602        10.602  154  16.86872      12.00  "
      ]
     },
     "execution_count": 96,
     "metadata": {},
     "output_type": "execute_result"
    }
   ],
   "source": [
    "df.head()"
   ]
  },
  {
   "cell_type": "code",
   "execution_count": 97,
   "metadata": {
    "ExecuteTime": {
     "end_time": "2020-02-07T15:29:28.685558Z",
     "start_time": "2020-02-07T15:29:28.672504Z"
    },
    "hidden": true
   },
   "outputs": [],
   "source": [
    "df['pm25_week_ahead']=np.select([df.one_ahead.isnull()], [df.missing_pm25], default=df.one_ahead)"
   ]
  },
  {
   "cell_type": "code",
   "execution_count": 98,
   "metadata": {
    "ExecuteTime": {
     "end_time": "2020-02-07T15:29:28.736425Z",
     "start_time": "2020-02-07T15:29:28.690948Z"
    },
    "hidden": true
   },
   "outputs": [
    {
     "data": {
      "text/html": [
       "<div>\n",
       "<style scoped>\n",
       "    .dataframe tbody tr th:only-of-type {\n",
       "        vertical-align: middle;\n",
       "    }\n",
       "\n",
       "    .dataframe tbody tr th {\n",
       "        vertical-align: top;\n",
       "    }\n",
       "\n",
       "    .dataframe thead th {\n",
       "        text-align: right;\n",
       "    }\n",
       "</style>\n",
       "<table border=\"1\" class=\"dataframe\">\n",
       "  <thead>\n",
       "    <tr style=\"text-align: right;\">\n",
       "      <th></th>\n",
       "      <th></th>\n",
       "      <th></th>\n",
       "      <th>index</th>\n",
       "      <th>weekend</th>\n",
       "      <th>day_period</th>\n",
       "      <th>pm25</th>\n",
       "      <th>month</th>\n",
       "      <th>pm25_week_ago</th>\n",
       "      <th>pm25_two_week_ago</th>\n",
       "      <th>missing_pm25</th>\n",
       "      <th>x</th>\n",
       "      <th>trend</th>\n",
       "      <th>one_ahead</th>\n",
       "      <th>pm25_week_ahead</th>\n",
       "    </tr>\n",
       "    <tr>\n",
       "      <th>dayname</th>\n",
       "      <th>hour</th>\n",
       "      <th>week</th>\n",
       "      <th></th>\n",
       "      <th></th>\n",
       "      <th></th>\n",
       "      <th></th>\n",
       "      <th></th>\n",
       "      <th></th>\n",
       "      <th></th>\n",
       "      <th></th>\n",
       "      <th></th>\n",
       "      <th></th>\n",
       "      <th></th>\n",
       "      <th></th>\n",
       "    </tr>\n",
       "  </thead>\n",
       "  <tbody>\n",
       "    <tr>\n",
       "      <td rowspan=\"5\" valign=\"top\">0</td>\n",
       "      <td rowspan=\"4\" valign=\"top\">0</td>\n",
       "      <td>22</td>\n",
       "      <td>111</td>\n",
       "      <td>False</td>\n",
       "      <td>0</td>\n",
       "      <td>15.13</td>\n",
       "      <td>5</td>\n",
       "      <td>12.670</td>\n",
       "      <td>12.670</td>\n",
       "      <td>12.670</td>\n",
       "      <td>154</td>\n",
       "      <td>16.86872</td>\n",
       "      <td>NaN</td>\n",
       "      <td>12.67</td>\n",
       "    </tr>\n",
       "    <tr>\n",
       "      <td>24</td>\n",
       "      <td>360</td>\n",
       "      <td>False</td>\n",
       "      <td>0</td>\n",
       "      <td>14.82</td>\n",
       "      <td>6</td>\n",
       "      <td>12.670</td>\n",
       "      <td>15.130</td>\n",
       "      <td>12.670</td>\n",
       "      <td>168</td>\n",
       "      <td>16.31488</td>\n",
       "      <td>4.78</td>\n",
       "      <td>4.78</td>\n",
       "    </tr>\n",
       "    <tr>\n",
       "      <td>25</td>\n",
       "      <td>524</td>\n",
       "      <td>False</td>\n",
       "      <td>0</td>\n",
       "      <td>4.78</td>\n",
       "      <td>6</td>\n",
       "      <td>14.820</td>\n",
       "      <td>12.670</td>\n",
       "      <td>12.670</td>\n",
       "      <td>175</td>\n",
       "      <td>16.04825</td>\n",
       "      <td>15.95</td>\n",
       "      <td>15.95</td>\n",
       "    </tr>\n",
       "    <tr>\n",
       "      <td>26</td>\n",
       "      <td>692</td>\n",
       "      <td>False</td>\n",
       "      <td>0</td>\n",
       "      <td>15.95</td>\n",
       "      <td>6</td>\n",
       "      <td>4.780</td>\n",
       "      <td>14.820</td>\n",
       "      <td>12.670</td>\n",
       "      <td>182</td>\n",
       "      <td>15.78848</td>\n",
       "      <td>NaN</td>\n",
       "      <td>12.67</td>\n",
       "    </tr>\n",
       "    <tr>\n",
       "      <td>1</td>\n",
       "      <td>22</td>\n",
       "      <td>112</td>\n",
       "      <td>False</td>\n",
       "      <td>0</td>\n",
       "      <td>15.53</td>\n",
       "      <td>5</td>\n",
       "      <td>10.602</td>\n",
       "      <td>10.602</td>\n",
       "      <td>10.602</td>\n",
       "      <td>154</td>\n",
       "      <td>16.86872</td>\n",
       "      <td>12.00</td>\n",
       "      <td>12.00</td>\n",
       "    </tr>\n",
       "  </tbody>\n",
       "</table>\n",
       "</div>"
      ],
      "text/plain": [
       "                   index  weekend  day_period   pm25  month  pm25_week_ago  \\\n",
       "dayname hour week                                                            \n",
       "0       0    22      111    False           0  15.13      5         12.670   \n",
       "             24      360    False           0  14.82      6         12.670   \n",
       "             25      524    False           0   4.78      6         14.820   \n",
       "             26      692    False           0  15.95      6          4.780   \n",
       "        1    22      112    False           0  15.53      5         10.602   \n",
       "\n",
       "                   pm25_two_week_ago  missing_pm25    x     trend  one_ahead  \\\n",
       "dayname hour week                                                              \n",
       "0       0    22               12.670        12.670  154  16.86872        NaN   \n",
       "             24               15.130        12.670  168  16.31488       4.78   \n",
       "             25               12.670        12.670  175  16.04825      15.95   \n",
       "             26               14.820        12.670  182  15.78848        NaN   \n",
       "        1    22               10.602        10.602  154  16.86872      12.00   \n",
       "\n",
       "                   pm25_week_ahead  \n",
       "dayname hour week                   \n",
       "0       0    22              12.67  \n",
       "             24               4.78  \n",
       "             25              15.95  \n",
       "             26              12.67  \n",
       "        1    22              12.00  "
      ]
     },
     "execution_count": 98,
     "metadata": {},
     "output_type": "execute_result"
    }
   ],
   "source": [
    "df.head()"
   ]
  },
  {
   "cell_type": "code",
   "execution_count": 99,
   "metadata": {
    "ExecuteTime": {
     "end_time": "2020-02-07T15:29:28.766923Z",
     "start_time": "2020-02-07T15:29:28.740686Z"
    },
    "hidden": true
   },
   "outputs": [
    {
     "data": {
      "text/plain": [
       "26    168\n",
       "25    168\n",
       "24    164\n",
       "23    158\n",
       "21    111\n",
       "22     91\n",
       "Name: week, dtype: int64"
      ]
     },
     "execution_count": 99,
     "metadata": {},
     "output_type": "execute_result"
    }
   ],
   "source": [
    "df.reset_index().week.value_counts()"
   ]
  },
  {
   "cell_type": "code",
   "execution_count": 100,
   "metadata": {
    "ExecuteTime": {
     "end_time": "2020-02-07T15:29:28.912652Z",
     "start_time": "2020-02-07T15:29:28.772049Z"
    },
    "hidden": true,
    "scrolled": true
   },
   "outputs": [
    {
     "data": {
      "text/html": [
       "<div>\n",
       "<style scoped>\n",
       "    .dataframe tbody tr th:only-of-type {\n",
       "        vertical-align: middle;\n",
       "    }\n",
       "\n",
       "    .dataframe tbody tr th {\n",
       "        vertical-align: top;\n",
       "    }\n",
       "\n",
       "    .dataframe thead th {\n",
       "        text-align: right;\n",
       "    }\n",
       "</style>\n",
       "<table border=\"1\" class=\"dataframe\">\n",
       "  <thead>\n",
       "    <tr style=\"text-align: right;\">\n",
       "      <th></th>\n",
       "      <th></th>\n",
       "      <th>hour</th>\n",
       "      <th>index</th>\n",
       "      <th>weekend</th>\n",
       "      <th>day_period</th>\n",
       "      <th>pm25</th>\n",
       "      <th>month</th>\n",
       "      <th>pm25_week_ago</th>\n",
       "      <th>pm25_two_week_ago</th>\n",
       "      <th>missing_pm25</th>\n",
       "      <th>x</th>\n",
       "      <th>trend</th>\n",
       "      <th>one_ahead</th>\n",
       "      <th>pm25_week_ahead</th>\n",
       "    </tr>\n",
       "    <tr>\n",
       "      <th>week</th>\n",
       "      <th>dayname</th>\n",
       "      <th></th>\n",
       "      <th></th>\n",
       "      <th></th>\n",
       "      <th></th>\n",
       "      <th></th>\n",
       "      <th></th>\n",
       "      <th></th>\n",
       "      <th></th>\n",
       "      <th></th>\n",
       "      <th></th>\n",
       "      <th></th>\n",
       "      <th></th>\n",
       "      <th></th>\n",
       "    </tr>\n",
       "  </thead>\n",
       "  <tbody>\n",
       "    <tr>\n",
       "      <td rowspan=\"5\" valign=\"top\">21</td>\n",
       "      <td>2</td>\n",
       "      <td>23</td>\n",
       "      <td>23</td>\n",
       "      <td>23</td>\n",
       "      <td>23</td>\n",
       "      <td>23</td>\n",
       "      <td>23</td>\n",
       "      <td>23</td>\n",
       "      <td>23</td>\n",
       "      <td>23</td>\n",
       "      <td>23</td>\n",
       "      <td>23</td>\n",
       "      <td>6</td>\n",
       "      <td>23</td>\n",
       "    </tr>\n",
       "    <tr>\n",
       "      <td>3</td>\n",
       "      <td>24</td>\n",
       "      <td>24</td>\n",
       "      <td>24</td>\n",
       "      <td>24</td>\n",
       "      <td>24</td>\n",
       "      <td>24</td>\n",
       "      <td>24</td>\n",
       "      <td>24</td>\n",
       "      <td>24</td>\n",
       "      <td>24</td>\n",
       "      <td>24</td>\n",
       "      <td>5</td>\n",
       "      <td>24</td>\n",
       "    </tr>\n",
       "    <tr>\n",
       "      <td>4</td>\n",
       "      <td>24</td>\n",
       "      <td>24</td>\n",
       "      <td>24</td>\n",
       "      <td>24</td>\n",
       "      <td>24</td>\n",
       "      <td>24</td>\n",
       "      <td>24</td>\n",
       "      <td>24</td>\n",
       "      <td>24</td>\n",
       "      <td>24</td>\n",
       "      <td>24</td>\n",
       "      <td>10</td>\n",
       "      <td>24</td>\n",
       "    </tr>\n",
       "    <tr>\n",
       "      <td>5</td>\n",
       "      <td>16</td>\n",
       "      <td>16</td>\n",
       "      <td>16</td>\n",
       "      <td>16</td>\n",
       "      <td>16</td>\n",
       "      <td>16</td>\n",
       "      <td>16</td>\n",
       "      <td>16</td>\n",
       "      <td>16</td>\n",
       "      <td>16</td>\n",
       "      <td>16</td>\n",
       "      <td>11</td>\n",
       "      <td>16</td>\n",
       "    </tr>\n",
       "    <tr>\n",
       "      <td>6</td>\n",
       "      <td>24</td>\n",
       "      <td>24</td>\n",
       "      <td>24</td>\n",
       "      <td>24</td>\n",
       "      <td>24</td>\n",
       "      <td>24</td>\n",
       "      <td>24</td>\n",
       "      <td>24</td>\n",
       "      <td>24</td>\n",
       "      <td>24</td>\n",
       "      <td>24</td>\n",
       "      <td>19</td>\n",
       "      <td>24</td>\n",
       "    </tr>\n",
       "    <tr>\n",
       "      <td rowspan=\"7\" valign=\"top\">22</td>\n",
       "      <td>0</td>\n",
       "      <td>24</td>\n",
       "      <td>24</td>\n",
       "      <td>24</td>\n",
       "      <td>24</td>\n",
       "      <td>24</td>\n",
       "      <td>24</td>\n",
       "      <td>24</td>\n",
       "      <td>24</td>\n",
       "      <td>24</td>\n",
       "      <td>24</td>\n",
       "      <td>24</td>\n",
       "      <td>14</td>\n",
       "      <td>24</td>\n",
       "    </tr>\n",
       "    <tr>\n",
       "      <td>1</td>\n",
       "      <td>13</td>\n",
       "      <td>13</td>\n",
       "      <td>13</td>\n",
       "      <td>13</td>\n",
       "      <td>13</td>\n",
       "      <td>13</td>\n",
       "      <td>13</td>\n",
       "      <td>13</td>\n",
       "      <td>13</td>\n",
       "      <td>13</td>\n",
       "      <td>13</td>\n",
       "      <td>13</td>\n",
       "      <td>13</td>\n",
       "    </tr>\n",
       "    <tr>\n",
       "      <td>2</td>\n",
       "      <td>7</td>\n",
       "      <td>7</td>\n",
       "      <td>7</td>\n",
       "      <td>7</td>\n",
       "      <td>7</td>\n",
       "      <td>7</td>\n",
       "      <td>7</td>\n",
       "      <td>7</td>\n",
       "      <td>7</td>\n",
       "      <td>7</td>\n",
       "      <td>7</td>\n",
       "      <td>7</td>\n",
       "      <td>7</td>\n",
       "    </tr>\n",
       "    <tr>\n",
       "      <td>3</td>\n",
       "      <td>5</td>\n",
       "      <td>5</td>\n",
       "      <td>5</td>\n",
       "      <td>5</td>\n",
       "      <td>5</td>\n",
       "      <td>5</td>\n",
       "      <td>5</td>\n",
       "      <td>5</td>\n",
       "      <td>5</td>\n",
       "      <td>5</td>\n",
       "      <td>5</td>\n",
       "      <td>5</td>\n",
       "      <td>5</td>\n",
       "    </tr>\n",
       "    <tr>\n",
       "      <td>4</td>\n",
       "      <td>10</td>\n",
       "      <td>10</td>\n",
       "      <td>10</td>\n",
       "      <td>10</td>\n",
       "      <td>10</td>\n",
       "      <td>10</td>\n",
       "      <td>10</td>\n",
       "      <td>10</td>\n",
       "      <td>10</td>\n",
       "      <td>10</td>\n",
       "      <td>10</td>\n",
       "      <td>10</td>\n",
       "      <td>10</td>\n",
       "    </tr>\n",
       "    <tr>\n",
       "      <td>5</td>\n",
       "      <td>13</td>\n",
       "      <td>13</td>\n",
       "      <td>13</td>\n",
       "      <td>13</td>\n",
       "      <td>13</td>\n",
       "      <td>13</td>\n",
       "      <td>13</td>\n",
       "      <td>13</td>\n",
       "      <td>13</td>\n",
       "      <td>13</td>\n",
       "      <td>13</td>\n",
       "      <td>13</td>\n",
       "      <td>13</td>\n",
       "    </tr>\n",
       "    <tr>\n",
       "      <td>6</td>\n",
       "      <td>19</td>\n",
       "      <td>19</td>\n",
       "      <td>19</td>\n",
       "      <td>19</td>\n",
       "      <td>19</td>\n",
       "      <td>19</td>\n",
       "      <td>19</td>\n",
       "      <td>19</td>\n",
       "      <td>19</td>\n",
       "      <td>19</td>\n",
       "      <td>19</td>\n",
       "      <td>19</td>\n",
       "      <td>19</td>\n",
       "    </tr>\n",
       "    <tr>\n",
       "      <td rowspan=\"7\" valign=\"top\">23</td>\n",
       "      <td>0</td>\n",
       "      <td>14</td>\n",
       "      <td>14</td>\n",
       "      <td>14</td>\n",
       "      <td>14</td>\n",
       "      <td>14</td>\n",
       "      <td>14</td>\n",
       "      <td>14</td>\n",
       "      <td>14</td>\n",
       "      <td>14</td>\n",
       "      <td>14</td>\n",
       "      <td>14</td>\n",
       "      <td>14</td>\n",
       "      <td>14</td>\n",
       "    </tr>\n",
       "    <tr>\n",
       "      <td>1</td>\n",
       "      <td>24</td>\n",
       "      <td>24</td>\n",
       "      <td>24</td>\n",
       "      <td>24</td>\n",
       "      <td>24</td>\n",
       "      <td>24</td>\n",
       "      <td>24</td>\n",
       "      <td>24</td>\n",
       "      <td>24</td>\n",
       "      <td>24</td>\n",
       "      <td>24</td>\n",
       "      <td>24</td>\n",
       "      <td>24</td>\n",
       "    </tr>\n",
       "    <tr>\n",
       "      <td>2</td>\n",
       "      <td>24</td>\n",
       "      <td>24</td>\n",
       "      <td>24</td>\n",
       "      <td>24</td>\n",
       "      <td>24</td>\n",
       "      <td>24</td>\n",
       "      <td>24</td>\n",
       "      <td>24</td>\n",
       "      <td>24</td>\n",
       "      <td>24</td>\n",
       "      <td>24</td>\n",
       "      <td>24</td>\n",
       "      <td>24</td>\n",
       "    </tr>\n",
       "    <tr>\n",
       "      <td>3</td>\n",
       "      <td>24</td>\n",
       "      <td>24</td>\n",
       "      <td>24</td>\n",
       "      <td>24</td>\n",
       "      <td>24</td>\n",
       "      <td>24</td>\n",
       "      <td>24</td>\n",
       "      <td>24</td>\n",
       "      <td>24</td>\n",
       "      <td>24</td>\n",
       "      <td>24</td>\n",
       "      <td>24</td>\n",
       "      <td>24</td>\n",
       "    </tr>\n",
       "    <tr>\n",
       "      <td>4</td>\n",
       "      <td>24</td>\n",
       "      <td>24</td>\n",
       "      <td>24</td>\n",
       "      <td>24</td>\n",
       "      <td>24</td>\n",
       "      <td>24</td>\n",
       "      <td>24</td>\n",
       "      <td>24</td>\n",
       "      <td>24</td>\n",
       "      <td>24</td>\n",
       "      <td>24</td>\n",
       "      <td>21</td>\n",
       "      <td>24</td>\n",
       "    </tr>\n",
       "    <tr>\n",
       "      <td>5</td>\n",
       "      <td>24</td>\n",
       "      <td>24</td>\n",
       "      <td>24</td>\n",
       "      <td>24</td>\n",
       "      <td>24</td>\n",
       "      <td>24</td>\n",
       "      <td>24</td>\n",
       "      <td>24</td>\n",
       "      <td>24</td>\n",
       "      <td>24</td>\n",
       "      <td>24</td>\n",
       "      <td>23</td>\n",
       "      <td>24</td>\n",
       "    </tr>\n",
       "    <tr>\n",
       "      <td>6</td>\n",
       "      <td>24</td>\n",
       "      <td>24</td>\n",
       "      <td>24</td>\n",
       "      <td>24</td>\n",
       "      <td>24</td>\n",
       "      <td>24</td>\n",
       "      <td>24</td>\n",
       "      <td>24</td>\n",
       "      <td>24</td>\n",
       "      <td>24</td>\n",
       "      <td>24</td>\n",
       "      <td>24</td>\n",
       "      <td>24</td>\n",
       "    </tr>\n",
       "    <tr>\n",
       "      <td rowspan=\"7\" valign=\"top\">24</td>\n",
       "      <td>0</td>\n",
       "      <td>24</td>\n",
       "      <td>24</td>\n",
       "      <td>24</td>\n",
       "      <td>24</td>\n",
       "      <td>24</td>\n",
       "      <td>24</td>\n",
       "      <td>24</td>\n",
       "      <td>24</td>\n",
       "      <td>24</td>\n",
       "      <td>24</td>\n",
       "      <td>24</td>\n",
       "      <td>24</td>\n",
       "      <td>24</td>\n",
       "    </tr>\n",
       "    <tr>\n",
       "      <td>1</td>\n",
       "      <td>24</td>\n",
       "      <td>24</td>\n",
       "      <td>24</td>\n",
       "      <td>24</td>\n",
       "      <td>24</td>\n",
       "      <td>24</td>\n",
       "      <td>24</td>\n",
       "      <td>24</td>\n",
       "      <td>24</td>\n",
       "      <td>24</td>\n",
       "      <td>24</td>\n",
       "      <td>24</td>\n",
       "      <td>24</td>\n",
       "    </tr>\n",
       "    <tr>\n",
       "      <td>2</td>\n",
       "      <td>24</td>\n",
       "      <td>24</td>\n",
       "      <td>24</td>\n",
       "      <td>24</td>\n",
       "      <td>24</td>\n",
       "      <td>24</td>\n",
       "      <td>24</td>\n",
       "      <td>24</td>\n",
       "      <td>24</td>\n",
       "      <td>24</td>\n",
       "      <td>24</td>\n",
       "      <td>24</td>\n",
       "      <td>24</td>\n",
       "    </tr>\n",
       "    <tr>\n",
       "      <td>3</td>\n",
       "      <td>24</td>\n",
       "      <td>24</td>\n",
       "      <td>24</td>\n",
       "      <td>24</td>\n",
       "      <td>24</td>\n",
       "      <td>24</td>\n",
       "      <td>24</td>\n",
       "      <td>24</td>\n",
       "      <td>24</td>\n",
       "      <td>24</td>\n",
       "      <td>24</td>\n",
       "      <td>24</td>\n",
       "      <td>24</td>\n",
       "    </tr>\n",
       "    <tr>\n",
       "      <td>4</td>\n",
       "      <td>21</td>\n",
       "      <td>21</td>\n",
       "      <td>21</td>\n",
       "      <td>21</td>\n",
       "      <td>21</td>\n",
       "      <td>21</td>\n",
       "      <td>21</td>\n",
       "      <td>21</td>\n",
       "      <td>21</td>\n",
       "      <td>21</td>\n",
       "      <td>21</td>\n",
       "      <td>21</td>\n",
       "      <td>21</td>\n",
       "    </tr>\n",
       "    <tr>\n",
       "      <td>5</td>\n",
       "      <td>23</td>\n",
       "      <td>23</td>\n",
       "      <td>23</td>\n",
       "      <td>23</td>\n",
       "      <td>23</td>\n",
       "      <td>23</td>\n",
       "      <td>23</td>\n",
       "      <td>23</td>\n",
       "      <td>23</td>\n",
       "      <td>23</td>\n",
       "      <td>23</td>\n",
       "      <td>23</td>\n",
       "      <td>23</td>\n",
       "    </tr>\n",
       "    <tr>\n",
       "      <td>6</td>\n",
       "      <td>24</td>\n",
       "      <td>24</td>\n",
       "      <td>24</td>\n",
       "      <td>24</td>\n",
       "      <td>24</td>\n",
       "      <td>24</td>\n",
       "      <td>24</td>\n",
       "      <td>24</td>\n",
       "      <td>24</td>\n",
       "      <td>24</td>\n",
       "      <td>24</td>\n",
       "      <td>24</td>\n",
       "      <td>24</td>\n",
       "    </tr>\n",
       "    <tr>\n",
       "      <td rowspan=\"7\" valign=\"top\">25</td>\n",
       "      <td>0</td>\n",
       "      <td>24</td>\n",
       "      <td>24</td>\n",
       "      <td>24</td>\n",
       "      <td>24</td>\n",
       "      <td>24</td>\n",
       "      <td>24</td>\n",
       "      <td>24</td>\n",
       "      <td>24</td>\n",
       "      <td>24</td>\n",
       "      <td>24</td>\n",
       "      <td>24</td>\n",
       "      <td>24</td>\n",
       "      <td>24</td>\n",
       "    </tr>\n",
       "    <tr>\n",
       "      <td>1</td>\n",
       "      <td>24</td>\n",
       "      <td>24</td>\n",
       "      <td>24</td>\n",
       "      <td>24</td>\n",
       "      <td>24</td>\n",
       "      <td>24</td>\n",
       "      <td>24</td>\n",
       "      <td>24</td>\n",
       "      <td>24</td>\n",
       "      <td>24</td>\n",
       "      <td>24</td>\n",
       "      <td>24</td>\n",
       "      <td>24</td>\n",
       "    </tr>\n",
       "    <tr>\n",
       "      <td>2</td>\n",
       "      <td>24</td>\n",
       "      <td>24</td>\n",
       "      <td>24</td>\n",
       "      <td>24</td>\n",
       "      <td>24</td>\n",
       "      <td>24</td>\n",
       "      <td>24</td>\n",
       "      <td>24</td>\n",
       "      <td>24</td>\n",
       "      <td>24</td>\n",
       "      <td>24</td>\n",
       "      <td>24</td>\n",
       "      <td>24</td>\n",
       "    </tr>\n",
       "    <tr>\n",
       "      <td>3</td>\n",
       "      <td>24</td>\n",
       "      <td>24</td>\n",
       "      <td>24</td>\n",
       "      <td>24</td>\n",
       "      <td>24</td>\n",
       "      <td>24</td>\n",
       "      <td>24</td>\n",
       "      <td>24</td>\n",
       "      <td>24</td>\n",
       "      <td>24</td>\n",
       "      <td>24</td>\n",
       "      <td>24</td>\n",
       "      <td>24</td>\n",
       "    </tr>\n",
       "    <tr>\n",
       "      <td>4</td>\n",
       "      <td>24</td>\n",
       "      <td>24</td>\n",
       "      <td>24</td>\n",
       "      <td>24</td>\n",
       "      <td>24</td>\n",
       "      <td>24</td>\n",
       "      <td>24</td>\n",
       "      <td>24</td>\n",
       "      <td>24</td>\n",
       "      <td>24</td>\n",
       "      <td>24</td>\n",
       "      <td>24</td>\n",
       "      <td>24</td>\n",
       "    </tr>\n",
       "    <tr>\n",
       "      <td>5</td>\n",
       "      <td>24</td>\n",
       "      <td>24</td>\n",
       "      <td>24</td>\n",
       "      <td>24</td>\n",
       "      <td>24</td>\n",
       "      <td>24</td>\n",
       "      <td>24</td>\n",
       "      <td>24</td>\n",
       "      <td>24</td>\n",
       "      <td>24</td>\n",
       "      <td>24</td>\n",
       "      <td>24</td>\n",
       "      <td>24</td>\n",
       "    </tr>\n",
       "    <tr>\n",
       "      <td>6</td>\n",
       "      <td>24</td>\n",
       "      <td>24</td>\n",
       "      <td>24</td>\n",
       "      <td>24</td>\n",
       "      <td>24</td>\n",
       "      <td>24</td>\n",
       "      <td>24</td>\n",
       "      <td>24</td>\n",
       "      <td>24</td>\n",
       "      <td>24</td>\n",
       "      <td>24</td>\n",
       "      <td>24</td>\n",
       "      <td>24</td>\n",
       "    </tr>\n",
       "    <tr>\n",
       "      <td rowspan=\"7\" valign=\"top\">26</td>\n",
       "      <td>0</td>\n",
       "      <td>24</td>\n",
       "      <td>24</td>\n",
       "      <td>24</td>\n",
       "      <td>24</td>\n",
       "      <td>24</td>\n",
       "      <td>24</td>\n",
       "      <td>24</td>\n",
       "      <td>24</td>\n",
       "      <td>24</td>\n",
       "      <td>24</td>\n",
       "      <td>24</td>\n",
       "      <td>0</td>\n",
       "      <td>24</td>\n",
       "    </tr>\n",
       "    <tr>\n",
       "      <td>1</td>\n",
       "      <td>24</td>\n",
       "      <td>24</td>\n",
       "      <td>24</td>\n",
       "      <td>24</td>\n",
       "      <td>24</td>\n",
       "      <td>24</td>\n",
       "      <td>24</td>\n",
       "      <td>24</td>\n",
       "      <td>24</td>\n",
       "      <td>24</td>\n",
       "      <td>24</td>\n",
       "      <td>0</td>\n",
       "      <td>24</td>\n",
       "    </tr>\n",
       "    <tr>\n",
       "      <td>2</td>\n",
       "      <td>24</td>\n",
       "      <td>24</td>\n",
       "      <td>24</td>\n",
       "      <td>24</td>\n",
       "      <td>24</td>\n",
       "      <td>24</td>\n",
       "      <td>24</td>\n",
       "      <td>24</td>\n",
       "      <td>24</td>\n",
       "      <td>24</td>\n",
       "      <td>24</td>\n",
       "      <td>0</td>\n",
       "      <td>24</td>\n",
       "    </tr>\n",
       "    <tr>\n",
       "      <td>3</td>\n",
       "      <td>24</td>\n",
       "      <td>24</td>\n",
       "      <td>24</td>\n",
       "      <td>24</td>\n",
       "      <td>24</td>\n",
       "      <td>24</td>\n",
       "      <td>24</td>\n",
       "      <td>24</td>\n",
       "      <td>24</td>\n",
       "      <td>24</td>\n",
       "      <td>24</td>\n",
       "      <td>0</td>\n",
       "      <td>24</td>\n",
       "    </tr>\n",
       "    <tr>\n",
       "      <td>4</td>\n",
       "      <td>24</td>\n",
       "      <td>24</td>\n",
       "      <td>24</td>\n",
       "      <td>24</td>\n",
       "      <td>24</td>\n",
       "      <td>24</td>\n",
       "      <td>24</td>\n",
       "      <td>24</td>\n",
       "      <td>24</td>\n",
       "      <td>24</td>\n",
       "      <td>24</td>\n",
       "      <td>0</td>\n",
       "      <td>24</td>\n",
       "    </tr>\n",
       "    <tr>\n",
       "      <td>5</td>\n",
       "      <td>24</td>\n",
       "      <td>24</td>\n",
       "      <td>24</td>\n",
       "      <td>24</td>\n",
       "      <td>24</td>\n",
       "      <td>24</td>\n",
       "      <td>24</td>\n",
       "      <td>24</td>\n",
       "      <td>24</td>\n",
       "      <td>24</td>\n",
       "      <td>24</td>\n",
       "      <td>0</td>\n",
       "      <td>24</td>\n",
       "    </tr>\n",
       "    <tr>\n",
       "      <td>6</td>\n",
       "      <td>24</td>\n",
       "      <td>24</td>\n",
       "      <td>24</td>\n",
       "      <td>24</td>\n",
       "      <td>24</td>\n",
       "      <td>24</td>\n",
       "      <td>24</td>\n",
       "      <td>24</td>\n",
       "      <td>24</td>\n",
       "      <td>24</td>\n",
       "      <td>24</td>\n",
       "      <td>0</td>\n",
       "      <td>24</td>\n",
       "    </tr>\n",
       "  </tbody>\n",
       "</table>\n",
       "</div>"
      ],
      "text/plain": [
       "              hour  index  weekend  day_period  pm25  month  pm25_week_ago  \\\n",
       "week dayname                                                                 \n",
       "21   2          23     23       23          23    23     23             23   \n",
       "     3          24     24       24          24    24     24             24   \n",
       "     4          24     24       24          24    24     24             24   \n",
       "     5          16     16       16          16    16     16             16   \n",
       "     6          24     24       24          24    24     24             24   \n",
       "22   0          24     24       24          24    24     24             24   \n",
       "     1          13     13       13          13    13     13             13   \n",
       "     2           7      7        7           7     7      7              7   \n",
       "     3           5      5        5           5     5      5              5   \n",
       "     4          10     10       10          10    10     10             10   \n",
       "     5          13     13       13          13    13     13             13   \n",
       "     6          19     19       19          19    19     19             19   \n",
       "23   0          14     14       14          14    14     14             14   \n",
       "     1          24     24       24          24    24     24             24   \n",
       "     2          24     24       24          24    24     24             24   \n",
       "     3          24     24       24          24    24     24             24   \n",
       "     4          24     24       24          24    24     24             24   \n",
       "     5          24     24       24          24    24     24             24   \n",
       "     6          24     24       24          24    24     24             24   \n",
       "24   0          24     24       24          24    24     24             24   \n",
       "     1          24     24       24          24    24     24             24   \n",
       "     2          24     24       24          24    24     24             24   \n",
       "     3          24     24       24          24    24     24             24   \n",
       "     4          21     21       21          21    21     21             21   \n",
       "     5          23     23       23          23    23     23             23   \n",
       "     6          24     24       24          24    24     24             24   \n",
       "25   0          24     24       24          24    24     24             24   \n",
       "     1          24     24       24          24    24     24             24   \n",
       "     2          24     24       24          24    24     24             24   \n",
       "     3          24     24       24          24    24     24             24   \n",
       "     4          24     24       24          24    24     24             24   \n",
       "     5          24     24       24          24    24     24             24   \n",
       "     6          24     24       24          24    24     24             24   \n",
       "26   0          24     24       24          24    24     24             24   \n",
       "     1          24     24       24          24    24     24             24   \n",
       "     2          24     24       24          24    24     24             24   \n",
       "     3          24     24       24          24    24     24             24   \n",
       "     4          24     24       24          24    24     24             24   \n",
       "     5          24     24       24          24    24     24             24   \n",
       "     6          24     24       24          24    24     24             24   \n",
       "\n",
       "              pm25_two_week_ago  missing_pm25   x  trend  one_ahead  \\\n",
       "week dayname                                                          \n",
       "21   2                       23            23  23     23          6   \n",
       "     3                       24            24  24     24          5   \n",
       "     4                       24            24  24     24         10   \n",
       "     5                       16            16  16     16         11   \n",
       "     6                       24            24  24     24         19   \n",
       "22   0                       24            24  24     24         14   \n",
       "     1                       13            13  13     13         13   \n",
       "     2                        7             7   7      7          7   \n",
       "     3                        5             5   5      5          5   \n",
       "     4                       10            10  10     10         10   \n",
       "     5                       13            13  13     13         13   \n",
       "     6                       19            19  19     19         19   \n",
       "23   0                       14            14  14     14         14   \n",
       "     1                       24            24  24     24         24   \n",
       "     2                       24            24  24     24         24   \n",
       "     3                       24            24  24     24         24   \n",
       "     4                       24            24  24     24         21   \n",
       "     5                       24            24  24     24         23   \n",
       "     6                       24            24  24     24         24   \n",
       "24   0                       24            24  24     24         24   \n",
       "     1                       24            24  24     24         24   \n",
       "     2                       24            24  24     24         24   \n",
       "     3                       24            24  24     24         24   \n",
       "     4                       21            21  21     21         21   \n",
       "     5                       23            23  23     23         23   \n",
       "     6                       24            24  24     24         24   \n",
       "25   0                       24            24  24     24         24   \n",
       "     1                       24            24  24     24         24   \n",
       "     2                       24            24  24     24         24   \n",
       "     3                       24            24  24     24         24   \n",
       "     4                       24            24  24     24         24   \n",
       "     5                       24            24  24     24         24   \n",
       "     6                       24            24  24     24         24   \n",
       "26   0                       24            24  24     24          0   \n",
       "     1                       24            24  24     24          0   \n",
       "     2                       24            24  24     24          0   \n",
       "     3                       24            24  24     24          0   \n",
       "     4                       24            24  24     24          0   \n",
       "     5                       24            24  24     24          0   \n",
       "     6                       24            24  24     24          0   \n",
       "\n",
       "              pm25_week_ahead  \n",
       "week dayname                   \n",
       "21   2                     23  \n",
       "     3                     24  \n",
       "     4                     24  \n",
       "     5                     16  \n",
       "     6                     24  \n",
       "22   0                     24  \n",
       "     1                     13  \n",
       "     2                      7  \n",
       "     3                      5  \n",
       "     4                     10  \n",
       "     5                     13  \n",
       "     6                     19  \n",
       "23   0                     14  \n",
       "     1                     24  \n",
       "     2                     24  \n",
       "     3                     24  \n",
       "     4                     24  \n",
       "     5                     24  \n",
       "     6                     24  \n",
       "24   0                     24  \n",
       "     1                     24  \n",
       "     2                     24  \n",
       "     3                     24  \n",
       "     4                     21  \n",
       "     5                     23  \n",
       "     6                     24  \n",
       "25   0                     24  \n",
       "     1                     24  \n",
       "     2                     24  \n",
       "     3                     24  \n",
       "     4                     24  \n",
       "     5                     24  \n",
       "     6                     24  \n",
       "26   0                     24  \n",
       "     1                     24  \n",
       "     2                     24  \n",
       "     3                     24  \n",
       "     4                     24  \n",
       "     5                     24  \n",
       "     6                     24  "
      ]
     },
     "execution_count": 100,
     "metadata": {},
     "output_type": "execute_result"
    }
   ],
   "source": [
    "df.reset_index().groupby(['week','dayname']).count()"
   ]
  },
  {
   "cell_type": "code",
   "execution_count": 101,
   "metadata": {
    "ExecuteTime": {
     "end_time": "2020-02-07T15:29:28.973009Z",
     "start_time": "2020-02-07T15:29:28.921792Z"
    },
    "hidden": true
   },
   "outputs": [],
   "source": [
    "calendar=[]\n",
    "for h in range(0,24):\n",
    "    for d in range(0,7):\n",
    "        for week in range (21,27):\n",
    "            calendar.append([week,d,h])\n",
    "norm_df=pd.DataFrame(calendar)\n",
    "norm_df.columns=['week','dayname','hour']\n",
    "norm_df.set_index(['week','dayname','hour'],inplace=True)"
   ]
  },
  {
   "cell_type": "code",
   "execution_count": 103,
   "metadata": {
    "ExecuteTime": {
     "end_time": "2020-02-07T15:30:59.741653Z",
     "start_time": "2020-02-07T15:30:59.726707Z"
    },
    "hidden": true,
    "scrolled": true
   },
   "outputs": [
    {
     "data": {
      "text/html": [
       "<div>\n",
       "<style scoped>\n",
       "    .dataframe tbody tr th:only-of-type {\n",
       "        vertical-align: middle;\n",
       "    }\n",
       "\n",
       "    .dataframe tbody tr th {\n",
       "        vertical-align: top;\n",
       "    }\n",
       "\n",
       "    .dataframe thead th {\n",
       "        text-align: right;\n",
       "    }\n",
       "</style>\n",
       "<table border=\"1\" class=\"dataframe\">\n",
       "  <thead>\n",
       "    <tr style=\"text-align: right;\">\n",
       "      <th></th>\n",
       "      <th></th>\n",
       "      <th></th>\n",
       "    </tr>\n",
       "    <tr>\n",
       "      <th>week</th>\n",
       "      <th>dayname</th>\n",
       "      <th>hour</th>\n",
       "    </tr>\n",
       "  </thead>\n",
       "  <tbody>\n",
       "    <tr>\n",
       "      <td>21</td>\n",
       "      <td>0</td>\n",
       "      <td>0</td>\n",
       "    </tr>\n",
       "    <tr>\n",
       "      <td>22</td>\n",
       "      <td>0</td>\n",
       "      <td>0</td>\n",
       "    </tr>\n",
       "    <tr>\n",
       "      <td>23</td>\n",
       "      <td>0</td>\n",
       "      <td>0</td>\n",
       "    </tr>\n",
       "    <tr>\n",
       "      <td>24</td>\n",
       "      <td>0</td>\n",
       "      <td>0</td>\n",
       "    </tr>\n",
       "    <tr>\n",
       "      <td>25</td>\n",
       "      <td>0</td>\n",
       "      <td>0</td>\n",
       "    </tr>\n",
       "  </tbody>\n",
       "</table>\n",
       "</div>"
      ],
      "text/plain": [
       "Empty DataFrame\n",
       "Columns: []\n",
       "Index: [(21, 0, 0), (22, 0, 0), (23, 0, 0), (24, 0, 0), (25, 0, 0)]"
      ]
     },
     "execution_count": 103,
     "metadata": {},
     "output_type": "execute_result"
    }
   ],
   "source": [
    "norm_df.head()"
   ]
  },
  {
   "cell_type": "code",
   "execution_count": 105,
   "metadata": {
    "ExecuteTime": {
     "end_time": "2020-02-07T15:31:48.488569Z",
     "start_time": "2020-02-07T15:31:48.461270Z"
    },
    "hidden": true,
    "scrolled": true
   },
   "outputs": [
    {
     "data": {
      "text/html": [
       "<div>\n",
       "<style scoped>\n",
       "    .dataframe tbody tr th:only-of-type {\n",
       "        vertical-align: middle;\n",
       "    }\n",
       "\n",
       "    .dataframe tbody tr th {\n",
       "        vertical-align: top;\n",
       "    }\n",
       "\n",
       "    .dataframe thead th {\n",
       "        text-align: right;\n",
       "    }\n",
       "</style>\n",
       "<table border=\"1\" class=\"dataframe\">\n",
       "  <thead>\n",
       "    <tr style=\"text-align: right;\">\n",
       "      <th></th>\n",
       "      <th>dayname</th>\n",
       "      <th>hour</th>\n",
       "      <th>week</th>\n",
       "      <th>pm25</th>\n",
       "      <th>pm25_week_ahead</th>\n",
       "    </tr>\n",
       "  </thead>\n",
       "  <tbody>\n",
       "    <tr>\n",
       "      <td>0</td>\n",
       "      <td>0</td>\n",
       "      <td>0</td>\n",
       "      <td>22</td>\n",
       "      <td>15.13</td>\n",
       "      <td>12.670000</td>\n",
       "    </tr>\n",
       "    <tr>\n",
       "      <td>1</td>\n",
       "      <td>0</td>\n",
       "      <td>0</td>\n",
       "      <td>24</td>\n",
       "      <td>14.82</td>\n",
       "      <td>4.780000</td>\n",
       "    </tr>\n",
       "    <tr>\n",
       "      <td>2</td>\n",
       "      <td>0</td>\n",
       "      <td>0</td>\n",
       "      <td>25</td>\n",
       "      <td>4.78</td>\n",
       "      <td>15.950000</td>\n",
       "    </tr>\n",
       "    <tr>\n",
       "      <td>3</td>\n",
       "      <td>0</td>\n",
       "      <td>0</td>\n",
       "      <td>26</td>\n",
       "      <td>15.95</td>\n",
       "      <td>12.670000</td>\n",
       "    </tr>\n",
       "    <tr>\n",
       "      <td>4</td>\n",
       "      <td>0</td>\n",
       "      <td>1</td>\n",
       "      <td>22</td>\n",
       "      <td>15.53</td>\n",
       "      <td>12.000000</td>\n",
       "    </tr>\n",
       "    <tr>\n",
       "      <td>...</td>\n",
       "      <td>...</td>\n",
       "      <td>...</td>\n",
       "      <td>...</td>\n",
       "      <td>...</td>\n",
       "      <td>...</td>\n",
       "    </tr>\n",
       "    <tr>\n",
       "      <td>855</td>\n",
       "      <td>6</td>\n",
       "      <td>23</td>\n",
       "      <td>22</td>\n",
       "      <td>35.60</td>\n",
       "      <td>12.930000</td>\n",
       "    </tr>\n",
       "    <tr>\n",
       "      <td>856</td>\n",
       "      <td>6</td>\n",
       "      <td>23</td>\n",
       "      <td>23</td>\n",
       "      <td>12.93</td>\n",
       "      <td>3.750000</td>\n",
       "    </tr>\n",
       "    <tr>\n",
       "      <td>857</td>\n",
       "      <td>6</td>\n",
       "      <td>23</td>\n",
       "      <td>24</td>\n",
       "      <td>3.75</td>\n",
       "      <td>15.170000</td>\n",
       "    </tr>\n",
       "    <tr>\n",
       "      <td>858</td>\n",
       "      <td>6</td>\n",
       "      <td>23</td>\n",
       "      <td>25</td>\n",
       "      <td>15.17</td>\n",
       "      <td>29.840000</td>\n",
       "    </tr>\n",
       "    <tr>\n",
       "      <td>859</td>\n",
       "      <td>6</td>\n",
       "      <td>23</td>\n",
       "      <td>26</td>\n",
       "      <td>29.84</td>\n",
       "      <td>19.066667</td>\n",
       "    </tr>\n",
       "  </tbody>\n",
       "</table>\n",
       "<p>860 rows × 5 columns</p>\n",
       "</div>"
      ],
      "text/plain": [
       "     dayname  hour  week   pm25  pm25_week_ahead\n",
       "0          0     0    22  15.13        12.670000\n",
       "1          0     0    24  14.82         4.780000\n",
       "2          0     0    25   4.78        15.950000\n",
       "3          0     0    26  15.95        12.670000\n",
       "4          0     1    22  15.53        12.000000\n",
       "..       ...   ...   ...    ...              ...\n",
       "855        6    23    22  35.60        12.930000\n",
       "856        6    23    23  12.93         3.750000\n",
       "857        6    23    24   3.75        15.170000\n",
       "858        6    23    25  15.17        29.840000\n",
       "859        6    23    26  29.84        19.066667\n",
       "\n",
       "[860 rows x 5 columns]"
      ]
     },
     "execution_count": 105,
     "metadata": {},
     "output_type": "execute_result"
    }
   ],
   "source": [
    "df[['pm25','pm25_week_ahead']].reset_index()"
   ]
  },
  {
   "cell_type": "code",
   "execution_count": 106,
   "metadata": {
    "ExecuteTime": {
     "end_time": "2020-02-07T15:31:48.521998Z",
     "start_time": "2020-02-07T15:31:48.491914Z"
    },
    "hidden": true,
    "scrolled": true
   },
   "outputs": [],
   "source": [
    "lt_df=pd.merge(norm_df.reset_index(),df[['pm25','pm25_week_ahead']].reset_index(), on=['week','dayname','hour'], how='left')"
   ]
  },
  {
   "cell_type": "code",
   "execution_count": 107,
   "metadata": {
    "ExecuteTime": {
     "end_time": "2020-02-07T15:31:48.547298Z",
     "start_time": "2020-02-07T15:31:48.527255Z"
    },
    "hidden": true
   },
   "outputs": [
    {
     "data": {
      "text/html": [
       "<div>\n",
       "<style scoped>\n",
       "    .dataframe tbody tr th:only-of-type {\n",
       "        vertical-align: middle;\n",
       "    }\n",
       "\n",
       "    .dataframe tbody tr th {\n",
       "        vertical-align: top;\n",
       "    }\n",
       "\n",
       "    .dataframe thead th {\n",
       "        text-align: right;\n",
       "    }\n",
       "</style>\n",
       "<table border=\"1\" class=\"dataframe\">\n",
       "  <thead>\n",
       "    <tr style=\"text-align: right;\">\n",
       "      <th></th>\n",
       "      <th>week</th>\n",
       "      <th>dayname</th>\n",
       "      <th>hour</th>\n",
       "      <th>pm25</th>\n",
       "      <th>pm25_week_ahead</th>\n",
       "    </tr>\n",
       "  </thead>\n",
       "  <tbody>\n",
       "    <tr>\n",
       "      <td>0</td>\n",
       "      <td>21</td>\n",
       "      <td>0</td>\n",
       "      <td>0</td>\n",
       "      <td>NaN</td>\n",
       "      <td>NaN</td>\n",
       "    </tr>\n",
       "    <tr>\n",
       "      <td>1</td>\n",
       "      <td>22</td>\n",
       "      <td>0</td>\n",
       "      <td>0</td>\n",
       "      <td>15.13</td>\n",
       "      <td>12.67</td>\n",
       "    </tr>\n",
       "    <tr>\n",
       "      <td>2</td>\n",
       "      <td>23</td>\n",
       "      <td>0</td>\n",
       "      <td>0</td>\n",
       "      <td>NaN</td>\n",
       "      <td>NaN</td>\n",
       "    </tr>\n",
       "    <tr>\n",
       "      <td>3</td>\n",
       "      <td>24</td>\n",
       "      <td>0</td>\n",
       "      <td>0</td>\n",
       "      <td>14.82</td>\n",
       "      <td>4.78</td>\n",
       "    </tr>\n",
       "    <tr>\n",
       "      <td>4</td>\n",
       "      <td>25</td>\n",
       "      <td>0</td>\n",
       "      <td>0</td>\n",
       "      <td>4.78</td>\n",
       "      <td>15.95</td>\n",
       "    </tr>\n",
       "  </tbody>\n",
       "</table>\n",
       "</div>"
      ],
      "text/plain": [
       "   week  dayname  hour   pm25  pm25_week_ahead\n",
       "0    21        0     0    NaN              NaN\n",
       "1    22        0     0  15.13            12.67\n",
       "2    23        0     0    NaN              NaN\n",
       "3    24        0     0  14.82             4.78\n",
       "4    25        0     0   4.78            15.95"
      ]
     },
     "execution_count": 107,
     "metadata": {},
     "output_type": "execute_result"
    }
   ],
   "source": [
    "lt_df.head()"
   ]
  },
  {
   "cell_type": "code",
   "execution_count": 108,
   "metadata": {
    "ExecuteTime": {
     "end_time": "2020-02-07T15:31:48.585810Z",
     "start_time": "2020-02-07T15:31:48.552057Z"
    },
    "hidden": true
   },
   "outputs": [],
   "source": [
    "week_ago=lt_df.groupby(['dayname','hour']).agg({'pm25':'mean'})\n",
    "week_ago.columns=['missing_pm25']\n",
    "lt_df=lt_df.set_index(['dayname','hour']).join(week_ago)"
   ]
  },
  {
   "cell_type": "code",
   "execution_count": 109,
   "metadata": {
    "ExecuteTime": {
     "end_time": "2020-02-07T15:31:48.611208Z",
     "start_time": "2020-02-07T15:31:48.586842Z"
    },
    "hidden": true
   },
   "outputs": [
    {
     "data": {
      "text/html": [
       "<div>\n",
       "<style scoped>\n",
       "    .dataframe tbody tr th:only-of-type {\n",
       "        vertical-align: middle;\n",
       "    }\n",
       "\n",
       "    .dataframe tbody tr th {\n",
       "        vertical-align: top;\n",
       "    }\n",
       "\n",
       "    .dataframe thead th {\n",
       "        text-align: right;\n",
       "    }\n",
       "</style>\n",
       "<table border=\"1\" class=\"dataframe\">\n",
       "  <thead>\n",
       "    <tr style=\"text-align: right;\">\n",
       "      <th></th>\n",
       "      <th></th>\n",
       "      <th>week</th>\n",
       "      <th>pm25</th>\n",
       "      <th>pm25_week_ahead</th>\n",
       "      <th>missing_pm25</th>\n",
       "    </tr>\n",
       "    <tr>\n",
       "      <th>dayname</th>\n",
       "      <th>hour</th>\n",
       "      <th></th>\n",
       "      <th></th>\n",
       "      <th></th>\n",
       "      <th></th>\n",
       "    </tr>\n",
       "  </thead>\n",
       "  <tbody>\n",
       "    <tr>\n",
       "      <td rowspan=\"5\" valign=\"top\">0</td>\n",
       "      <td>0</td>\n",
       "      <td>21</td>\n",
       "      <td>NaN</td>\n",
       "      <td>NaN</td>\n",
       "      <td>12.67</td>\n",
       "    </tr>\n",
       "    <tr>\n",
       "      <td>0</td>\n",
       "      <td>22</td>\n",
       "      <td>15.13</td>\n",
       "      <td>12.67</td>\n",
       "      <td>12.67</td>\n",
       "    </tr>\n",
       "    <tr>\n",
       "      <td>0</td>\n",
       "      <td>23</td>\n",
       "      <td>NaN</td>\n",
       "      <td>NaN</td>\n",
       "      <td>12.67</td>\n",
       "    </tr>\n",
       "    <tr>\n",
       "      <td>0</td>\n",
       "      <td>24</td>\n",
       "      <td>14.82</td>\n",
       "      <td>4.78</td>\n",
       "      <td>12.67</td>\n",
       "    </tr>\n",
       "    <tr>\n",
       "      <td>0</td>\n",
       "      <td>25</td>\n",
       "      <td>4.78</td>\n",
       "      <td>15.95</td>\n",
       "      <td>12.67</td>\n",
       "    </tr>\n",
       "  </tbody>\n",
       "</table>\n",
       "</div>"
      ],
      "text/plain": [
       "              week   pm25  pm25_week_ahead  missing_pm25\n",
       "dayname hour                                            \n",
       "0       0       21    NaN              NaN         12.67\n",
       "        0       22  15.13            12.67         12.67\n",
       "        0       23    NaN              NaN         12.67\n",
       "        0       24  14.82             4.78         12.67\n",
       "        0       25   4.78            15.95         12.67"
      ]
     },
     "execution_count": 109,
     "metadata": {},
     "output_type": "execute_result"
    }
   ],
   "source": [
    "lt_df.head()"
   ]
  },
  {
   "cell_type": "code",
   "execution_count": 110,
   "metadata": {
    "ExecuteTime": {
     "end_time": "2020-02-07T15:31:48.629676Z",
     "start_time": "2020-02-07T15:31:48.615292Z"
    },
    "hidden": true
   },
   "outputs": [],
   "source": [
    "lt_df['pm25_week_ahead']=np.select([lt_df.pm25_week_ahead.isnull()], [lt_df.missing_pm25], default=lt_df.pm25_week_ahead)\n",
    "lt_df['pm25']=np.select([lt_df.pm25.isnull()],[lt_df.missing_pm25],default=lt_df.pm25)"
   ]
  },
  {
   "cell_type": "code",
   "execution_count": 111,
   "metadata": {
    "ExecuteTime": {
     "end_time": "2020-02-07T15:31:48.679416Z",
     "start_time": "2020-02-07T15:31:48.633621Z"
    },
    "hidden": true,
    "scrolled": true
   },
   "outputs": [
    {
     "data": {
      "text/html": [
       "<div>\n",
       "<style scoped>\n",
       "    .dataframe tbody tr th:only-of-type {\n",
       "        vertical-align: middle;\n",
       "    }\n",
       "\n",
       "    .dataframe tbody tr th {\n",
       "        vertical-align: top;\n",
       "    }\n",
       "\n",
       "    .dataframe thead th {\n",
       "        text-align: right;\n",
       "    }\n",
       "</style>\n",
       "<table border=\"1\" class=\"dataframe\">\n",
       "  <thead>\n",
       "    <tr style=\"text-align: right;\">\n",
       "      <th></th>\n",
       "      <th></th>\n",
       "      <th>week</th>\n",
       "      <th>pm25</th>\n",
       "      <th>pm25_week_ahead</th>\n",
       "      <th>missing_pm25</th>\n",
       "    </tr>\n",
       "    <tr>\n",
       "      <th>dayname</th>\n",
       "      <th>hour</th>\n",
       "      <th></th>\n",
       "      <th></th>\n",
       "      <th></th>\n",
       "      <th></th>\n",
       "    </tr>\n",
       "  </thead>\n",
       "  <tbody>\n",
       "    <tr>\n",
       "      <td rowspan=\"5\" valign=\"top\">0</td>\n",
       "      <td>0</td>\n",
       "      <td>21</td>\n",
       "      <td>12.67</td>\n",
       "      <td>12.670000</td>\n",
       "      <td>12.670000</td>\n",
       "    </tr>\n",
       "    <tr>\n",
       "      <td>0</td>\n",
       "      <td>22</td>\n",
       "      <td>15.13</td>\n",
       "      <td>12.670000</td>\n",
       "      <td>12.670000</td>\n",
       "    </tr>\n",
       "    <tr>\n",
       "      <td>0</td>\n",
       "      <td>23</td>\n",
       "      <td>12.67</td>\n",
       "      <td>12.670000</td>\n",
       "      <td>12.670000</td>\n",
       "    </tr>\n",
       "    <tr>\n",
       "      <td>0</td>\n",
       "      <td>24</td>\n",
       "      <td>14.82</td>\n",
       "      <td>4.780000</td>\n",
       "      <td>12.670000</td>\n",
       "    </tr>\n",
       "    <tr>\n",
       "      <td>0</td>\n",
       "      <td>25</td>\n",
       "      <td>4.78</td>\n",
       "      <td>15.950000</td>\n",
       "      <td>12.670000</td>\n",
       "    </tr>\n",
       "    <tr>\n",
       "      <td>...</td>\n",
       "      <td>...</td>\n",
       "      <td>...</td>\n",
       "      <td>...</td>\n",
       "      <td>...</td>\n",
       "      <td>...</td>\n",
       "    </tr>\n",
       "    <tr>\n",
       "      <td rowspan=\"5\" valign=\"top\">6</td>\n",
       "      <td>23</td>\n",
       "      <td>22</td>\n",
       "      <td>35.60</td>\n",
       "      <td>12.930000</td>\n",
       "      <td>19.066667</td>\n",
       "    </tr>\n",
       "    <tr>\n",
       "      <td>23</td>\n",
       "      <td>23</td>\n",
       "      <td>12.93</td>\n",
       "      <td>3.750000</td>\n",
       "      <td>19.066667</td>\n",
       "    </tr>\n",
       "    <tr>\n",
       "      <td>23</td>\n",
       "      <td>24</td>\n",
       "      <td>3.75</td>\n",
       "      <td>15.170000</td>\n",
       "      <td>19.066667</td>\n",
       "    </tr>\n",
       "    <tr>\n",
       "      <td>23</td>\n",
       "      <td>25</td>\n",
       "      <td>15.17</td>\n",
       "      <td>29.840000</td>\n",
       "      <td>19.066667</td>\n",
       "    </tr>\n",
       "    <tr>\n",
       "      <td>23</td>\n",
       "      <td>26</td>\n",
       "      <td>29.84</td>\n",
       "      <td>19.066667</td>\n",
       "      <td>19.066667</td>\n",
       "    </tr>\n",
       "  </tbody>\n",
       "</table>\n",
       "<p>1008 rows × 4 columns</p>\n",
       "</div>"
      ],
      "text/plain": [
       "              week   pm25  pm25_week_ahead  missing_pm25\n",
       "dayname hour                                            \n",
       "0       0       21  12.67        12.670000     12.670000\n",
       "        0       22  15.13        12.670000     12.670000\n",
       "        0       23  12.67        12.670000     12.670000\n",
       "        0       24  14.82         4.780000     12.670000\n",
       "        0       25   4.78        15.950000     12.670000\n",
       "...            ...    ...              ...           ...\n",
       "6       23      22  35.60        12.930000     19.066667\n",
       "        23      23  12.93         3.750000     19.066667\n",
       "        23      24   3.75        15.170000     19.066667\n",
       "        23      25  15.17        29.840000     19.066667\n",
       "        23      26  29.84        19.066667     19.066667\n",
       "\n",
       "[1008 rows x 4 columns]"
      ]
     },
     "execution_count": 111,
     "metadata": {},
     "output_type": "execute_result"
    }
   ],
   "source": [
    "lt_df"
   ]
  },
  {
   "cell_type": "code",
   "execution_count": 112,
   "metadata": {
    "ExecuteTime": {
     "end_time": "2020-02-07T15:31:48.695811Z",
     "start_time": "2020-02-07T15:31:48.686513Z"
    },
    "hidden": true
   },
   "outputs": [
    {
     "data": {
      "text/plain": [
       "(1008, 4)"
      ]
     },
     "execution_count": 112,
     "metadata": {},
     "output_type": "execute_result"
    }
   ],
   "source": [
    "lt_df.shape"
   ]
  },
  {
   "cell_type": "code",
   "execution_count": 113,
   "metadata": {
    "ExecuteTime": {
     "end_time": "2020-02-07T15:31:48.714823Z",
     "start_time": "2020-02-07T15:31:48.700668Z"
    },
    "hidden": true
   },
   "outputs": [],
   "source": [
    "lt_df=lt_df[lt_df.week<26]"
   ]
  },
  {
   "cell_type": "code",
   "execution_count": 114,
   "metadata": {
    "ExecuteTime": {
     "end_time": "2020-02-07T15:31:48.730096Z",
     "start_time": "2020-02-07T15:31:48.718983Z"
    },
    "hidden": true
   },
   "outputs": [],
   "source": [
    "# create a differenced series\n",
    "def difference(dataset, interval=1):\n",
    "\tdiff = list()\n",
    "\tfor i in range(interval, len(dataset)):\n",
    "\t\tvalue = dataset[i] - dataset[i - interval]\n",
    "\t\tdiff.append(value)\n",
    "\treturn Series(diff)"
   ]
  },
  {
   "cell_type": "code",
   "execution_count": 115,
   "metadata": {
    "ExecuteTime": {
     "end_time": "2020-02-07T15:31:48.743922Z",
     "start_time": "2020-02-07T15:31:48.733637Z"
    },
    "hidden": true
   },
   "outputs": [],
   "source": [
    "# invert differenced value\n",
    "def inverse_difference(history, yhat, interval=1):\n",
    "\treturn yhat + history[-interval]"
   ]
  },
  {
   "cell_type": "code",
   "execution_count": 116,
   "metadata": {
    "ExecuteTime": {
     "end_time": "2020-02-07T15:31:48.776607Z",
     "start_time": "2020-02-07T15:31:48.748704Z"
    },
    "hidden": true
   },
   "outputs": [
    {
     "data": {
      "text/html": [
       "<div>\n",
       "<style scoped>\n",
       "    .dataframe tbody tr th:only-of-type {\n",
       "        vertical-align: middle;\n",
       "    }\n",
       "\n",
       "    .dataframe tbody tr th {\n",
       "        vertical-align: top;\n",
       "    }\n",
       "\n",
       "    .dataframe thead th {\n",
       "        text-align: right;\n",
       "    }\n",
       "</style>\n",
       "<table border=\"1\" class=\"dataframe\">\n",
       "  <thead>\n",
       "    <tr style=\"text-align: right;\">\n",
       "      <th></th>\n",
       "      <th></th>\n",
       "      <th>week</th>\n",
       "      <th>pm25</th>\n",
       "      <th>pm25_week_ahead</th>\n",
       "      <th>missing_pm25</th>\n",
       "    </tr>\n",
       "    <tr>\n",
       "      <th>dayname</th>\n",
       "      <th>hour</th>\n",
       "      <th></th>\n",
       "      <th></th>\n",
       "      <th></th>\n",
       "      <th></th>\n",
       "    </tr>\n",
       "  </thead>\n",
       "  <tbody>\n",
       "    <tr>\n",
       "      <td rowspan=\"5\" valign=\"top\">0</td>\n",
       "      <td>0</td>\n",
       "      <td>21</td>\n",
       "      <td>12.67</td>\n",
       "      <td>12.67</td>\n",
       "      <td>12.67</td>\n",
       "    </tr>\n",
       "    <tr>\n",
       "      <td>0</td>\n",
       "      <td>22</td>\n",
       "      <td>15.13</td>\n",
       "      <td>12.67</td>\n",
       "      <td>12.67</td>\n",
       "    </tr>\n",
       "    <tr>\n",
       "      <td>0</td>\n",
       "      <td>23</td>\n",
       "      <td>12.67</td>\n",
       "      <td>12.67</td>\n",
       "      <td>12.67</td>\n",
       "    </tr>\n",
       "    <tr>\n",
       "      <td>0</td>\n",
       "      <td>24</td>\n",
       "      <td>14.82</td>\n",
       "      <td>4.78</td>\n",
       "      <td>12.67</td>\n",
       "    </tr>\n",
       "    <tr>\n",
       "      <td>0</td>\n",
       "      <td>25</td>\n",
       "      <td>4.78</td>\n",
       "      <td>15.95</td>\n",
       "      <td>12.67</td>\n",
       "    </tr>\n",
       "  </tbody>\n",
       "</table>\n",
       "</div>"
      ],
      "text/plain": [
       "              week   pm25  pm25_week_ahead  missing_pm25\n",
       "dayname hour                                            \n",
       "0       0       21  12.67            12.67         12.67\n",
       "        0       22  15.13            12.67         12.67\n",
       "        0       23  12.67            12.67         12.67\n",
       "        0       24  14.82             4.78         12.67\n",
       "        0       25   4.78            15.95         12.67"
      ]
     },
     "execution_count": 116,
     "metadata": {},
     "output_type": "execute_result"
    }
   ],
   "source": [
    "lt_df.head()"
   ]
  },
  {
   "cell_type": "code",
   "execution_count": 117,
   "metadata": {
    "ExecuteTime": {
     "end_time": "2020-02-07T15:31:48.814745Z",
     "start_time": "2020-02-07T15:31:48.780691Z"
    },
    "hidden": true,
    "scrolled": true
   },
   "outputs": [
    {
     "data": {
      "text/html": [
       "<div>\n",
       "<style scoped>\n",
       "    .dataframe tbody tr th:only-of-type {\n",
       "        vertical-align: middle;\n",
       "    }\n",
       "\n",
       "    .dataframe tbody tr th {\n",
       "        vertical-align: top;\n",
       "    }\n",
       "\n",
       "    .dataframe thead th {\n",
       "        text-align: right;\n",
       "    }\n",
       "</style>\n",
       "<table border=\"1\" class=\"dataframe\">\n",
       "  <thead>\n",
       "    <tr style=\"text-align: right;\">\n",
       "      <th></th>\n",
       "      <th>pm25</th>\n",
       "      <th>pm25_week_ahead</th>\n",
       "    </tr>\n",
       "  </thead>\n",
       "  <tbody>\n",
       "    <tr>\n",
       "      <td>0</td>\n",
       "      <td>12.67</td>\n",
       "      <td>12.67</td>\n",
       "    </tr>\n",
       "    <tr>\n",
       "      <td>1</td>\n",
       "      <td>15.13</td>\n",
       "      <td>12.67</td>\n",
       "    </tr>\n",
       "    <tr>\n",
       "      <td>2</td>\n",
       "      <td>12.67</td>\n",
       "      <td>12.67</td>\n",
       "    </tr>\n",
       "    <tr>\n",
       "      <td>3</td>\n",
       "      <td>14.82</td>\n",
       "      <td>4.78</td>\n",
       "    </tr>\n",
       "    <tr>\n",
       "      <td>4</td>\n",
       "      <td>4.78</td>\n",
       "      <td>15.95</td>\n",
       "    </tr>\n",
       "    <tr>\n",
       "      <td>...</td>\n",
       "      <td>...</td>\n",
       "      <td>...</td>\n",
       "    </tr>\n",
       "    <tr>\n",
       "      <td>835</td>\n",
       "      <td>17.11</td>\n",
       "      <td>35.60</td>\n",
       "    </tr>\n",
       "    <tr>\n",
       "      <td>836</td>\n",
       "      <td>35.60</td>\n",
       "      <td>12.93</td>\n",
       "    </tr>\n",
       "    <tr>\n",
       "      <td>837</td>\n",
       "      <td>12.93</td>\n",
       "      <td>3.75</td>\n",
       "    </tr>\n",
       "    <tr>\n",
       "      <td>838</td>\n",
       "      <td>3.75</td>\n",
       "      <td>15.17</td>\n",
       "    </tr>\n",
       "    <tr>\n",
       "      <td>839</td>\n",
       "      <td>15.17</td>\n",
       "      <td>29.84</td>\n",
       "    </tr>\n",
       "  </tbody>\n",
       "</table>\n",
       "<p>840 rows × 2 columns</p>\n",
       "</div>"
      ],
      "text/plain": [
       "      pm25  pm25_week_ahead\n",
       "0    12.67            12.67\n",
       "1    15.13            12.67\n",
       "2    12.67            12.67\n",
       "3    14.82             4.78\n",
       "4     4.78            15.95\n",
       "..     ...              ...\n",
       "835  17.11            35.60\n",
       "836  35.60            12.93\n",
       "837  12.93             3.75\n",
       "838   3.75            15.17\n",
       "839  15.17            29.84\n",
       "\n",
       "[840 rows x 2 columns]"
      ]
     },
     "execution_count": 117,
     "metadata": {},
     "output_type": "execute_result"
    }
   ],
   "source": [
    "lt_df.reset_index()[['pm25','pm25_week_ahead']]"
   ]
  },
  {
   "cell_type": "code",
   "execution_count": 118,
   "metadata": {
    "ExecuteTime": {
     "end_time": "2020-02-07T15:31:48.830976Z",
     "start_time": "2020-02-07T15:31:48.819812Z"
    },
    "hidden": true
   },
   "outputs": [],
   "source": [
    "X=lt_df[['pm25']].values"
   ]
  },
  {
   "cell_type": "code",
   "execution_count": 119,
   "metadata": {
    "ExecuteTime": {
     "end_time": "2020-02-07T15:31:48.858300Z",
     "start_time": "2020-02-07T15:31:48.833398Z"
    },
    "hidden": true
   },
   "outputs": [
    {
     "name": "stdout",
     "output_type": "stream",
     "text": [
      "0   -0.299419\n",
      "1   -0.163395\n",
      "2   -0.299419\n",
      "3   -0.180536\n",
      "4   -0.735693\n",
      "dtype: float64\n",
      "0    12.67\n",
      "1    15.13\n",
      "2    12.67\n",
      "3    14.82\n",
      "4     4.78\n",
      "dtype: float64\n"
     ]
    }
   ],
   "source": [
    "from pandas import read_csv\n",
    "from pandas import datetime\n",
    "from pandas import Series\n",
    "from sklearn.preprocessing import MinMaxScaler\n",
    "X = X.reshape(len(X), 1)\n",
    "scaler = MinMaxScaler(feature_range=(-1, 1))\n",
    "scaler = scaler.fit(X)\n",
    "scaled_X = scaler.transform(X)\n",
    "scaled_series = Series(scaled_X[:, 0])\n",
    "print(scaled_series.head())\n",
    "# invert transform\n",
    "inverted_X = scaler.inverse_transform(scaled_X)\n",
    "inverted_series = Series(inverted_X[:, 0])\n",
    "print(inverted_series.head())"
   ]
  },
  {
   "cell_type": "code",
   "execution_count": 120,
   "metadata": {
    "ExecuteTime": {
     "end_time": "2020-02-07T15:31:48.872475Z",
     "start_time": "2020-02-07T15:31:48.863575Z"
    },
    "hidden": true
   },
   "outputs": [],
   "source": [
    "X, y = X[:,0:-1], X[:,-1]\n",
    "X = X.reshape(X.shape[0], 1, X.shape[1])"
   ]
  },
  {
   "cell_type": "code",
   "execution_count": 121,
   "metadata": {
    "ExecuteTime": {
     "end_time": "2020-02-07T15:31:48.907578Z",
     "start_time": "2020-02-07T15:31:48.878468Z"
    },
    "hidden": true
   },
   "outputs": [
    {
     "ename": "NameError",
     "evalue": "name 'LSTM' is not defined",
     "output_type": "error",
     "traceback": [
      "\u001b[1;31m---------------------------------------------------------------------------\u001b[0m",
      "\u001b[1;31mNameError\u001b[0m                                 Traceback (most recent call last)",
      "\u001b[1;32m<ipython-input-121-023bec1fe9e3>\u001b[0m in \u001b[0;36m<module>\u001b[1;34m\u001b[0m\n\u001b[1;32m----> 1\u001b[1;33m layer = LSTM(neurons,\n\u001b[0m\u001b[0;32m      2\u001b[0m              batch_input_shape=(batch_size,\n\u001b[0;32m      3\u001b[0m                                          X.shape[1], X.shape[2]), stateful=True)\n",
      "\u001b[1;31mNameError\u001b[0m: name 'LSTM' is not defined"
     ]
    }
   ],
   "source": [
    "layer = LSTM(neurons,\n",
    "             batch_input_shape=(batch_size,\n",
    "                                         X.shape[1], X.shape[2]), stateful=True)"
   ]
  },
  {
   "cell_type": "code",
   "execution_count": null,
   "metadata": {
    "ExecuteTime": {
     "end_time": "2020-02-07T15:31:48.914256Z",
     "start_time": "2020-02-07T15:31:48.560Z"
    },
    "hidden": true
   },
   "outputs": [],
   "source": [
    "from keras.models import Sequential\n",
    "from keras.layers import Dense\n",
    "from keras.layers import LSTM\n",
    "model = Sequential()\n",
    "model.add(LSTM(neurons, batch_input_shape=(batch_size, X.shape[1], X.shape[2]), stateful=True))\n",
    "model.add(Dense(1))\n",
    "model.compile(loss='mean_squared_error', optimizer='adam')"
   ]
  },
  {
   "cell_type": "markdown",
   "metadata": {
    "ExecuteTime": {
     "end_time": "2019-09-21T16:20:55.578873Z",
     "start_time": "2019-09-21T16:20:55.573982Z"
    }
   },
   "source": [
    "# Predict Weather"
   ]
  },
  {
   "cell_type": "code",
   "execution_count": 122,
   "metadata": {
    "ExecuteTime": {
     "end_time": "2020-02-07T15:32:33.940844Z",
     "start_time": "2020-02-07T15:32:33.920766Z"
    }
   },
   "outputs": [],
   "source": [
    "calendar=[]\n",
    "for h in range(0,24):\n",
    "    for d in range(0,7):\n",
    "        for week in range (21,27):\n",
    "            calendar.append([week,d,h])\n",
    "norm_df=pd.DataFrame(calendar)\n",
    "norm_df.columns=['week','dayname','hour']\n",
    "norm_df.set_index(['week','dayname','hour'],inplace=True)"
   ]
  },
  {
   "cell_type": "code",
   "execution_count": 123,
   "metadata": {
    "ExecuteTime": {
     "end_time": "2020-02-07T15:32:33.992271Z",
     "start_time": "2020-02-07T15:32:33.943835Z"
    }
   },
   "outputs": [],
   "source": [
    "df = pd.read_csv('train.csv')\n",
    "small=['date_2','hour','dayname','weekend','day_period','temperature']\n",
    "df=df[small]\n",
    "\n",
    "ls = []\n",
    "\n",
    "df['date_2']=pd.to_datetime(df.date_2)\n",
    "df['month']=df.date_2.dt.month\n",
    "df['week']=df.date_2.dt.week\n",
    "df.drop('date_2',axis=1,inplace=True)\n",
    "\n",
    "df['dayname']=df.dayname.replace({'Monday':'0', 'Tuesday':'1', 'Wednesday':'2', 'Thursday':'3', 'Friday':'4', 'Saturday':'5',\n",
    "                                 'Sunday':'6'})\n",
    "\n",
    "df['dayname']=df.dayname.astype('int')\n",
    "df['day_period'] = df.day_period.replace({'evening':'0','morning':'1','noon':'2','night':'3'})\n",
    "df['day_period']=df.day_period.astype('int')\n",
    "df['month']=df.month.astype('int')\n"
   ]
  },
  {
   "cell_type": "code",
   "execution_count": 124,
   "metadata": {
    "ExecuteTime": {
     "end_time": "2020-02-07T15:32:34.012783Z",
     "start_time": "2020-02-07T15:32:33.995625Z"
    }
   },
   "outputs": [
    {
     "data": {
      "text/html": [
       "<div>\n",
       "<style scoped>\n",
       "    .dataframe tbody tr th:only-of-type {\n",
       "        vertical-align: middle;\n",
       "    }\n",
       "\n",
       "    .dataframe tbody tr th {\n",
       "        vertical-align: top;\n",
       "    }\n",
       "\n",
       "    .dataframe thead th {\n",
       "        text-align: right;\n",
       "    }\n",
       "</style>\n",
       "<table border=\"1\" class=\"dataframe\">\n",
       "  <thead>\n",
       "    <tr style=\"text-align: right;\">\n",
       "      <th></th>\n",
       "      <th>hour</th>\n",
       "      <th>dayname</th>\n",
       "      <th>weekend</th>\n",
       "      <th>day_period</th>\n",
       "      <th>temperature</th>\n",
       "      <th>month</th>\n",
       "      <th>week</th>\n",
       "    </tr>\n",
       "  </thead>\n",
       "  <tbody>\n",
       "    <tr>\n",
       "      <td>0</td>\n",
       "      <td>0</td>\n",
       "      <td>2</td>\n",
       "      <td>False</td>\n",
       "      <td>0</td>\n",
       "      <td>29.63</td>\n",
       "      <td>5</td>\n",
       "      <td>21</td>\n",
       "    </tr>\n",
       "    <tr>\n",
       "      <td>1</td>\n",
       "      <td>1</td>\n",
       "      <td>2</td>\n",
       "      <td>False</td>\n",
       "      <td>0</td>\n",
       "      <td>31.19</td>\n",
       "      <td>5</td>\n",
       "      <td>21</td>\n",
       "    </tr>\n",
       "    <tr>\n",
       "      <td>2</td>\n",
       "      <td>2</td>\n",
       "      <td>2</td>\n",
       "      <td>False</td>\n",
       "      <td>0</td>\n",
       "      <td>33.03</td>\n",
       "      <td>5</td>\n",
       "      <td>21</td>\n",
       "    </tr>\n",
       "    <tr>\n",
       "      <td>3</td>\n",
       "      <td>3</td>\n",
       "      <td>2</td>\n",
       "      <td>False</td>\n",
       "      <td>0</td>\n",
       "      <td>33.73</td>\n",
       "      <td>5</td>\n",
       "      <td>21</td>\n",
       "    </tr>\n",
       "    <tr>\n",
       "      <td>4</td>\n",
       "      <td>4</td>\n",
       "      <td>2</td>\n",
       "      <td>False</td>\n",
       "      <td>1</td>\n",
       "      <td>33.90</td>\n",
       "      <td>5</td>\n",
       "      <td>21</td>\n",
       "    </tr>\n",
       "  </tbody>\n",
       "</table>\n",
       "</div>"
      ],
      "text/plain": [
       "   hour  dayname  weekend  day_period  temperature  month  week\n",
       "0     0        2    False           0        29.63      5    21\n",
       "1     1        2    False           0        31.19      5    21\n",
       "2     2        2    False           0        33.03      5    21\n",
       "3     3        2    False           0        33.73      5    21\n",
       "4     4        2    False           1        33.90      5    21"
      ]
     },
     "execution_count": 124,
     "metadata": {},
     "output_type": "execute_result"
    }
   ],
   "source": [
    "df.head()"
   ]
  },
  {
   "cell_type": "code",
   "execution_count": 125,
   "metadata": {
    "ExecuteTime": {
     "end_time": "2020-02-07T15:32:34.132498Z",
     "start_time": "2020-02-07T15:32:34.016738Z"
    }
   },
   "outputs": [],
   "source": [
    "df=norm_df.reset_index().set_index(['week','dayname','hour']).join(df.set_index(['week','dayname','hour']))"
   ]
  },
  {
   "cell_type": "code",
   "execution_count": 126,
   "metadata": {
    "ExecuteTime": {
     "end_time": "2020-02-07T15:32:34.162359Z",
     "start_time": "2020-02-07T15:32:34.135491Z"
    }
   },
   "outputs": [],
   "source": [
    "df['weekend']=df.reset_index().dayname>4\n",
    "df.reset_index(inplace=True)\n",
    "c=[( 4<=  df.hour) & (df.hour < 10),\n",
    "   ( 10<= df.hour) & (df.hour < 16),\n",
    "   ( 16<= df.hour) & (df.hour < 22)]\n",
    "   \n",
    "o=['morning','noon','night']\n",
    "\n",
    "df['day_period']=np.select(condlist=c,choicelist=o,default='evening')"
   ]
  },
  {
   "cell_type": "code",
   "execution_count": 127,
   "metadata": {
    "ExecuteTime": {
     "end_time": "2020-02-07T15:32:34.192119Z",
     "start_time": "2020-02-07T15:32:34.165913Z"
    }
   },
   "outputs": [],
   "source": [
    "week_ago=df.groupby(['dayname','hour']).agg({'temperature':'mean'})\n",
    "week_ago.columns=['missing_temp']\n",
    "df=df.set_index(['dayname','hour']).join(week_ago)\n",
    "df['temperature']=np.select([df.temperature.isnull()], [df.missing_temp], default=df.temperature)"
   ]
  },
  {
   "cell_type": "code",
   "execution_count": 128,
   "metadata": {
    "ExecuteTime": {
     "end_time": "2020-02-07T15:32:34.213182Z",
     "start_time": "2020-02-07T15:32:34.194113Z"
    }
   },
   "outputs": [
    {
     "data": {
      "text/html": [
       "<div>\n",
       "<style scoped>\n",
       "    .dataframe tbody tr th:only-of-type {\n",
       "        vertical-align: middle;\n",
       "    }\n",
       "\n",
       "    .dataframe tbody tr th {\n",
       "        vertical-align: top;\n",
       "    }\n",
       "\n",
       "    .dataframe thead th {\n",
       "        text-align: right;\n",
       "    }\n",
       "</style>\n",
       "<table border=\"1\" class=\"dataframe\">\n",
       "  <thead>\n",
       "    <tr style=\"text-align: right;\">\n",
       "      <th></th>\n",
       "      <th></th>\n",
       "      <th>week</th>\n",
       "      <th>weekend</th>\n",
       "      <th>day_period</th>\n",
       "      <th>temperature</th>\n",
       "      <th>month</th>\n",
       "      <th>missing_temp</th>\n",
       "    </tr>\n",
       "    <tr>\n",
       "      <th>dayname</th>\n",
       "      <th>hour</th>\n",
       "      <th></th>\n",
       "      <th></th>\n",
       "      <th></th>\n",
       "      <th></th>\n",
       "      <th></th>\n",
       "      <th></th>\n",
       "    </tr>\n",
       "  </thead>\n",
       "  <tbody>\n",
       "    <tr>\n",
       "      <td rowspan=\"5\" valign=\"top\">0</td>\n",
       "      <td>0</td>\n",
       "      <td>21</td>\n",
       "      <td>NaN</td>\n",
       "      <td>evening</td>\n",
       "      <td>29.54</td>\n",
       "      <td>NaN</td>\n",
       "      <td>29.54</td>\n",
       "    </tr>\n",
       "    <tr>\n",
       "      <td>0</td>\n",
       "      <td>22</td>\n",
       "      <td>NaN</td>\n",
       "      <td>evening</td>\n",
       "      <td>30.12</td>\n",
       "      <td>5.0</td>\n",
       "      <td>29.54</td>\n",
       "    </tr>\n",
       "    <tr>\n",
       "      <td>0</td>\n",
       "      <td>23</td>\n",
       "      <td>NaN</td>\n",
       "      <td>evening</td>\n",
       "      <td>29.54</td>\n",
       "      <td>NaN</td>\n",
       "      <td>29.54</td>\n",
       "    </tr>\n",
       "    <tr>\n",
       "      <td>0</td>\n",
       "      <td>24</td>\n",
       "      <td>NaN</td>\n",
       "      <td>evening</td>\n",
       "      <td>29.70</td>\n",
       "      <td>6.0</td>\n",
       "      <td>29.54</td>\n",
       "    </tr>\n",
       "    <tr>\n",
       "      <td>0</td>\n",
       "      <td>25</td>\n",
       "      <td>NaN</td>\n",
       "      <td>evening</td>\n",
       "      <td>29.00</td>\n",
       "      <td>6.0</td>\n",
       "      <td>29.54</td>\n",
       "    </tr>\n",
       "  </tbody>\n",
       "</table>\n",
       "</div>"
      ],
      "text/plain": [
       "              week weekend day_period  temperature  month  missing_temp\n",
       "dayname hour                                                           \n",
       "0       0       21     NaN    evening        29.54    NaN         29.54\n",
       "        0       22     NaN    evening        30.12    5.0         29.54\n",
       "        0       23     NaN    evening        29.54    NaN         29.54\n",
       "        0       24     NaN    evening        29.70    6.0         29.54\n",
       "        0       25     NaN    evening        29.00    6.0         29.54"
      ]
     },
     "execution_count": 128,
     "metadata": {},
     "output_type": "execute_result"
    }
   ],
   "source": [
    "df.head()"
   ]
  },
  {
   "cell_type": "code",
   "execution_count": 129,
   "metadata": {
    "ExecuteTime": {
     "end_time": "2020-02-07T15:32:34.266145Z",
     "start_time": "2020-02-07T15:32:34.217171Z"
    },
    "scrolled": true
   },
   "outputs": [],
   "source": [
    "df.reset_index(inplace=True)\n",
    "#one week again\n",
    "one_week_ago=df[['hour','dayname','week','temperature']].copy()\n",
    "one_week_ago.week=one_week_ago.week+1\n",
    "one_week_ago=one_week_ago.set_index(['dayname','hour','week'])\n",
    "one_week_ago.columns=['one_week_ago']\n",
    "\n",
    "df=df.set_index(['dayname','hour','week']).join(one_week_ago)\n",
    "#df.drop('pm25_week_ago',axis=1,inplace=True)\n",
    "df=df.rename(columns={'one_week_ago': 'pm25_week_ago'})\n",
    "df.reset_index(inplace=True)\n",
    "#two week again\n",
    "two_week_ago=df[['hour','dayname','week','temperature']].copy()\n",
    "two_week_ago.week=two_week_ago.week+2\n",
    "two_week_ago=two_week_ago.set_index(['dayname','hour','week'])\n",
    "two_week_ago.columns=['two_week_ago']\n",
    "df.reset_index(inplace=True)\n",
    "df=df.set_index(['dayname','hour','week']).join(two_week_ago)\n",
    "#df.drop('pm25_two_week_ago',axis=1,inplace=True)\n"
   ]
  },
  {
   "cell_type": "code",
   "execution_count": 130,
   "metadata": {
    "ExecuteTime": {
     "end_time": "2020-02-07T15:32:34.291738Z",
     "start_time": "2020-02-07T15:32:34.268137Z"
    }
   },
   "outputs": [
    {
     "data": {
      "text/html": [
       "<div>\n",
       "<style scoped>\n",
       "    .dataframe tbody tr th:only-of-type {\n",
       "        vertical-align: middle;\n",
       "    }\n",
       "\n",
       "    .dataframe tbody tr th {\n",
       "        vertical-align: top;\n",
       "    }\n",
       "\n",
       "    .dataframe thead th {\n",
       "        text-align: right;\n",
       "    }\n",
       "</style>\n",
       "<table border=\"1\" class=\"dataframe\">\n",
       "  <thead>\n",
       "    <tr style=\"text-align: right;\">\n",
       "      <th></th>\n",
       "      <th></th>\n",
       "      <th></th>\n",
       "      <th>index</th>\n",
       "      <th>weekend</th>\n",
       "      <th>day_period</th>\n",
       "      <th>temperature</th>\n",
       "      <th>month</th>\n",
       "      <th>missing_temp</th>\n",
       "      <th>pm25_week_ago</th>\n",
       "      <th>two_week_ago</th>\n",
       "    </tr>\n",
       "    <tr>\n",
       "      <th>dayname</th>\n",
       "      <th>hour</th>\n",
       "      <th>week</th>\n",
       "      <th></th>\n",
       "      <th></th>\n",
       "      <th></th>\n",
       "      <th></th>\n",
       "      <th></th>\n",
       "      <th></th>\n",
       "      <th></th>\n",
       "      <th></th>\n",
       "    </tr>\n",
       "  </thead>\n",
       "  <tbody>\n",
       "    <tr>\n",
       "      <td rowspan=\"5\" valign=\"top\">0</td>\n",
       "      <td rowspan=\"5\" valign=\"top\">0</td>\n",
       "      <td>21</td>\n",
       "      <td>0</td>\n",
       "      <td>NaN</td>\n",
       "      <td>evening</td>\n",
       "      <td>29.54</td>\n",
       "      <td>NaN</td>\n",
       "      <td>29.54</td>\n",
       "      <td>NaN</td>\n",
       "      <td>NaN</td>\n",
       "    </tr>\n",
       "    <tr>\n",
       "      <td>22</td>\n",
       "      <td>1</td>\n",
       "      <td>NaN</td>\n",
       "      <td>evening</td>\n",
       "      <td>30.12</td>\n",
       "      <td>5.0</td>\n",
       "      <td>29.54</td>\n",
       "      <td>29.54</td>\n",
       "      <td>NaN</td>\n",
       "    </tr>\n",
       "    <tr>\n",
       "      <td>23</td>\n",
       "      <td>2</td>\n",
       "      <td>NaN</td>\n",
       "      <td>evening</td>\n",
       "      <td>29.54</td>\n",
       "      <td>NaN</td>\n",
       "      <td>29.54</td>\n",
       "      <td>30.12</td>\n",
       "      <td>29.54</td>\n",
       "    </tr>\n",
       "    <tr>\n",
       "      <td>24</td>\n",
       "      <td>3</td>\n",
       "      <td>NaN</td>\n",
       "      <td>evening</td>\n",
       "      <td>29.70</td>\n",
       "      <td>6.0</td>\n",
       "      <td>29.54</td>\n",
       "      <td>29.54</td>\n",
       "      <td>30.12</td>\n",
       "    </tr>\n",
       "    <tr>\n",
       "      <td>25</td>\n",
       "      <td>4</td>\n",
       "      <td>NaN</td>\n",
       "      <td>evening</td>\n",
       "      <td>29.00</td>\n",
       "      <td>6.0</td>\n",
       "      <td>29.54</td>\n",
       "      <td>29.70</td>\n",
       "      <td>29.54</td>\n",
       "    </tr>\n",
       "  </tbody>\n",
       "</table>\n",
       "</div>"
      ],
      "text/plain": [
       "                   index weekend day_period  temperature  month  missing_temp  \\\n",
       "dayname hour week                                                               \n",
       "0       0    21        0     NaN    evening        29.54    NaN         29.54   \n",
       "             22        1     NaN    evening        30.12    5.0         29.54   \n",
       "             23        2     NaN    evening        29.54    NaN         29.54   \n",
       "             24        3     NaN    evening        29.70    6.0         29.54   \n",
       "             25        4     NaN    evening        29.00    6.0         29.54   \n",
       "\n",
       "                   pm25_week_ago  two_week_ago  \n",
       "dayname hour week                               \n",
       "0       0    21              NaN           NaN  \n",
       "             22            29.54           NaN  \n",
       "             23            30.12         29.54  \n",
       "             24            29.54         30.12  \n",
       "             25            29.70         29.54  "
      ]
     },
     "execution_count": 130,
     "metadata": {},
     "output_type": "execute_result"
    }
   ],
   "source": [
    "df.head()"
   ]
  },
  {
   "cell_type": "code",
   "execution_count": 131,
   "metadata": {
    "ExecuteTime": {
     "end_time": "2020-02-07T15:32:34.308490Z",
     "start_time": "2020-02-07T15:32:34.294617Z"
    }
   },
   "outputs": [],
   "source": [
    "df['temp_week_ago']=np.select([df.pm25_week_ago.isnull()], [df.missing_temp], default=df.pm25_week_ago)\n",
    "df['temp_two_week_ago']=np.select([df.two_week_ago.isnull()], [df.missing_temp], default=df.two_week_ago)"
   ]
  },
  {
   "cell_type": "code",
   "execution_count": 132,
   "metadata": {
    "ExecuteTime": {
     "end_time": "2020-02-07T15:32:34.318981Z",
     "start_time": "2020-02-07T15:32:34.310371Z"
    },
    "scrolled": true
   },
   "outputs": [],
   "source": [
    "final_df=df[['weekend','day_period','temperature','temp_week_ago','temp_two_week_ago']].copy()\n"
   ]
  },
  {
   "cell_type": "code",
   "execution_count": 133,
   "metadata": {
    "ExecuteTime": {
     "end_time": "2020-02-07T15:32:34.331118Z",
     "start_time": "2020-02-07T15:32:34.321831Z"
    },
    "scrolled": true
   },
   "outputs": [],
   "source": [
    "final_df.reset_index(inplace=True)"
   ]
  },
  {
   "cell_type": "code",
   "execution_count": 134,
   "metadata": {
    "ExecuteTime": {
     "end_time": "2020-02-07T15:32:34.341433Z",
     "start_time": "2020-02-07T15:32:34.333177Z"
    }
   },
   "outputs": [],
   "source": [
    "final_df['weekend']=final_df.dayname>4"
   ]
  },
  {
   "cell_type": "code",
   "execution_count": 135,
   "metadata": {
    "ExecuteTime": {
     "end_time": "2020-02-07T15:32:34.369169Z",
     "start_time": "2020-02-07T15:32:34.343433Z"
    },
    "scrolled": true
   },
   "outputs": [
    {
     "data": {
      "text/html": [
       "<div>\n",
       "<style scoped>\n",
       "    .dataframe tbody tr th:only-of-type {\n",
       "        vertical-align: middle;\n",
       "    }\n",
       "\n",
       "    .dataframe tbody tr th {\n",
       "        vertical-align: top;\n",
       "    }\n",
       "\n",
       "    .dataframe thead th {\n",
       "        text-align: right;\n",
       "    }\n",
       "</style>\n",
       "<table border=\"1\" class=\"dataframe\">\n",
       "  <thead>\n",
       "    <tr style=\"text-align: right;\">\n",
       "      <th></th>\n",
       "      <th>dayname</th>\n",
       "      <th>hour</th>\n",
       "      <th>week</th>\n",
       "      <th>weekend</th>\n",
       "      <th>day_period</th>\n",
       "      <th>temperature</th>\n",
       "      <th>temp_week_ago</th>\n",
       "      <th>temp_two_week_ago</th>\n",
       "    </tr>\n",
       "  </thead>\n",
       "  <tbody>\n",
       "    <tr>\n",
       "      <td>0</td>\n",
       "      <td>0</td>\n",
       "      <td>0</td>\n",
       "      <td>21</td>\n",
       "      <td>False</td>\n",
       "      <td>evening</td>\n",
       "      <td>29.54</td>\n",
       "      <td>29.54</td>\n",
       "      <td>29.54</td>\n",
       "    </tr>\n",
       "    <tr>\n",
       "      <td>1</td>\n",
       "      <td>0</td>\n",
       "      <td>0</td>\n",
       "      <td>22</td>\n",
       "      <td>False</td>\n",
       "      <td>evening</td>\n",
       "      <td>30.12</td>\n",
       "      <td>29.54</td>\n",
       "      <td>29.54</td>\n",
       "    </tr>\n",
       "    <tr>\n",
       "      <td>2</td>\n",
       "      <td>0</td>\n",
       "      <td>0</td>\n",
       "      <td>23</td>\n",
       "      <td>False</td>\n",
       "      <td>evening</td>\n",
       "      <td>29.54</td>\n",
       "      <td>30.12</td>\n",
       "      <td>29.54</td>\n",
       "    </tr>\n",
       "    <tr>\n",
       "      <td>3</td>\n",
       "      <td>0</td>\n",
       "      <td>0</td>\n",
       "      <td>24</td>\n",
       "      <td>False</td>\n",
       "      <td>evening</td>\n",
       "      <td>29.70</td>\n",
       "      <td>29.54</td>\n",
       "      <td>30.12</td>\n",
       "    </tr>\n",
       "    <tr>\n",
       "      <td>4</td>\n",
       "      <td>0</td>\n",
       "      <td>0</td>\n",
       "      <td>25</td>\n",
       "      <td>False</td>\n",
       "      <td>evening</td>\n",
       "      <td>29.00</td>\n",
       "      <td>29.70</td>\n",
       "      <td>29.54</td>\n",
       "    </tr>\n",
       "    <tr>\n",
       "      <td>...</td>\n",
       "      <td>...</td>\n",
       "      <td>...</td>\n",
       "      <td>...</td>\n",
       "      <td>...</td>\n",
       "      <td>...</td>\n",
       "      <td>...</td>\n",
       "      <td>...</td>\n",
       "      <td>...</td>\n",
       "    </tr>\n",
       "    <tr>\n",
       "      <td>1003</td>\n",
       "      <td>6</td>\n",
       "      <td>23</td>\n",
       "      <td>22</td>\n",
       "      <td>True</td>\n",
       "      <td>evening</td>\n",
       "      <td>29.07</td>\n",
       "      <td>28.99</td>\n",
       "      <td>28.91</td>\n",
       "    </tr>\n",
       "    <tr>\n",
       "      <td>1004</td>\n",
       "      <td>6</td>\n",
       "      <td>23</td>\n",
       "      <td>23</td>\n",
       "      <td>True</td>\n",
       "      <td>evening</td>\n",
       "      <td>29.12</td>\n",
       "      <td>29.07</td>\n",
       "      <td>28.99</td>\n",
       "    </tr>\n",
       "    <tr>\n",
       "      <td>1005</td>\n",
       "      <td>6</td>\n",
       "      <td>23</td>\n",
       "      <td>24</td>\n",
       "      <td>True</td>\n",
       "      <td>evening</td>\n",
       "      <td>28.46</td>\n",
       "      <td>29.12</td>\n",
       "      <td>29.07</td>\n",
       "    </tr>\n",
       "    <tr>\n",
       "      <td>1006</td>\n",
       "      <td>6</td>\n",
       "      <td>23</td>\n",
       "      <td>25</td>\n",
       "      <td>True</td>\n",
       "      <td>evening</td>\n",
       "      <td>28.71</td>\n",
       "      <td>28.46</td>\n",
       "      <td>29.12</td>\n",
       "    </tr>\n",
       "    <tr>\n",
       "      <td>1007</td>\n",
       "      <td>6</td>\n",
       "      <td>23</td>\n",
       "      <td>26</td>\n",
       "      <td>True</td>\n",
       "      <td>evening</td>\n",
       "      <td>29.11</td>\n",
       "      <td>28.71</td>\n",
       "      <td>28.46</td>\n",
       "    </tr>\n",
       "  </tbody>\n",
       "</table>\n",
       "<p>1008 rows × 8 columns</p>\n",
       "</div>"
      ],
      "text/plain": [
       "      dayname  hour  week  weekend day_period  temperature  temp_week_ago  \\\n",
       "0           0     0    21    False    evening        29.54          29.54   \n",
       "1           0     0    22    False    evening        30.12          29.54   \n",
       "2           0     0    23    False    evening        29.54          30.12   \n",
       "3           0     0    24    False    evening        29.70          29.54   \n",
       "4           0     0    25    False    evening        29.00          29.70   \n",
       "...       ...   ...   ...      ...        ...          ...            ...   \n",
       "1003        6    23    22     True    evening        29.07          28.99   \n",
       "1004        6    23    23     True    evening        29.12          29.07   \n",
       "1005        6    23    24     True    evening        28.46          29.12   \n",
       "1006        6    23    25     True    evening        28.71          28.46   \n",
       "1007        6    23    26     True    evening        29.11          28.71   \n",
       "\n",
       "      temp_two_week_ago  \n",
       "0                 29.54  \n",
       "1                 29.54  \n",
       "2                 29.54  \n",
       "3                 30.12  \n",
       "4                 29.54  \n",
       "...                 ...  \n",
       "1003              28.91  \n",
       "1004              28.99  \n",
       "1005              29.07  \n",
       "1006              29.12  \n",
       "1007              28.46  \n",
       "\n",
       "[1008 rows x 8 columns]"
      ]
     },
     "execution_count": 135,
     "metadata": {},
     "output_type": "execute_result"
    }
   ],
   "source": [
    "final_df"
   ]
  },
  {
   "cell_type": "code",
   "execution_count": 137,
   "metadata": {
    "ExecuteTime": {
     "end_time": "2020-02-07T15:33:03.878684Z",
     "start_time": "2020-02-07T15:33:03.871373Z"
    }
   },
   "outputs": [],
   "source": [
    "y = final_df['temperature']\n",
    "X = df.drop(['temperature'], axis=1)"
   ]
  }
 ],
 "metadata": {
  "kernelspec": {
   "display_name": "Python 3",
   "language": "python",
   "name": "python3"
  },
  "language_info": {
   "codemirror_mode": {
    "name": "ipython",
    "version": 3
   },
   "file_extension": ".py",
   "mimetype": "text/x-python",
   "name": "python",
   "nbconvert_exporter": "python",
   "pygments_lexer": "ipython3",
   "version": "3.7.4"
  },
  "toc": {
   "base_numbering": 1,
   "nav_menu": {},
   "number_sections": true,
   "sideBar": true,
   "skip_h1_title": false,
   "title_cell": "Table of Contents",
   "title_sidebar": "Contents",
   "toc_cell": true,
   "toc_position": {
    "height": "340px",
    "left": "1004.47px",
    "right": "20px",
    "top": "106.5px",
    "width": "336.989px"
   },
   "toc_section_display": true,
   "toc_window_display": true
  },
  "varInspector": {
   "cols": {
    "lenName": 16,
    "lenType": 16,
    "lenVar": 40
   },
   "kernels_config": {
    "python": {
     "delete_cmd_postfix": "",
     "delete_cmd_prefix": "del ",
     "library": "var_list.py",
     "varRefreshCmd": "print(var_dic_list())"
    },
    "r": {
     "delete_cmd_postfix": ") ",
     "delete_cmd_prefix": "rm(",
     "library": "var_list.r",
     "varRefreshCmd": "cat(var_dic_list()) "
    }
   },
   "types_to_exclude": [
    "module",
    "function",
    "builtin_function_or_method",
    "instance",
    "_Feature"
   ],
   "window_display": false
  }
 },
 "nbformat": 4,
 "nbformat_minor": 2
}

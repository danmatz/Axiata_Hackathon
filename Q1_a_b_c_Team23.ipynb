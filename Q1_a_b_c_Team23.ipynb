{
 "cells": [
  {
   "cell_type": "markdown",
   "metadata": {},
   "source": [
    "## Urbanlytics / Team 23 - Easy Tasks: 1) a-c (local solution)\n",
    "This notebook contains the answers for Question 1.) a/b/c (questions to marton.szel@lynxanalytics.com and daniel.matzner@lynxanalytics.com)"
   ]
  },
  {
   "cell_type": "code",
   "execution_count": 3,
   "metadata": {
    "ExecuteTime": {
     "end_time": "2020-02-07T15:08:15.268238Z",
     "start_time": "2020-02-07T15:08:15.261553Z"
    }
   },
   "outputs": [],
   "source": [
    "# Data Path and PArameters\n",
    "path_in_basefolder = 'C:\\\\Users\\\\danma\\\\OneDrive\\\\Dokumentumok\\\\lynx_comp\\\\s3_copy\\\\final_solution\\\\'\n",
    "path_in_shapefolder = path_in_basefolder + 'shape\\\\'\n",
    "path_out_visu = path_in_basefolder + 'visu\\\\'\n",
    "path_out_rep = path_in_basefolder + 'rep\\\\'"
   ]
  },
  {
   "cell_type": "code",
   "execution_count": 4,
   "metadata": {
    "ExecuteTime": {
     "end_time": "2020-02-07T15:08:15.290817Z",
     "start_time": "2020-02-07T15:08:15.271003Z"
    }
   },
   "outputs": [],
   "source": [
    "# Core libs\n",
    "import os\n",
    "import time\n",
    "from os import listdir\n",
    "from os.path import isdir, join\n",
    "import datetime\n",
    "\n",
    "# ETL-s and Data Preparation\n",
    "import numpy as np\n",
    "import pandas as pd\n",
    "\n",
    "# for GEO analyses and modifying projections\n",
    "import geopandas as gpd\n",
    "from shapely.geometry import Point, LineString, MultiPolygon, Polygon, MultiLineString\n",
    "\n",
    "# for visualization\n",
    "import matplotlib\n",
    "import matplotlib.pyplot as plt\n",
    "#from descartes import PolygonPatch\n",
    "from matplotlib.collections import PatchCollection\n",
    "from matplotlib import collections as mc\n",
    "#import contextily as ctx\n",
    "import pylab as pl\n",
    "\n",
    "# Settings for Matplotlib\n",
    "%matplotlib inline"
   ]
  },
  {
   "cell_type": "code",
   "execution_count": 5,
   "metadata": {
    "ExecuteTime": {
     "end_time": "2020-02-07T15:08:15.308930Z",
     "start_time": "2020-02-07T15:08:15.293728Z"
    }
   },
   "outputs": [],
   "source": [
    "# Own Functions and udf-s\n",
    "def _log(s):\n",
    "    '''\n",
    "    Printing to the screen with a timestamp\n",
    "    '''\n",
    "    print('[' + time.strftime('%a %H:%M:%S') + '] ' + s)\n",
    "\n",
    "\n",
    "def _shapefile_reader(_shp_folder,\n",
    "                      rmode='oneFile',\n",
    "                      extension='.shp',\n",
    "                      exception_list=[],\n",
    "                      verbose=False):\n",
    "    '''\n",
    "    Reading the shape files from a pre defined folder (_shp_folder). \n",
    "    If the mode is 'oneFile', it exports all the shapes in the input folder to a file\n",
    "    If the mode is dictionary, it will export the shapes into a dictionary, where the key is the filename in the folder\n",
    "    '''\n",
    "    if verbose:\n",
    "        _log('Started reading shapefiles from ' + _shp_folder)\n",
    "\n",
    "    result_dict = {}\n",
    "\n",
    "    # Read library, collect shape files\n",
    "    shapeFiles = [f for f in listdir(_shp_folder) if f.endswith(extension)]\n",
    "\n",
    "    # Read and append shape files within the library\n",
    "    for _shapefile in shapeFiles:\n",
    "        if _shapefile not in exception_list:\n",
    "            result_dict.update({\n",
    "                _shapefile.split('.')[0]:\n",
    "                gpd.read_file(_shp_folder + _shapefile)\n",
    "            })\n",
    "            if verbose:\n",
    "                _log(_shapefile + ' file has {} lines and {} columns'.format(\n",
    "                    result_dict[_shapefile.split('.')[0]].shape[0],\n",
    "                    result_dict[_shapefile.split('.')[0]].shape[1]))\n",
    "\n",
    "    # Append the files to a pandas DataFrame\n",
    "    _tmp_shp_df = gpd.GeoDataFrame()\n",
    "    if rmode == 'oneFile':\n",
    "        result_shp_df = gpd.GeoDataFrame()\n",
    "        for keys in result_dict.keys():\n",
    "            result_shp_df = _tmp_shp_df.append(result_dict[keys], sort=True)\n",
    "        return result_shp_df\n",
    "\n",
    "    # Return with the dictionary - if the mode is dict mode\n",
    "    elif rmode == 'dictionary':\n",
    "        return result_dict\n",
    "\n",
    "    else:\n",
    "        return None"
   ]
  },
  {
   "cell_type": "markdown",
   "metadata": {},
   "source": [
    "### 1. Loading Data Sets\n",
    "#### 1.1 CSV files"
   ]
  },
  {
   "cell_type": "code",
   "execution_count": 6,
   "metadata": {
    "ExecuteTime": {
     "end_time": "2020-02-07T15:08:15.448489Z",
     "start_time": "2020-02-07T15:08:15.312007Z"
    }
   },
   "outputs": [
    {
     "data": {
      "text/html": [
       "<div>\n",
       "<style scoped>\n",
       "    .dataframe tbody tr th:only-of-type {\n",
       "        vertical-align: middle;\n",
       "    }\n",
       "\n",
       "    .dataframe tbody tr th {\n",
       "        vertical-align: top;\n",
       "    }\n",
       "\n",
       "    .dataframe thead th {\n",
       "        text-align: right;\n",
       "    }\n",
       "</style>\n",
       "<table border=\"1\" class=\"dataframe\">\n",
       "  <thead>\n",
       "    <tr style=\"text-align: right;\">\n",
       "      <th></th>\n",
       "      <th>customer_id</th>\n",
       "      <th>customer_age</th>\n",
       "      <th>arpu</th>\n",
       "      <th>model</th>\n",
       "      <th>gender</th>\n",
       "    </tr>\n",
       "  </thead>\n",
       "  <tbody>\n",
       "    <tr>\n",
       "      <td>0</td>\n",
       "      <td>1000018443372088799</td>\n",
       "      <td>NaN</td>\n",
       "      <td>NaN</td>\n",
       "      <td>NaN</td>\n",
       "      <td>NaN</td>\n",
       "    </tr>\n",
       "    <tr>\n",
       "      <td>1</td>\n",
       "      <td>1000156262008373076</td>\n",
       "      <td>NaN</td>\n",
       "      <td>NaN</td>\n",
       "      <td>NaN</td>\n",
       "      <td>NaN</td>\n",
       "    </tr>\n",
       "    <tr>\n",
       "      <td>2</td>\n",
       "      <td>1000224617298878347</td>\n",
       "      <td>23.0</td>\n",
       "      <td>56.7</td>\n",
       "      <td>Unknown</td>\n",
       "      <td>female</td>\n",
       "    </tr>\n",
       "  </tbody>\n",
       "</table>\n",
       "</div>"
      ],
      "text/plain": [
       "           customer_id  customer_age  arpu    model  gender\n",
       "0  1000018443372088799           NaN   NaN      NaN     NaN\n",
       "1  1000156262008373076           NaN   NaN      NaN     NaN\n",
       "2  1000224617298878347          23.0  56.7  Unknown  female"
      ]
     },
     "execution_count": 6,
     "metadata": {},
     "output_type": "execute_result"
    }
   ],
   "source": [
    "pd_CRM = pd.read_csv(path_in_basefolder + 'crm.csv', sep='\\t')\n",
    "pd_CRM.head(3)"
   ]
  },
  {
   "cell_type": "code",
   "execution_count": 7,
   "metadata": {
    "ExecuteTime": {
     "end_time": "2020-02-07T15:08:16.720986Z",
     "start_time": "2020-02-07T15:08:15.450503Z"
    }
   },
   "outputs": [
    {
     "data": {
      "text/html": [
       "<div>\n",
       "<style scoped>\n",
       "    .dataframe tbody tr th:only-of-type {\n",
       "        vertical-align: middle;\n",
       "    }\n",
       "\n",
       "    .dataframe tbody tr th {\n",
       "        vertical-align: top;\n",
       "    }\n",
       "\n",
       "    .dataframe thead th {\n",
       "        text-align: right;\n",
       "    }\n",
       "</style>\n",
       "<table border=\"1\" class=\"dataframe\">\n",
       "  <thead>\n",
       "    <tr style=\"text-align: right;\">\n",
       "      <th></th>\n",
       "      <th>customer_id</th>\n",
       "      <th>grid_id</th>\n",
       "      <th>date_time</th>\n",
       "      <th>date_time_2</th>\n",
       "    </tr>\n",
       "  </thead>\n",
       "  <tbody>\n",
       "    <tr>\n",
       "      <td>0</td>\n",
       "      <td>h092861261790079492</td>\n",
       "      <td>166839.0</td>\n",
       "      <td>1563521400</td>\n",
       "      <td>2019-07-19 07:30:00</td>\n",
       "    </tr>\n",
       "    <tr>\n",
       "      <td>1</td>\n",
       "      <td>k438071835109624353</td>\n",
       "      <td>168252.0</td>\n",
       "      <td>1563521460</td>\n",
       "      <td>2019-07-19 07:31:00</td>\n",
       "    </tr>\n",
       "    <tr>\n",
       "      <td>2</td>\n",
       "      <td>1481701602817207678</td>\n",
       "      <td>179477.0</td>\n",
       "      <td>1563521760</td>\n",
       "      <td>2019-07-19 07:36:00</td>\n",
       "    </tr>\n",
       "  </tbody>\n",
       "</table>\n",
       "</div>"
      ],
      "text/plain": [
       "           customer_id   grid_id   date_time         date_time_2\n",
       "0  h092861261790079492  166839.0  1563521400 2019-07-19 07:30:00\n",
       "1  k438071835109624353  168252.0  1563521460 2019-07-19 07:31:00\n",
       "2  1481701602817207678  179477.0  1563521760 2019-07-19 07:36:00"
      ]
     },
     "execution_count": 7,
     "metadata": {},
     "output_type": "execute_result"
    }
   ],
   "source": [
    "pd_event_log = pd.read_csv(path_in_basefolder + 'event_log.csv', sep='\\t', dtype={'date_time':int})\n",
    "pd_event_log['date_time_2'] = pd.to_datetime(pd_event_log['date_time'], unit='s')\n",
    "pd_event_log.head(3)"
   ]
  },
  {
   "cell_type": "code",
   "execution_count": 8,
   "metadata": {
    "ExecuteTime": {
     "end_time": "2020-02-07T15:08:16.752180Z",
     "start_time": "2020-02-07T15:08:16.724916Z"
    }
   },
   "outputs": [
    {
     "data": {
      "text/html": [
       "<div>\n",
       "<style scoped>\n",
       "    .dataframe tbody tr th:only-of-type {\n",
       "        vertical-align: middle;\n",
       "    }\n",
       "\n",
       "    .dataframe tbody tr th {\n",
       "        vertical-align: top;\n",
       "    }\n",
       "\n",
       "    .dataframe thead th {\n",
       "        text-align: right;\n",
       "    }\n",
       "</style>\n",
       "<table border=\"1\" class=\"dataframe\">\n",
       "  <thead>\n",
       "    <tr style=\"text-align: right;\">\n",
       "      <th></th>\n",
       "      <th>MerchantCode</th>\n",
       "      <th>MerchantName</th>\n",
       "      <th>MerchantCategory</th>\n",
       "      <th>grid_id</th>\n",
       "    </tr>\n",
       "  </thead>\n",
       "  <tbody>\n",
       "    <tr>\n",
       "      <td>0</td>\n",
       "      <td>0001ak3c5il5</td>\n",
       "      <td>Retail Chain 6</td>\n",
       "      <td>Retail</td>\n",
       "      <td>167546.0</td>\n",
       "    </tr>\n",
       "    <tr>\n",
       "      <td>1</td>\n",
       "      <td>0001c35xpel5</td>\n",
       "      <td>Retail Chain 38</td>\n",
       "      <td>Retail</td>\n",
       "      <td>164737.0</td>\n",
       "    </tr>\n",
       "    <tr>\n",
       "      <td>2</td>\n",
       "      <td>000831n1c55</td>\n",
       "      <td>Retail Chain 38</td>\n",
       "      <td>Retail</td>\n",
       "      <td>178079.0</td>\n",
       "    </tr>\n",
       "  </tbody>\n",
       "</table>\n",
       "</div>"
      ],
      "text/plain": [
       "   MerchantCode     MerchantName MerchantCategory   grid_id\n",
       "0  0001ak3c5il5   Retail Chain 6           Retail  167546.0\n",
       "1  0001c35xpel5  Retail Chain 38           Retail  164737.0\n",
       "2   000831n1c55  Retail Chain 38           Retail  178079.0"
      ]
     },
     "execution_count": 8,
     "metadata": {},
     "output_type": "execute_result"
    }
   ],
   "source": [
    "pd_merchants = pd.read_csv(path_in_basefolder + 'Merchant_list.csv', sep='\\t')\n",
    "pd_merchants.head(3)"
   ]
  },
  {
   "cell_type": "code",
   "execution_count": 9,
   "metadata": {
    "ExecuteTime": {
     "end_time": "2020-02-07T15:08:16.782467Z",
     "start_time": "2020-02-07T15:08:16.756168Z"
    }
   },
   "outputs": [
    {
     "data": {
      "text/html": [
       "<div>\n",
       "<style scoped>\n",
       "    .dataframe tbody tr th:only-of-type {\n",
       "        vertical-align: middle;\n",
       "    }\n",
       "\n",
       "    .dataframe tbody tr th {\n",
       "        vertical-align: top;\n",
       "    }\n",
       "\n",
       "    .dataframe thead th {\n",
       "        text-align: right;\n",
       "    }\n",
       "</style>\n",
       "<table border=\"1\" class=\"dataframe\">\n",
       "  <thead>\n",
       "    <tr style=\"text-align: right;\">\n",
       "      <th></th>\n",
       "      <th>customer_id</th>\n",
       "      <th>campaign_outcome</th>\n",
       "    </tr>\n",
       "  </thead>\n",
       "  <tbody>\n",
       "    <tr>\n",
       "      <td>0</td>\n",
       "      <td>7278271474546681529</td>\n",
       "      <td>Not Interested</td>\n",
       "    </tr>\n",
       "    <tr>\n",
       "      <td>1</td>\n",
       "      <td>z296370477958436978</td>\n",
       "      <td>Not Interested</td>\n",
       "    </tr>\n",
       "  </tbody>\n",
       "</table>\n",
       "</div>"
      ],
      "text/plain": [
       "           customer_id campaign_outcome\n",
       "0  7278271474546681529   Not Interested\n",
       "1  z296370477958436978   Not Interested"
      ]
     },
     "execution_count": 9,
     "metadata": {},
     "output_type": "execute_result"
    }
   ],
   "source": [
    "pd_past_results = pd.read_csv(path_in_basefolder + 'past_result.csv', sep='\\t')\n",
    "pd_past_results.head(2)"
   ]
  },
  {
   "cell_type": "code",
   "execution_count": 10,
   "metadata": {
    "ExecuteTime": {
     "end_time": "2020-02-07T15:08:16.805614Z",
     "start_time": "2020-02-07T15:08:16.786077Z"
    }
   },
   "outputs": [
    {
     "data": {
      "text/html": [
       "<div>\n",
       "<style scoped>\n",
       "    .dataframe tbody tr th:only-of-type {\n",
       "        vertical-align: middle;\n",
       "    }\n",
       "\n",
       "    .dataframe tbody tr th {\n",
       "        vertical-align: top;\n",
       "    }\n",
       "\n",
       "    .dataframe thead th {\n",
       "        text-align: right;\n",
       "    }\n",
       "</style>\n",
       "<table border=\"1\" class=\"dataframe\">\n",
       "  <thead>\n",
       "    <tr style=\"text-align: right;\">\n",
       "      <th></th>\n",
       "      <th>Category</th>\n",
       "      <th>SubCategory</th>\n",
       "      <th>Latitude</th>\n",
       "      <th>Longitude</th>\n",
       "      <th>POIName</th>\n",
       "      <th>fb</th>\n",
       "    </tr>\n",
       "  </thead>\n",
       "  <tbody>\n",
       "    <tr>\n",
       "      <td>0</td>\n",
       "      <td>amenity</td>\n",
       "      <td>cafe</td>\n",
       "      <td>2.924346</td>\n",
       "      <td>101.639315</td>\n",
       "      <td>Poolside Cafe</td>\n",
       "      <td>1</td>\n",
       "    </tr>\n",
       "    <tr>\n",
       "      <td>1</td>\n",
       "      <td>amenity</td>\n",
       "      <td>community_centre</td>\n",
       "      <td>2.932361</td>\n",
       "      <td>101.647073</td>\n",
       "      <td>Dewan Masjid Raja Haji Fisabilillah</td>\n",
       "      <td>0</td>\n",
       "    </tr>\n",
       "  </tbody>\n",
       "</table>\n",
       "</div>"
      ],
      "text/plain": [
       "  Category       SubCategory  Latitude   Longitude  \\\n",
       "0  amenity              cafe  2.924346  101.639315   \n",
       "1  amenity  community_centre  2.932361  101.647073   \n",
       "\n",
       "                               POIName  fb  \n",
       "0                        Poolside Cafe   1  \n",
       "1  Dewan Masjid Raja Haji Fisabilillah   0  "
      ]
     },
     "execution_count": 10,
     "metadata": {},
     "output_type": "execute_result"
    }
   ],
   "source": [
    "pd_poi = pd.read_csv(path_in_basefolder + 'poi.csv', sep=',')\n",
    "pd_poi.head(2)"
   ]
  },
  {
   "cell_type": "code",
   "execution_count": 11,
   "metadata": {
    "ExecuteTime": {
     "end_time": "2020-02-07T15:08:16.831941Z",
     "start_time": "2020-02-07T15:08:16.808020Z"
    }
   },
   "outputs": [],
   "source": [
    "pd_poi.groupby(['Category', 'SubCategory', 'POIName']).agg(\n",
    "    {'Latitude':'count'}).rename(columns={'Latitude':'shp_cnt'}).reset_index().to_csv('POI_Categories_2.csv',index=False)"
   ]
  },
  {
   "cell_type": "code",
   "execution_count": 12,
   "metadata": {
    "ExecuteTime": {
     "end_time": "2020-02-07T15:08:16.849003Z",
     "start_time": "2020-02-07T15:08:16.834462Z"
    }
   },
   "outputs": [],
   "source": [
    "pd_poi[['POIName']].drop_duplicates().to_csv('POI_Categories.csv')"
   ]
  },
  {
   "cell_type": "code",
   "execution_count": 13,
   "metadata": {
    "ExecuteTime": {
     "end_time": "2020-02-07T15:08:16.870846Z",
     "start_time": "2020-02-07T15:08:16.851995Z"
    }
   },
   "outputs": [
    {
     "data": {
      "text/html": [
       "<div>\n",
       "<style scoped>\n",
       "    .dataframe tbody tr th:only-of-type {\n",
       "        vertical-align: middle;\n",
       "    }\n",
       "\n",
       "    .dataframe tbody tr th {\n",
       "        vertical-align: top;\n",
       "    }\n",
       "\n",
       "    .dataframe thead th {\n",
       "        text-align: right;\n",
       "    }\n",
       "</style>\n",
       "<table border=\"1\" class=\"dataframe\">\n",
       "  <thead>\n",
       "    <tr style=\"text-align: right;\">\n",
       "      <th></th>\n",
       "      <th>customer_id</th>\n",
       "    </tr>\n",
       "  </thead>\n",
       "  <tbody>\n",
       "    <tr>\n",
       "      <td>0</td>\n",
       "      <td>1004944629214078488</td>\n",
       "    </tr>\n",
       "    <tr>\n",
       "      <td>1</td>\n",
       "      <td>1007484341585366249</td>\n",
       "    </tr>\n",
       "  </tbody>\n",
       "</table>\n",
       "</div>"
      ],
      "text/plain": [
       "           customer_id\n",
       "0  1004944629214078488\n",
       "1  1007484341585366249"
      ]
     },
     "execution_count": 13,
     "metadata": {},
     "output_type": "execute_result"
    }
   ],
   "source": [
    "pd_potential_users = pd.read_csv(path_in_basefolder + 'potential_users.csv', sep=',')\n",
    "pd_potential_users.head(2)"
   ]
  },
  {
   "cell_type": "code",
   "execution_count": 14,
   "metadata": {
    "ExecuteTime": {
     "end_time": "2020-02-07T15:08:17.461721Z",
     "start_time": "2020-02-07T15:08:16.873617Z"
    }
   },
   "outputs": [
    {
     "data": {
      "text/html": [
       "<div>\n",
       "<style scoped>\n",
       "    .dataframe tbody tr th:only-of-type {\n",
       "        vertical-align: middle;\n",
       "    }\n",
       "\n",
       "    .dataframe tbody tr th {\n",
       "        vertical-align: top;\n",
       "    }\n",
       "\n",
       "    .dataframe thead th {\n",
       "        text-align: right;\n",
       "    }\n",
       "</style>\n",
       "<table border=\"1\" class=\"dataframe\">\n",
       "  <thead>\n",
       "    <tr style=\"text-align: right;\">\n",
       "      <th></th>\n",
       "      <th>customer_id</th>\n",
       "      <th>MerchantCode</th>\n",
       "      <th>MerchantCategory</th>\n",
       "      <th>date_time</th>\n",
       "      <th>GTV</th>\n",
       "      <th>date_time_2</th>\n",
       "    </tr>\n",
       "  </thead>\n",
       "  <tbody>\n",
       "    <tr>\n",
       "      <td>0</td>\n",
       "      <td>r43045724262114812</td>\n",
       "      <td>pmbmkbipk</td>\n",
       "      <td>Transit &amp; Travel</td>\n",
       "      <td>1563536760</td>\n",
       "      <td>31.45</td>\n",
       "      <td>2019-07-19 11:46:00</td>\n",
       "    </tr>\n",
       "    <tr>\n",
       "      <td>1</td>\n",
       "      <td>165324620748557838</td>\n",
       "      <td>92r201n2a0iy</td>\n",
       "      <td>Household Goods and Groceries</td>\n",
       "      <td>1563536760</td>\n",
       "      <td>17.25</td>\n",
       "      <td>2019-07-19 11:46:00</td>\n",
       "    </tr>\n",
       "  </tbody>\n",
       "</table>\n",
       "</div>"
      ],
      "text/plain": [
       "          customer_id  MerchantCode               MerchantCategory  \\\n",
       "0  r43045724262114812     pmbmkbipk               Transit & Travel   \n",
       "1  165324620748557838  92r201n2a0iy  Household Goods and Groceries   \n",
       "\n",
       "    date_time    GTV         date_time_2  \n",
       "0  1563536760  31.45 2019-07-19 11:46:00  \n",
       "1  1563536760  17.25 2019-07-19 11:46:00  "
      ]
     },
     "execution_count": 14,
     "metadata": {},
     "output_type": "execute_result"
    }
   ],
   "source": [
    "pd_transaction = pd.read_csv(path_in_basefolder + 'transaction.csv', sep='\\t', dtype={'date_time':int})\n",
    "pd_transaction['date_time_2'] = pd.to_datetime(pd_transaction['date_time'], unit='s')\n",
    "pd_transaction.head(2)"
   ]
  },
  {
   "cell_type": "code",
   "execution_count": 15,
   "metadata": {
    "ExecuteTime": {
     "end_time": "2020-02-07T15:08:17.523996Z",
     "start_time": "2020-02-07T15:08:17.465411Z"
    }
   },
   "outputs": [
    {
     "data": {
      "text/html": [
       "<div>\n",
       "<style scoped>\n",
       "    .dataframe tbody tr th:only-of-type {\n",
       "        vertical-align: middle;\n",
       "    }\n",
       "\n",
       "    .dataframe tbody tr th {\n",
       "        vertical-align: top;\n",
       "    }\n",
       "\n",
       "    .dataframe thead th {\n",
       "        text-align: right;\n",
       "    }\n",
       "</style>\n",
       "<table border=\"1\" class=\"dataframe\">\n",
       "  <thead>\n",
       "    <tr style=\"text-align: right;\">\n",
       "      <th></th>\n",
       "      <th>POI Name</th>\n",
       "      <th>Latitude</th>\n",
       "      <th>Longitude</th>\n",
       "      <th>date_time_2</th>\n",
       "    </tr>\n",
       "  </thead>\n",
       "  <tbody>\n",
       "    <tr>\n",
       "      <td>0</td>\n",
       "      <td>Gocar Station 1</td>\n",
       "      <td>2.90689</td>\n",
       "      <td>101.65628</td>\n",
       "      <td>2019-07-19 11:46:00</td>\n",
       "    </tr>\n",
       "    <tr>\n",
       "      <td>1</td>\n",
       "      <td>Gocar Station 2</td>\n",
       "      <td>2.91419</td>\n",
       "      <td>101.65499</td>\n",
       "      <td>2019-07-19 11:46:00</td>\n",
       "    </tr>\n",
       "  </tbody>\n",
       "</table>\n",
       "</div>"
      ],
      "text/plain": [
       "          POI Name  Latitude  Longitude         date_time_2\n",
       "0  Gocar Station 1   2.90689  101.65628 2019-07-19 11:46:00\n",
       "1  Gocar Station 2   2.91419  101.65499 2019-07-19 11:46:00"
      ]
     },
     "execution_count": 15,
     "metadata": {},
     "output_type": "execute_result"
    }
   ],
   "source": [
    "pd_transport = pd.read_csv(path_in_basefolder + 'Transport_location.csv', sep=',', dtype={'date_time':int})\n",
    "pd_transport['date_time_2'] = pd.to_datetime(pd_transaction['date_time'], unit='s')\n",
    "pd_transport.head(2)"
   ]
  },
  {
   "cell_type": "code",
   "execution_count": 16,
   "metadata": {
    "ExecuteTime": {
     "end_time": "2020-02-07T15:08:17.551011Z",
     "start_time": "2020-02-07T15:08:17.527675Z"
    }
   },
   "outputs": [],
   "source": [
    "pd_transport[['POI Name']].drop_duplicates().to_csv('transport_Categories.csv')"
   ]
  },
  {
   "cell_type": "markdown",
   "metadata": {},
   "source": [
    "#### 1.2 Shape files"
   ]
  },
  {
   "cell_type": "code",
   "execution_count": 17,
   "metadata": {
    "ExecuteTime": {
     "end_time": "2020-02-07T15:08:17.655292Z",
     "start_time": "2020-02-07T15:08:17.554398Z"
    }
   },
   "outputs": [
    {
     "name": "stdout",
     "output_type": "stream",
     "text": [
      "[Fri 16:08:17] Started reading shapefiles from C:\\Users\\danma\\OneDrive\\Dokumentumok\\lynx_comp\\s3_copy\\final_solution\\shape\\\n",
      "[Fri 16:08:17] shape.shp file has 574 lines and 2 columns\n"
     ]
    },
    {
     "data": {
      "text/html": [
       "<div>\n",
       "<style scoped>\n",
       "    .dataframe tbody tr th:only-of-type {\n",
       "        vertical-align: middle;\n",
       "    }\n",
       "\n",
       "    .dataframe tbody tr th {\n",
       "        vertical-align: top;\n",
       "    }\n",
       "\n",
       "    .dataframe thead th {\n",
       "        text-align: right;\n",
       "    }\n",
       "</style>\n",
       "<table border=\"1\" class=\"dataframe\">\n",
       "  <thead>\n",
       "    <tr style=\"text-align: right;\">\n",
       "      <th></th>\n",
       "      <th>geometry</th>\n",
       "      <th>grid_id</th>\n",
       "    </tr>\n",
       "  </thead>\n",
       "  <tbody>\n",
       "    <tr>\n",
       "      <td>0</td>\n",
       "      <td>POLYGON ((101.63912 2.88681, 101.63706 2.88759...</td>\n",
       "      <td>159117.0</td>\n",
       "    </tr>\n",
       "    <tr>\n",
       "      <td>1</td>\n",
       "      <td>POLYGON ((101.64137 2.88629, 101.64070 2.88621...</td>\n",
       "      <td>159118.0</td>\n",
       "    </tr>\n",
       "    <tr>\n",
       "      <td>2</td>\n",
       "      <td>POLYGON ((101.64362 2.88655, 101.64137 2.88629...</td>\n",
       "      <td>159119.0</td>\n",
       "    </tr>\n",
       "    <tr>\n",
       "      <td>3</td>\n",
       "      <td>POLYGON ((101.64586 2.88681, 101.64362 2.88655...</td>\n",
       "      <td>159120.0</td>\n",
       "    </tr>\n",
       "    <tr>\n",
       "      <td>4</td>\n",
       "      <td>POLYGON ((101.64811 2.88707, 101.64586 2.88681...</td>\n",
       "      <td>159121.0</td>\n",
       "    </tr>\n",
       "  </tbody>\n",
       "</table>\n",
       "</div>"
      ],
      "text/plain": [
       "                                            geometry   grid_id\n",
       "0  POLYGON ((101.63912 2.88681, 101.63706 2.88759...  159117.0\n",
       "1  POLYGON ((101.64137 2.88629, 101.64070 2.88621...  159118.0\n",
       "2  POLYGON ((101.64362 2.88655, 101.64137 2.88629...  159119.0\n",
       "3  POLYGON ((101.64586 2.88681, 101.64362 2.88655...  159120.0\n",
       "4  POLYGON ((101.64811 2.88707, 101.64586 2.88681...  159121.0"
      ]
     },
     "execution_count": 17,
     "metadata": {},
     "output_type": "execute_result"
    }
   ],
   "source": [
    "shp_civerjaya = _shapefile_reader(path_in_shapefolder, verbose=True)\n",
    "#shp_civerjaya['grid_id'] = shp_civerjaya.grid_id.astype('int')\n",
    "shp_civerjaya.head()"
   ]
  },
  {
   "cell_type": "code",
   "execution_count": 18,
   "metadata": {
    "ExecuteTime": {
     "end_time": "2020-02-07T15:08:17.675411Z",
     "start_time": "2020-02-07T15:08:17.659586Z"
    }
   },
   "outputs": [],
   "source": [
    "shp_civerjaya = gpd.GeoDataFrame(shp_civerjaya)\n",
    "shp_civerjaya.crs = {'init':'epsg:4326'}\n",
    "shp_civerjaya = shp_civerjaya.reset_index().drop(['index'], axis=1)"
   ]
  },
  {
   "cell_type": "markdown",
   "metadata": {},
   "source": [
    "## Easy Tasks\n",
    "### Task 1.a) \n",
    "In recent years, the population and visitors of Cyberjaya has grown tremendously. Hence, Cyberview is embarking on a data-driven, approach to anticipate and plan for future infrastructure and services. To assist in this endeavour, the town planners would like to get a rough estimate of the current number of visitors. Calculate average daily subscribers rounded to 2 decimal places for grid IDs in Cyberjaya listed below for the time period between 2019-07-19 to 2019-08-18 during 0700 to 1500"
   ]
  },
  {
   "cell_type": "code",
   "execution_count": 19,
   "metadata": {
    "ExecuteTime": {
     "end_time": "2020-02-07T15:08:19.179317Z",
     "start_time": "2020-02-07T15:08:17.678963Z"
    }
   },
   "outputs": [
    {
     "data": {
      "text/html": [
       "<div>\n",
       "<style scoped>\n",
       "    .dataframe tbody tr th:only-of-type {\n",
       "        vertical-align: middle;\n",
       "    }\n",
       "\n",
       "    .dataframe tbody tr th {\n",
       "        vertical-align: top;\n",
       "    }\n",
       "\n",
       "    .dataframe thead th {\n",
       "        text-align: right;\n",
       "    }\n",
       "</style>\n",
       "<table border=\"1\" class=\"dataframe\">\n",
       "  <thead>\n",
       "    <tr style=\"text-align: right;\">\n",
       "      <th></th>\n",
       "      <th>customer_id</th>\n",
       "      <th>grid_id</th>\n",
       "      <th>date_time</th>\n",
       "    </tr>\n",
       "  </thead>\n",
       "  <tbody>\n",
       "    <tr>\n",
       "      <td>0</td>\n",
       "      <td>h092861261790079492</td>\n",
       "      <td>166839.0</td>\n",
       "      <td>1.563521e+09</td>\n",
       "    </tr>\n",
       "    <tr>\n",
       "      <td>1</td>\n",
       "      <td>k438071835109624353</td>\n",
       "      <td>168252.0</td>\n",
       "      <td>1.563521e+09</td>\n",
       "    </tr>\n",
       "    <tr>\n",
       "      <td>2</td>\n",
       "      <td>1481701602817207678</td>\n",
       "      <td>179477.0</td>\n",
       "      <td>1.563522e+09</td>\n",
       "    </tr>\n",
       "    <tr>\n",
       "      <td>3</td>\n",
       "      <td>5368934103184310830</td>\n",
       "      <td>170354.0</td>\n",
       "      <td>1.563522e+09</td>\n",
       "    </tr>\n",
       "    <tr>\n",
       "      <td>4</td>\n",
       "      <td>u832408493379095560</td>\n",
       "      <td>175968.0</td>\n",
       "      <td>1.563522e+09</td>\n",
       "    </tr>\n",
       "  </tbody>\n",
       "</table>\n",
       "</div>"
      ],
      "text/plain": [
       "           customer_id   grid_id     date_time\n",
       "0  h092861261790079492  166839.0  1.563521e+09\n",
       "1  k438071835109624353  168252.0  1.563521e+09\n",
       "2  1481701602817207678  179477.0  1.563522e+09\n",
       "3  5368934103184310830  170354.0  1.563522e+09\n",
       "4  u832408493379095560  175968.0  1.563522e+09"
      ]
     },
     "execution_count": 19,
     "metadata": {},
     "output_type": "execute_result"
    }
   ],
   "source": [
    "#Load data\n",
    "event_log=pd.read_csv('event_log.csv', sep='\\t')\n",
    "event_log.head()"
   ]
  },
  {
   "cell_type": "code",
   "execution_count": 20,
   "metadata": {
    "ExecuteTime": {
     "end_time": "2020-02-07T15:08:23.567251Z",
     "start_time": "2020-02-07T15:08:19.183307Z"
    }
   },
   "outputs": [
    {
     "data": {
      "text/html": [
       "<div>\n",
       "<style scoped>\n",
       "    .dataframe tbody tr th:only-of-type {\n",
       "        vertical-align: middle;\n",
       "    }\n",
       "\n",
       "    .dataframe tbody tr th {\n",
       "        vertical-align: top;\n",
       "    }\n",
       "\n",
       "    .dataframe thead th {\n",
       "        text-align: right;\n",
       "    }\n",
       "</style>\n",
       "<table border=\"1\" class=\"dataframe\">\n",
       "  <thead>\n",
       "    <tr style=\"text-align: right;\">\n",
       "      <th></th>\n",
       "      <th>grid_id</th>\n",
       "      <th>daily_cust</th>\n",
       "    </tr>\n",
       "  </thead>\n",
       "  <tbody>\n",
       "    <tr>\n",
       "      <td>319</td>\n",
       "      <td>170356.0</td>\n",
       "      <td>135.741935</td>\n",
       "    </tr>\n",
       "    <tr>\n",
       "      <td>339</td>\n",
       "      <td>171052.0</td>\n",
       "      <td>18.741935</td>\n",
       "    </tr>\n",
       "    <tr>\n",
       "      <td>340</td>\n",
       "      <td>171053.0</td>\n",
       "      <td>23.677419</td>\n",
       "    </tr>\n",
       "    <tr>\n",
       "      <td>341</td>\n",
       "      <td>171054.0</td>\n",
       "      <td>66.677419</td>\n",
       "    </tr>\n",
       "    <tr>\n",
       "      <td>345</td>\n",
       "      <td>171058.0</td>\n",
       "      <td>31.516129</td>\n",
       "    </tr>\n",
       "    <tr>\n",
       "      <td>364</td>\n",
       "      <td>171754.0</td>\n",
       "      <td>34.483871</td>\n",
       "    </tr>\n",
       "    <tr>\n",
       "      <td>365</td>\n",
       "      <td>171755.0</td>\n",
       "      <td>22.548387</td>\n",
       "    </tr>\n",
       "    <tr>\n",
       "      <td>366</td>\n",
       "      <td>171756.0</td>\n",
       "      <td>77.741935</td>\n",
       "    </tr>\n",
       "    <tr>\n",
       "      <td>388</td>\n",
       "      <td>172456.0</td>\n",
       "      <td>34.516129</td>\n",
       "    </tr>\n",
       "    <tr>\n",
       "      <td>389</td>\n",
       "      <td>172457.0</td>\n",
       "      <td>30.645161</td>\n",
       "    </tr>\n",
       "  </tbody>\n",
       "</table>\n",
       "</div>"
      ],
      "text/plain": [
       "      grid_id  daily_cust\n",
       "319  170356.0  135.741935\n",
       "339  171052.0   18.741935\n",
       "340  171053.0   23.677419\n",
       "341  171054.0   66.677419\n",
       "345  171058.0   31.516129\n",
       "364  171754.0   34.483871\n",
       "365  171755.0   22.548387\n",
       "366  171756.0   77.741935\n",
       "388  172456.0   34.516129\n",
       "389  172457.0   30.645161"
      ]
     },
     "execution_count": 20,
     "metadata": {},
     "output_type": "execute_result"
    }
   ],
   "source": [
    "# Get date\n",
    "task_1a_event_log = pd_event_log.copy()\n",
    "\n",
    "task_1a_event_log['just_date'] = pd_event_log['date_time_2'].dt.date\n",
    "\n",
    "# Get hour\n",
    "task_1a_event_log['hours'] = task_1a_event_log['date_time_2'].dt.hour\n",
    "\n",
    "# Filters: Filter hour and selected dates\n",
    "\n",
    "# good filter: event_1a=event_log.set_index('date_time_2').between_time('7:.00','15:00').set_index('customer_id')\n",
    "\n",
    "task_1a_event_log = task_1a_event_log[(task_1a_event_log.hours >= 7) & (task_1a_event_log.hours <= 15) &\n",
    "                                      (task_1a_event_log.just_date >= datetime.date(year=2019, month=7, day=19)) &\n",
    "                                      (task_1a_event_log.just_date <= datetime.date(year=2019, month=8, day=18))]\n",
    "\n",
    "task_1a_event_agg_00 = task_1a_event_log.groupby(['customer_id', 'just_date', 'grid_id']).agg(\n",
    "    {'date_time': 'count'}).rename(columns={'date_time': 'cnt_1c'}).reset_index()\n",
    "task_1a_event_agg_00['cust_cnt'] = 1\n",
    "\n",
    "task_1a_event_agg_10 = task_1a_event_agg_00.groupby(\n",
    "    ['just_date', 'grid_id']).agg({'cust_cnt': 'sum'}).reset_index()\n",
    "\n",
    "\n",
    "# average versus divind by days\n",
    "task_1a_event_agg_20 = task_1a_event_agg_10.groupby(\n",
    "    ['grid_id']).agg({'cust_cnt': 'sum'}).reset_index()\n",
    "task_1a_event_agg_20['daily_cust'] = task_1a_event_agg_20.cust_cnt / 31\n",
    "\n",
    "grid_ids = [172456, 172457, 171754, 171755,\n",
    "            171756, 171052, 171053, 171054, 171058, 170356]\n",
    "task_1a_result = task_1a_event_agg_20[task_1a_event_agg_20.grid_id.isin(\n",
    "    grid_ids)][['grid_id', 'daily_cust']]\n",
    "\n",
    "task_1a_result"
   ]
  },
  {
   "cell_type": "code",
   "execution_count": 21,
   "metadata": {
    "ExecuteTime": {
     "end_time": "2020-02-07T15:08:23.589790Z",
     "start_time": "2020-02-07T15:08:23.574404Z"
    }
   },
   "outputs": [],
   "source": [
    "task_1a_result.sort_values(by='grid_id').to_csv('res_1a.csv')"
   ]
  },
  {
   "cell_type": "markdown",
   "metadata": {},
   "source": [
    "### Task 1.b)\n",
    "Part of the growth has been attributed to proliferation of the F&B industry. Identify all the Grid ID’s with F&B POIs using the datasets provided"
   ]
  },
  {
   "cell_type": "code",
   "execution_count": 22,
   "metadata": {
    "ExecuteTime": {
     "end_time": "2020-02-07T15:08:23.623376Z",
     "start_time": "2020-02-07T15:08:23.596109Z"
    }
   },
   "outputs": [
    {
     "data": {
      "text/html": [
       "<div>\n",
       "<style scoped>\n",
       "    .dataframe tbody tr th:only-of-type {\n",
       "        vertical-align: middle;\n",
       "    }\n",
       "\n",
       "    .dataframe tbody tr th {\n",
       "        vertical-align: top;\n",
       "    }\n",
       "\n",
       "    .dataframe thead th {\n",
       "        text-align: right;\n",
       "    }\n",
       "</style>\n",
       "<table border=\"1\" class=\"dataframe\">\n",
       "  <thead>\n",
       "    <tr style=\"text-align: right;\">\n",
       "      <th></th>\n",
       "      <th>MerchantCode</th>\n",
       "      <th>MerchantName</th>\n",
       "      <th>MerchantCategory</th>\n",
       "      <th>grid_id</th>\n",
       "    </tr>\n",
       "  </thead>\n",
       "  <tbody>\n",
       "    <tr>\n",
       "      <td>4</td>\n",
       "      <td>0012ia2l2l9</td>\n",
       "      <td>F&amp;B Individual 367</td>\n",
       "      <td>F&amp;B</td>\n",
       "      <td>167544.0</td>\n",
       "    </tr>\n",
       "    <tr>\n",
       "      <td>13</td>\n",
       "      <td>0022n29iio1</td>\n",
       "      <td>F&amp;B Individual 319</td>\n",
       "      <td>F&amp;B</td>\n",
       "      <td>169651.0</td>\n",
       "    </tr>\n",
       "    <tr>\n",
       "      <td>15</td>\n",
       "      <td>002lc0l7k18</td>\n",
       "      <td>F&amp;B Chain 57</td>\n",
       "      <td>F&amp;B</td>\n",
       "      <td>173867.0</td>\n",
       "    </tr>\n",
       "    <tr>\n",
       "      <td>19</td>\n",
       "      <td>003al37c1lm6</td>\n",
       "      <td>F&amp;B Chain 15</td>\n",
       "      <td>F&amp;B</td>\n",
       "      <td>170342.0</td>\n",
       "    </tr>\n",
       "    <tr>\n",
       "      <td>20</td>\n",
       "      <td>003i77nc5he0</td>\n",
       "      <td>F&amp;B Individual 240</td>\n",
       "      <td>F&amp;B</td>\n",
       "      <td>166844.0</td>\n",
       "    </tr>\n",
       "  </tbody>\n",
       "</table>\n",
       "</div>"
      ],
      "text/plain": [
       "    MerchantCode        MerchantName MerchantCategory   grid_id\n",
       "4    0012ia2l2l9  F&B Individual 367              F&B  167544.0\n",
       "13   0022n29iio1  F&B Individual 319              F&B  169651.0\n",
       "15   002lc0l7k18        F&B Chain 57              F&B  173867.0\n",
       "19  003al37c1lm6        F&B Chain 15              F&B  170342.0\n",
       "20  003i77nc5he0  F&B Individual 240              F&B  166844.0"
      ]
     },
     "execution_count": 22,
     "metadata": {},
     "output_type": "execute_result"
    }
   ],
   "source": [
    "task_1b_prep = pd_merchants[pd_merchants.MerchantCategory == \"F&B\"].copy()\n",
    "task_1b_prep.head()"
   ]
  },
  {
   "cell_type": "code",
   "execution_count": 23,
   "metadata": {
    "ExecuteTime": {
     "end_time": "2020-02-07T15:08:23.641367Z",
     "start_time": "2020-02-07T15:08:23.629386Z"
    }
   },
   "outputs": [],
   "source": [
    "#task_1b_prep.MerchantCode.value_counts()"
   ]
  },
  {
   "cell_type": "markdown",
   "metadata": {},
   "source": [
    "This is not the 1b result, as we will calculate the good answer later, under the 1c point. We will mark it as that point."
   ]
  },
  {
   "cell_type": "code",
   "execution_count": 24,
   "metadata": {
    "ExecuteTime": {
     "end_time": "2020-02-07T15:08:23.666722Z",
     "start_time": "2020-02-07T15:08:23.647818Z"
    }
   },
   "outputs": [],
   "source": [
    "task_1b_result = task_1b_prep[['grid_id']].drop_duplicates()\n",
    "#task_1b_result.to_csv('res_1b.csv')"
   ]
  },
  {
   "cell_type": "code",
   "execution_count": 25,
   "metadata": {
    "ExecuteTime": {
     "end_time": "2020-02-07T15:08:23.676164Z",
     "start_time": "2020-02-07T15:08:23.670617Z"
    }
   },
   "outputs": [],
   "source": [
    "#task_1b_result[task_1b_result.grid_id.apply(lambda x: int(str(x)[-1]) != 0)]"
   ]
  },
  {
   "cell_type": "code",
   "execution_count": 26,
   "metadata": {
    "ExecuteTime": {
     "end_time": "2020-02-07T15:08:23.685875Z",
     "start_time": "2020-02-07T15:08:23.679403Z"
    }
   },
   "outputs": [],
   "source": [
    "#pd_transaction.head()"
   ]
  },
  {
   "cell_type": "code",
   "execution_count": 27,
   "metadata": {
    "ExecuteTime": {
     "end_time": "2020-02-07T15:08:23.696453Z",
     "start_time": "2020-02-07T15:08:23.686545Z"
    }
   },
   "outputs": [],
   "source": [
    "#pd_transaction[pd_transaction.MerchantCategory == \"F&B\"].MerchantCode.nunique()"
   ]
  },
  {
   "cell_type": "code",
   "execution_count": 28,
   "metadata": {
    "ExecuteTime": {
     "end_time": "2020-02-07T15:08:23.712388Z",
     "start_time": "2020-02-07T15:08:23.699109Z"
    }
   },
   "outputs": [
    {
     "data": {
      "text/html": [
       "<div>\n",
       "<style scoped>\n",
       "    .dataframe tbody tr th:only-of-type {\n",
       "        vertical-align: middle;\n",
       "    }\n",
       "\n",
       "    .dataframe tbody tr th {\n",
       "        vertical-align: top;\n",
       "    }\n",
       "\n",
       "    .dataframe thead th {\n",
       "        text-align: right;\n",
       "    }\n",
       "</style>\n",
       "<table border=\"1\" class=\"dataframe\">\n",
       "  <thead>\n",
       "    <tr style=\"text-align: right;\">\n",
       "      <th></th>\n",
       "      <th>grid_id</th>\n",
       "      <th>FB_flag</th>\n",
       "    </tr>\n",
       "  </thead>\n",
       "  <tbody>\n",
       "    <tr>\n",
       "      <td>4</td>\n",
       "      <td>167544.0</td>\n",
       "      <td>1</td>\n",
       "    </tr>\n",
       "    <tr>\n",
       "      <td>13</td>\n",
       "      <td>169651.0</td>\n",
       "      <td>1</td>\n",
       "    </tr>\n",
       "  </tbody>\n",
       "</table>\n",
       "</div>"
      ],
      "text/plain": [
       "     grid_id  FB_flag\n",
       "4   167544.0        1\n",
       "13  169651.0        1"
      ]
     },
     "execution_count": 28,
     "metadata": {},
     "output_type": "execute_result"
    }
   ],
   "source": [
    "task_1b_result['FB_flag'] = 1\n",
    "task_1b_result.head(2)"
   ]
  },
  {
   "cell_type": "markdown",
   "metadata": {},
   "source": [
    "### Task 1.c)\n",
    "Boost is also interested in expanding its footprint in Cyberjaya’s F&B industry as it has a significant number of userbase in Cyberjaya. The ability to identify the most popular F&B locations during lunch hour (1200 to 1400) allows for Boost to refine its F&B merchant acquisition strategy and run better campaigns. From the Grid ID’s identified in Question 1b), state the top 10 Grid ID’s with the highest number of Boost users from 1200 to 1400 and provide the count."
   ]
  },
  {
   "cell_type": "code",
   "execution_count": 29,
   "metadata": {
    "ExecuteTime": {
     "end_time": "2020-02-07T15:08:23.752209Z",
     "start_time": "2020-02-07T15:08:23.714394Z"
    }
   },
   "outputs": [
    {
     "data": {
      "text/html": [
       "<div>\n",
       "<style scoped>\n",
       "    .dataframe tbody tr th:only-of-type {\n",
       "        vertical-align: middle;\n",
       "    }\n",
       "\n",
       "    .dataframe tbody tr th {\n",
       "        vertical-align: top;\n",
       "    }\n",
       "\n",
       "    .dataframe thead th {\n",
       "        text-align: right;\n",
       "    }\n",
       "</style>\n",
       "<table border=\"1\" class=\"dataframe\">\n",
       "  <thead>\n",
       "    <tr style=\"text-align: right;\">\n",
       "      <th></th>\n",
       "      <th>Category</th>\n",
       "      <th>SubCategory</th>\n",
       "      <th>Latitude</th>\n",
       "      <th>Longitude</th>\n",
       "      <th>POIName</th>\n",
       "      <th>fb</th>\n",
       "      <th>geometry</th>\n",
       "    </tr>\n",
       "  </thead>\n",
       "  <tbody>\n",
       "    <tr>\n",
       "      <td>0</td>\n",
       "      <td>amenity</td>\n",
       "      <td>cafe</td>\n",
       "      <td>2.924346</td>\n",
       "      <td>101.639315</td>\n",
       "      <td>Poolside Cafe</td>\n",
       "      <td>1</td>\n",
       "      <td>POINT (101.63931 2.92435)</td>\n",
       "    </tr>\n",
       "    <tr>\n",
       "      <td>1</td>\n",
       "      <td>amenity</td>\n",
       "      <td>community_centre</td>\n",
       "      <td>2.932361</td>\n",
       "      <td>101.647073</td>\n",
       "      <td>Dewan Masjid Raja Haji Fisabilillah</td>\n",
       "      <td>0</td>\n",
       "      <td>POINT (101.64707 2.93236)</td>\n",
       "    </tr>\n",
       "    <tr>\n",
       "      <td>2</td>\n",
       "      <td>amenity</td>\n",
       "      <td>kindergarten</td>\n",
       "      <td>2.918134</td>\n",
       "      <td>101.638630</td>\n",
       "      <td>SK Cyberjaya</td>\n",
       "      <td>0</td>\n",
       "      <td>POINT (101.63863 2.91813)</td>\n",
       "    </tr>\n",
       "    <tr>\n",
       "      <td>3</td>\n",
       "      <td>amenity</td>\n",
       "      <td>parking</td>\n",
       "      <td>2.907380</td>\n",
       "      <td>101.655840</td>\n",
       "      <td>Cyberview Solar Farm Car Park</td>\n",
       "      <td>0</td>\n",
       "      <td>POINT (101.65584 2.90738)</td>\n",
       "    </tr>\n",
       "    <tr>\n",
       "      <td>4</td>\n",
       "      <td>amenity</td>\n",
       "      <td>parking</td>\n",
       "      <td>2.930377</td>\n",
       "      <td>101.641317</td>\n",
       "      <td>Faculty of management (FOM) Staff Car Park @ M...</td>\n",
       "      <td>0</td>\n",
       "      <td>POINT (101.64132 2.93038)</td>\n",
       "    </tr>\n",
       "  </tbody>\n",
       "</table>\n",
       "</div>"
      ],
      "text/plain": [
       "  Category       SubCategory  Latitude   Longitude  \\\n",
       "0  amenity              cafe  2.924346  101.639315   \n",
       "1  amenity  community_centre  2.932361  101.647073   \n",
       "2  amenity      kindergarten  2.918134  101.638630   \n",
       "3  amenity           parking  2.907380  101.655840   \n",
       "4  amenity           parking  2.930377  101.641317   \n",
       "\n",
       "                                             POIName  fb  \\\n",
       "0                                      Poolside Cafe   1   \n",
       "1                Dewan Masjid Raja Haji Fisabilillah   0   \n",
       "2                                       SK Cyberjaya   0   \n",
       "3                      Cyberview Solar Farm Car Park   0   \n",
       "4  Faculty of management (FOM) Staff Car Park @ M...   0   \n",
       "\n",
       "                    geometry  \n",
       "0  POINT (101.63931 2.92435)  \n",
       "1  POINT (101.64707 2.93236)  \n",
       "2  POINT (101.63863 2.91813)  \n",
       "3  POINT (101.65584 2.90738)  \n",
       "4  POINT (101.64132 2.93038)  "
      ]
     },
     "execution_count": 29,
     "metadata": {},
     "output_type": "execute_result"
    }
   ],
   "source": [
    "pd_poi['geometry'] = list(zip(pd_poi.Longitude, pd_poi.Latitude))\n",
    "pd_poi['geometry'] = pd_poi['geometry'].apply(lambda x: Point(x))\n",
    "shp_poi = gpd.GeoDataFrame(pd_poi)\n",
    "shp_poi.crs = {'init':'epsg:4326'}\n",
    "shp_poi = shp_poi.reset_index().drop(['index'], axis=1)\n",
    "shp_poi.head()"
   ]
  },
  {
   "cell_type": "code",
   "execution_count": 30,
   "metadata": {
    "ExecuteTime": {
     "end_time": "2020-02-07T15:08:24.076082Z",
     "start_time": "2020-02-07T15:08:23.754051Z"
    }
   },
   "outputs": [
    {
     "data": {
      "text/html": [
       "<div>\n",
       "<style scoped>\n",
       "    .dataframe tbody tr th:only-of-type {\n",
       "        vertical-align: middle;\n",
       "    }\n",
       "\n",
       "    .dataframe tbody tr th {\n",
       "        vertical-align: top;\n",
       "    }\n",
       "\n",
       "    .dataframe thead th {\n",
       "        text-align: right;\n",
       "    }\n",
       "</style>\n",
       "<table border=\"1\" class=\"dataframe\">\n",
       "  <thead>\n",
       "    <tr style=\"text-align: right;\">\n",
       "      <th></th>\n",
       "      <th>Category</th>\n",
       "      <th>SubCategory</th>\n",
       "      <th>Latitude</th>\n",
       "      <th>Longitude</th>\n",
       "      <th>POIName</th>\n",
       "      <th>fb</th>\n",
       "      <th>geometry</th>\n",
       "      <th>index_right</th>\n",
       "      <th>grid_id</th>\n",
       "    </tr>\n",
       "  </thead>\n",
       "  <tbody>\n",
       "    <tr>\n",
       "      <td>0</td>\n",
       "      <td>amenity</td>\n",
       "      <td>cafe</td>\n",
       "      <td>2.924346</td>\n",
       "      <td>101.639315</td>\n",
       "      <td>Poolside Cafe</td>\n",
       "      <td>1</td>\n",
       "      <td>POINT (101.63931 2.92435)</td>\n",
       "      <td>339.0</td>\n",
       "      <td>171052.0</td>\n",
       "    </tr>\n",
       "    <tr>\n",
       "      <td>1</td>\n",
       "      <td>amenity</td>\n",
       "      <td>community_centre</td>\n",
       "      <td>2.932361</td>\n",
       "      <td>101.647073</td>\n",
       "      <td>Dewan Masjid Raja Haji Fisabilillah</td>\n",
       "      <td>0</td>\n",
       "      <td>POINT (101.64707 2.93236)</td>\n",
       "      <td>415.0</td>\n",
       "      <td>173161.0</td>\n",
       "    </tr>\n",
       "  </tbody>\n",
       "</table>\n",
       "</div>"
      ],
      "text/plain": [
       "  Category       SubCategory  Latitude   Longitude  \\\n",
       "0  amenity              cafe  2.924346  101.639315   \n",
       "1  amenity  community_centre  2.932361  101.647073   \n",
       "\n",
       "                               POIName  fb                   geometry  \\\n",
       "0                        Poolside Cafe   1  POINT (101.63931 2.92435)   \n",
       "1  Dewan Masjid Raja Haji Fisabilillah   0  POINT (101.64707 2.93236)   \n",
       "\n",
       "   index_right   grid_id  \n",
       "0        339.0  171052.0  \n",
       "1        415.0  173161.0  "
      ]
     },
     "execution_count": 30,
     "metadata": {},
     "output_type": "execute_result"
    }
   ],
   "source": [
    "shp_poi_extended = gpd.sjoin(shp_poi, shp_civerjaya, how='left')\n",
    "shp_poi_extended.head(2)\n",
    "#shp_poi_extended.to_csv('poi_with_coord.csv')"
   ]
  },
  {
   "cell_type": "code",
   "execution_count": 31,
   "metadata": {
    "ExecuteTime": {
     "end_time": "2020-02-07T15:08:24.110325Z",
     "start_time": "2020-02-07T15:08:24.080267Z"
    }
   },
   "outputs": [
    {
     "data": {
      "text/html": [
       "<div>\n",
       "<style scoped>\n",
       "    .dataframe tbody tr th:only-of-type {\n",
       "        vertical-align: middle;\n",
       "    }\n",
       "\n",
       "    .dataframe tbody tr th {\n",
       "        vertical-align: top;\n",
       "    }\n",
       "\n",
       "    .dataframe thead th {\n",
       "        text-align: right;\n",
       "    }\n",
       "</style>\n",
       "<table border=\"1\" class=\"dataframe\">\n",
       "  <thead>\n",
       "    <tr style=\"text-align: right;\">\n",
       "      <th></th>\n",
       "      <th>grid_id</th>\n",
       "      <th>fnb_grid</th>\n",
       "    </tr>\n",
       "  </thead>\n",
       "  <tbody>\n",
       "    <tr>\n",
       "      <td>0</td>\n",
       "      <td>171052.0</td>\n",
       "      <td>1</td>\n",
       "    </tr>\n",
       "    <tr>\n",
       "      <td>19</td>\n",
       "      <td>169653.0</td>\n",
       "      <td>1</td>\n",
       "    </tr>\n",
       "    <tr>\n",
       "      <td>20</td>\n",
       "      <td>171759.0</td>\n",
       "      <td>1</td>\n",
       "    </tr>\n",
       "    <tr>\n",
       "      <td>21</td>\n",
       "      <td>168249.0</td>\n",
       "      <td>1</td>\n",
       "    </tr>\n",
       "    <tr>\n",
       "      <td>22</td>\n",
       "      <td>168950.0</td>\n",
       "      <td>1</td>\n",
       "    </tr>\n",
       "  </tbody>\n",
       "</table>\n",
       "</div>"
      ],
      "text/plain": [
       "     grid_id  fnb_grid\n",
       "0   171052.0         1\n",
       "19  169653.0         1\n",
       "20  171759.0         1\n",
       "21  168249.0         1\n",
       "22  168950.0         1"
      ]
     },
     "execution_count": 31,
     "metadata": {},
     "output_type": "execute_result"
    }
   ],
   "source": [
    "poi_filter = shp_poi_extended[shp_poi_extended.fb > 0][['grid_id']].drop_duplicates()\n",
    "poi_filter['fnb_grid'] = 1\n",
    "poi_filter.head()"
   ]
  },
  {
   "cell_type": "code",
   "execution_count": 32,
   "metadata": {
    "ExecuteTime": {
     "end_time": "2020-02-07T15:08:24.819294Z",
     "start_time": "2020-02-07T15:08:24.115600Z"
    }
   },
   "outputs": [
    {
     "data": {
      "text/html": [
       "<div>\n",
       "<style scoped>\n",
       "    .dataframe tbody tr th:only-of-type {\n",
       "        vertical-align: middle;\n",
       "    }\n",
       "\n",
       "    .dataframe tbody tr th {\n",
       "        vertical-align: top;\n",
       "    }\n",
       "\n",
       "    .dataframe thead th {\n",
       "        text-align: right;\n",
       "    }\n",
       "</style>\n",
       "<table border=\"1\" class=\"dataframe\">\n",
       "  <thead>\n",
       "    <tr style=\"text-align: right;\">\n",
       "      <th></th>\n",
       "      <th>customer_id</th>\n",
       "      <th>MerchantCode</th>\n",
       "      <th>MerchantCategory</th>\n",
       "      <th>date_time</th>\n",
       "      <th>GTV</th>\n",
       "      <th>date_time_2</th>\n",
       "      <th>grid_id</th>\n",
       "      <th>fnb_grid</th>\n",
       "      <th>FB_flag</th>\n",
       "    </tr>\n",
       "  </thead>\n",
       "  <tbody>\n",
       "    <tr>\n",
       "      <td>0</td>\n",
       "      <td>r43045724262114812</td>\n",
       "      <td>pmbmkbipk</td>\n",
       "      <td>Transit &amp; Travel</td>\n",
       "      <td>1563536760</td>\n",
       "      <td>31.45</td>\n",
       "      <td>2019-07-19 11:46:00</td>\n",
       "      <td>176673.0</td>\n",
       "      <td>0.0</td>\n",
       "      <td>1.0</td>\n",
       "    </tr>\n",
       "    <tr>\n",
       "      <td>1</td>\n",
       "      <td>165324620748557838</td>\n",
       "      <td>92r201n2a0iy</td>\n",
       "      <td>Household Goods and Groceries</td>\n",
       "      <td>1563536760</td>\n",
       "      <td>17.25</td>\n",
       "      <td>2019-07-19 11:46:00</td>\n",
       "      <td>175259.0</td>\n",
       "      <td>0.0</td>\n",
       "      <td>1.0</td>\n",
       "    </tr>\n",
       "    <tr>\n",
       "      <td>2</td>\n",
       "      <td>h233548585934022368</td>\n",
       "      <td>3h00c55uk01</td>\n",
       "      <td>Household Goods and Groceries</td>\n",
       "      <td>1563536760</td>\n",
       "      <td>88.00</td>\n",
       "      <td>2019-07-19 11:46:00</td>\n",
       "      <td>171748.0</td>\n",
       "      <td>0.0</td>\n",
       "      <td>1.0</td>\n",
       "    </tr>\n",
       "    <tr>\n",
       "      <td>3</td>\n",
       "      <td>6074516273378802718</td>\n",
       "      <td>110o7is610eu</td>\n",
       "      <td>F&amp;B</td>\n",
       "      <td>1563536760</td>\n",
       "      <td>50.82</td>\n",
       "      <td>2019-07-19 11:46:00</td>\n",
       "      <td>171758.0</td>\n",
       "      <td>0.0</td>\n",
       "      <td>1.0</td>\n",
       "    </tr>\n",
       "    <tr>\n",
       "      <td>4</td>\n",
       "      <td>860214065958232817</td>\n",
       "      <td>50013tcm50aa</td>\n",
       "      <td>Household Goods and Groceries</td>\n",
       "      <td>1563536760</td>\n",
       "      <td>16.97</td>\n",
       "      <td>2019-07-19 11:46:00</td>\n",
       "      <td>177367.0</td>\n",
       "      <td>0.0</td>\n",
       "      <td>1.0</td>\n",
       "    </tr>\n",
       "  </tbody>\n",
       "</table>\n",
       "</div>"
      ],
      "text/plain": [
       "           customer_id  MerchantCode               MerchantCategory  \\\n",
       "0   r43045724262114812     pmbmkbipk               Transit & Travel   \n",
       "1   165324620748557838  92r201n2a0iy  Household Goods and Groceries   \n",
       "2  h233548585934022368   3h00c55uk01  Household Goods and Groceries   \n",
       "3  6074516273378802718  110o7is610eu                            F&B   \n",
       "4   860214065958232817  50013tcm50aa  Household Goods and Groceries   \n",
       "\n",
       "    date_time    GTV         date_time_2   grid_id  fnb_grid  FB_flag  \n",
       "0  1563536760  31.45 2019-07-19 11:46:00  176673.0       0.0      1.0  \n",
       "1  1563536760  17.25 2019-07-19 11:46:00  175259.0       0.0      1.0  \n",
       "2  1563536760  88.00 2019-07-19 11:46:00  171748.0       0.0      1.0  \n",
       "3  1563536760  50.82 2019-07-19 11:46:00  171758.0       0.0      1.0  \n",
       "4  1563536760  16.97 2019-07-19 11:46:00  177367.0       0.0      1.0  "
      ]
     },
     "execution_count": 32,
     "metadata": {},
     "output_type": "execute_result"
    }
   ],
   "source": [
    "task_1c_base = pd_transaction.copy()\n",
    "task_1c_base = pd.merge(task_1c_base, pd_merchants[['MerchantCode', 'grid_id']], how='left', on='MerchantCode')\n",
    "task_1c_base = pd.merge(task_1c_base, poi_filter, how='left', on='grid_id').fillna({'fnb_grid':0})\n",
    "task_1c_base = pd.merge(task_1c_base, task_1b_result, how='left', on='grid_id').fillna({'FB_flag':0})\n",
    "task_1c_base.head()"
   ]
  },
  {
   "cell_type": "code",
   "execution_count": 33,
   "metadata": {
    "ExecuteTime": {
     "end_time": "2020-02-07T15:08:24.950491Z",
     "start_time": "2020-02-07T15:08:24.824225Z"
    }
   },
   "outputs": [
    {
     "data": {
      "text/html": [
       "<div>\n",
       "<style scoped>\n",
       "    .dataframe tbody tr th:only-of-type {\n",
       "        vertical-align: middle;\n",
       "    }\n",
       "\n",
       "    .dataframe tbody tr th {\n",
       "        vertical-align: top;\n",
       "    }\n",
       "\n",
       "    .dataframe thead th {\n",
       "        text-align: right;\n",
       "    }\n",
       "</style>\n",
       "<table border=\"1\" class=\"dataframe\">\n",
       "  <thead>\n",
       "    <tr style=\"text-align: right;\">\n",
       "      <th></th>\n",
       "      <th>grid_id</th>\n",
       "      <th>FB_flag_trn</th>\n",
       "    </tr>\n",
       "  </thead>\n",
       "  <tbody>\n",
       "    <tr>\n",
       "      <td>3</td>\n",
       "      <td>171758.0</td>\n",
       "      <td>1</td>\n",
       "    </tr>\n",
       "    <tr>\n",
       "      <td>5</td>\n",
       "      <td>169663.0</td>\n",
       "      <td>1</td>\n",
       "    </tr>\n",
       "  </tbody>\n",
       "</table>\n",
       "</div>"
      ],
      "text/plain": [
       "    grid_id  FB_flag_trn\n",
       "3  171758.0            1\n",
       "5  169663.0            1"
      ]
     },
     "execution_count": 33,
     "metadata": {},
     "output_type": "execute_result"
    }
   ],
   "source": [
    "fb_trn = task_1c_base[task_1c_base.MerchantCategory == \"F&B\"][['grid_id']].drop_duplicates()\n",
    "fb_trn['FB_flag_trn'] = 1\n",
    "fb_trn.head(2)"
   ]
  },
  {
   "cell_type": "code",
   "execution_count": 34,
   "metadata": {
    "ExecuteTime": {
     "end_time": "2020-02-07T15:08:25.259361Z",
     "start_time": "2020-02-07T15:08:24.953894Z"
    }
   },
   "outputs": [
    {
     "data": {
      "text/html": [
       "<div>\n",
       "<style scoped>\n",
       "    .dataframe tbody tr th:only-of-type {\n",
       "        vertical-align: middle;\n",
       "    }\n",
       "\n",
       "    .dataframe tbody tr th {\n",
       "        vertical-align: top;\n",
       "    }\n",
       "\n",
       "    .dataframe thead th {\n",
       "        text-align: right;\n",
       "    }\n",
       "</style>\n",
       "<table border=\"1\" class=\"dataframe\">\n",
       "  <thead>\n",
       "    <tr style=\"text-align: right;\">\n",
       "      <th></th>\n",
       "      <th>customer_id</th>\n",
       "      <th>MerchantCode</th>\n",
       "      <th>MerchantCategory</th>\n",
       "      <th>date_time</th>\n",
       "      <th>GTV</th>\n",
       "      <th>date_time_2</th>\n",
       "      <th>grid_id</th>\n",
       "      <th>fnb_grid</th>\n",
       "      <th>FB_flag</th>\n",
       "      <th>FB_flag_trn</th>\n",
       "    </tr>\n",
       "  </thead>\n",
       "  <tbody>\n",
       "    <tr>\n",
       "      <td>0</td>\n",
       "      <td>r43045724262114812</td>\n",
       "      <td>pmbmkbipk</td>\n",
       "      <td>Transit &amp; Travel</td>\n",
       "      <td>1563536760</td>\n",
       "      <td>31.45</td>\n",
       "      <td>2019-07-19 11:46:00</td>\n",
       "      <td>176673.0</td>\n",
       "      <td>0.0</td>\n",
       "      <td>1.0</td>\n",
       "      <td>1.0</td>\n",
       "    </tr>\n",
       "    <tr>\n",
       "      <td>1</td>\n",
       "      <td>165324620748557838</td>\n",
       "      <td>92r201n2a0iy</td>\n",
       "      <td>Household Goods and Groceries</td>\n",
       "      <td>1563536760</td>\n",
       "      <td>17.25</td>\n",
       "      <td>2019-07-19 11:46:00</td>\n",
       "      <td>175259.0</td>\n",
       "      <td>0.0</td>\n",
       "      <td>1.0</td>\n",
       "      <td>1.0</td>\n",
       "    </tr>\n",
       "  </tbody>\n",
       "</table>\n",
       "</div>"
      ],
      "text/plain": [
       "          customer_id  MerchantCode               MerchantCategory  \\\n",
       "0  r43045724262114812     pmbmkbipk               Transit & Travel   \n",
       "1  165324620748557838  92r201n2a0iy  Household Goods and Groceries   \n",
       "\n",
       "    date_time    GTV         date_time_2   grid_id  fnb_grid  FB_flag  \\\n",
       "0  1563536760  31.45 2019-07-19 11:46:00  176673.0       0.0      1.0   \n",
       "1  1563536760  17.25 2019-07-19 11:46:00  175259.0       0.0      1.0   \n",
       "\n",
       "   FB_flag_trn  \n",
       "0          1.0  \n",
       "1          1.0  "
      ]
     },
     "execution_count": 34,
     "metadata": {},
     "output_type": "execute_result"
    }
   ],
   "source": [
    "task_1c_base = pd.merge(task_1c_base, fb_trn, how='left', on='grid_id').fillna({'FB_flag_trn':0})\n",
    "task_1c_base.head(2)"
   ]
  },
  {
   "cell_type": "code",
   "execution_count": 35,
   "metadata": {
    "ExecuteTime": {
     "end_time": "2020-02-07T15:08:25.375252Z",
     "start_time": "2020-02-07T15:08:25.267473Z"
    }
   },
   "outputs": [
    {
     "name": "stdout",
     "output_type": "stream",
     "text": [
      "228354\n",
      "228354\n"
     ]
    },
    {
     "data": {
      "text/plain": [
       "F&B                              110114\n",
       "Transit & Travel                  35741\n",
       "Retail                            26766\n",
       "Household Goods and Groceries     25066\n",
       "Services                           8299\n",
       "Name: MerchantCategory, dtype: int64"
      ]
     },
     "execution_count": 35,
     "metadata": {},
     "output_type": "execute_result"
    }
   ],
   "source": [
    "print(task_1c_base.shape[0])\n",
    "print(pd_transaction.shape[0])\n",
    "task_1c_base[task_1c_base.FB_flag > 0].MerchantCategory.value_counts()"
   ]
  },
  {
   "cell_type": "markdown",
   "metadata": {},
   "source": [
    "This is the final solution of 1b)"
   ]
  },
  {
   "cell_type": "code",
   "execution_count": 36,
   "metadata": {
    "ExecuteTime": {
     "end_time": "2020-02-07T15:08:25.459554Z",
     "start_time": "2020-02-07T15:08:25.378588Z"
    }
   },
   "outputs": [],
   "source": [
    "res_1b_alternative = task_1c_base[(task_1c_base.FB_flag > 0) | (task_1c_base.fnb_grid > 0)][['grid_id']].drop_duplicates()\n",
    "res_1b_alternative.to_csv('res_1b_v2.csv')"
   ]
  },
  {
   "cell_type": "code",
   "execution_count": 37,
   "metadata": {
    "ExecuteTime": {
     "end_time": "2020-02-07T15:08:25.480864Z",
     "start_time": "2020-02-07T15:08:25.463279Z"
    },
    "scrolled": true
   },
   "outputs": [
    {
     "data": {
      "text/html": [
       "<div>\n",
       "<style scoped>\n",
       "    .dataframe tbody tr th:only-of-type {\n",
       "        vertical-align: middle;\n",
       "    }\n",
       "\n",
       "    .dataframe tbody tr th {\n",
       "        vertical-align: top;\n",
       "    }\n",
       "\n",
       "    .dataframe thead th {\n",
       "        text-align: right;\n",
       "    }\n",
       "</style>\n",
       "<table border=\"1\" class=\"dataframe\">\n",
       "  <thead>\n",
       "    <tr style=\"text-align: right;\">\n",
       "      <th></th>\n",
       "      <th>grid_id</th>\n",
       "    </tr>\n",
       "  </thead>\n",
       "  <tbody>\n",
       "    <tr>\n",
       "      <td>0</td>\n",
       "      <td>176673.0</td>\n",
       "    </tr>\n",
       "    <tr>\n",
       "      <td>1</td>\n",
       "      <td>175259.0</td>\n",
       "    </tr>\n",
       "    <tr>\n",
       "      <td>2</td>\n",
       "      <td>171748.0</td>\n",
       "    </tr>\n",
       "    <tr>\n",
       "      <td>3</td>\n",
       "      <td>171758.0</td>\n",
       "    </tr>\n",
       "    <tr>\n",
       "      <td>4</td>\n",
       "      <td>177367.0</td>\n",
       "    </tr>\n",
       "    <tr>\n",
       "      <td>...</td>\n",
       "      <td>...</td>\n",
       "    </tr>\n",
       "    <tr>\n",
       "      <td>17220</td>\n",
       "      <td>166840.0</td>\n",
       "    </tr>\n",
       "    <tr>\n",
       "      <td>19243</td>\n",
       "      <td>172460.0</td>\n",
       "    </tr>\n",
       "    <tr>\n",
       "      <td>24580</td>\n",
       "      <td>168246.0</td>\n",
       "    </tr>\n",
       "    <tr>\n",
       "      <td>38986</td>\n",
       "      <td>171052.0</td>\n",
       "    </tr>\n",
       "    <tr>\n",
       "      <td>56568</td>\n",
       "      <td>168249.0</td>\n",
       "    </tr>\n",
       "  </tbody>\n",
       "</table>\n",
       "<p>401 rows × 1 columns</p>\n",
       "</div>"
      ],
      "text/plain": [
       "        grid_id\n",
       "0      176673.0\n",
       "1      175259.0\n",
       "2      171748.0\n",
       "3      171758.0\n",
       "4      177367.0\n",
       "...         ...\n",
       "17220  166840.0\n",
       "19243  172460.0\n",
       "24580  168246.0\n",
       "38986  171052.0\n",
       "56568  168249.0\n",
       "\n",
       "[401 rows x 1 columns]"
      ]
     },
     "execution_count": 37,
     "metadata": {},
     "output_type": "execute_result"
    }
   ],
   "source": [
    "res_1b_alternative"
   ]
  },
  {
   "cell_type": "code",
   "execution_count": 38,
   "metadata": {
    "ExecuteTime": {
     "end_time": "2020-02-07T15:08:25.700198Z",
     "start_time": "2020-02-07T15:08:25.486341Z"
    }
   },
   "outputs": [
    {
     "data": {
      "text/html": [
       "<div>\n",
       "<style scoped>\n",
       "    .dataframe tbody tr th:only-of-type {\n",
       "        vertical-align: middle;\n",
       "    }\n",
       "\n",
       "    .dataframe tbody tr th {\n",
       "        vertical-align: top;\n",
       "    }\n",
       "\n",
       "    .dataframe thead th {\n",
       "        text-align: right;\n",
       "    }\n",
       "</style>\n",
       "<table border=\"1\" class=\"dataframe\">\n",
       "  <thead>\n",
       "    <tr style=\"text-align: right;\">\n",
       "      <th></th>\n",
       "      <th></th>\n",
       "      <th></th>\n",
       "      <th>customer_id</th>\n",
       "      <th>MerchantCode</th>\n",
       "      <th>MerchantCategory</th>\n",
       "      <th>date_time</th>\n",
       "      <th>GTV</th>\n",
       "      <th>date_time_2</th>\n",
       "      <th>grid_id</th>\n",
       "    </tr>\n",
       "    <tr>\n",
       "      <th>fnb_grid</th>\n",
       "      <th>FB_flag</th>\n",
       "      <th>FB_flag_trn</th>\n",
       "      <th></th>\n",
       "      <th></th>\n",
       "      <th></th>\n",
       "      <th></th>\n",
       "      <th></th>\n",
       "      <th></th>\n",
       "      <th></th>\n",
       "    </tr>\n",
       "  </thead>\n",
       "  <tbody>\n",
       "    <tr>\n",
       "      <td rowspan=\"2\" valign=\"top\">0.0</td>\n",
       "      <td>0.0</td>\n",
       "      <td>0.0</td>\n",
       "      <td>21490</td>\n",
       "      <td>21490</td>\n",
       "      <td>21490</td>\n",
       "      <td>21490</td>\n",
       "      <td>21490</td>\n",
       "      <td>21490</td>\n",
       "      <td>21490</td>\n",
       "    </tr>\n",
       "    <tr>\n",
       "      <td>1.0</td>\n",
       "      <td>1.0</td>\n",
       "      <td>199830</td>\n",
       "      <td>199830</td>\n",
       "      <td>199830</td>\n",
       "      <td>199830</td>\n",
       "      <td>199830</td>\n",
       "      <td>199830</td>\n",
       "      <td>199830</td>\n",
       "    </tr>\n",
       "    <tr>\n",
       "      <td rowspan=\"2\" valign=\"top\">1.0</td>\n",
       "      <td>0.0</td>\n",
       "      <td>0.0</td>\n",
       "      <td>878</td>\n",
       "      <td>878</td>\n",
       "      <td>878</td>\n",
       "      <td>878</td>\n",
       "      <td>878</td>\n",
       "      <td>878</td>\n",
       "      <td>878</td>\n",
       "    </tr>\n",
       "    <tr>\n",
       "      <td>1.0</td>\n",
       "      <td>1.0</td>\n",
       "      <td>6156</td>\n",
       "      <td>6156</td>\n",
       "      <td>6156</td>\n",
       "      <td>6156</td>\n",
       "      <td>6156</td>\n",
       "      <td>6156</td>\n",
       "      <td>6156</td>\n",
       "    </tr>\n",
       "  </tbody>\n",
       "</table>\n",
       "</div>"
      ],
      "text/plain": [
       "                              customer_id  MerchantCode  MerchantCategory  \\\n",
       "fnb_grid FB_flag FB_flag_trn                                                \n",
       "0.0      0.0     0.0                21490         21490             21490   \n",
       "         1.0     1.0               199830        199830            199830   \n",
       "1.0      0.0     0.0                  878           878               878   \n",
       "         1.0     1.0                 6156          6156              6156   \n",
       "\n",
       "                              date_time     GTV  date_time_2  grid_id  \n",
       "fnb_grid FB_flag FB_flag_trn                                           \n",
       "0.0      0.0     0.0              21490   21490        21490    21490  \n",
       "         1.0     1.0             199830  199830       199830   199830  \n",
       "1.0      0.0     0.0                878     878          878      878  \n",
       "         1.0     1.0               6156    6156         6156     6156  "
      ]
     },
     "execution_count": 38,
     "metadata": {},
     "output_type": "execute_result"
    }
   ],
   "source": [
    "task_1c_base.groupby(['fnb_grid', 'FB_flag', 'FB_flag_trn']).count()"
   ]
  },
  {
   "cell_type": "code",
   "execution_count": 39,
   "metadata": {
    "ExecuteTime": {
     "end_time": "2020-02-07T15:08:26.152196Z",
     "start_time": "2020-02-07T15:08:25.701194Z"
    }
   },
   "outputs": [
    {
     "data": {
      "text/html": [
       "<div>\n",
       "<style scoped>\n",
       "    .dataframe tbody tr th:only-of-type {\n",
       "        vertical-align: middle;\n",
       "    }\n",
       "\n",
       "    .dataframe tbody tr th {\n",
       "        vertical-align: top;\n",
       "    }\n",
       "\n",
       "    .dataframe thead th {\n",
       "        text-align: right;\n",
       "    }\n",
       "</style>\n",
       "<table border=\"1\" class=\"dataframe\">\n",
       "  <thead>\n",
       "    <tr style=\"text-align: right;\">\n",
       "      <th></th>\n",
       "      <th>customer_id</th>\n",
       "      <th>MerchantCode</th>\n",
       "      <th>MerchantCategory</th>\n",
       "      <th>date_time</th>\n",
       "      <th>GTV</th>\n",
       "      <th>date_time_2</th>\n",
       "      <th>grid_id</th>\n",
       "      <th>fnb_grid</th>\n",
       "      <th>FB_flag</th>\n",
       "      <th>FB_flag_trn</th>\n",
       "    </tr>\n",
       "  </thead>\n",
       "  <tbody>\n",
       "    <tr>\n",
       "      <td>645</td>\n",
       "      <td>k59343132662801596</td>\n",
       "      <td>03e8005ti3t</td>\n",
       "      <td>F&amp;B</td>\n",
       "      <td>1563537600</td>\n",
       "      <td>24.43</td>\n",
       "      <td>2019-07-19 12:00:00</td>\n",
       "      <td>171760.0</td>\n",
       "      <td>0.0</td>\n",
       "      <td>1.0</td>\n",
       "      <td>1.0</td>\n",
       "    </tr>\n",
       "    <tr>\n",
       "      <td>646</td>\n",
       "      <td>k944698484231758385</td>\n",
       "      <td>n0o150g0p35c</td>\n",
       "      <td>Retail</td>\n",
       "      <td>1563537600</td>\n",
       "      <td>24.65</td>\n",
       "      <td>2019-07-19 12:00:00</td>\n",
       "      <td>164034.0</td>\n",
       "      <td>0.0</td>\n",
       "      <td>1.0</td>\n",
       "      <td>1.0</td>\n",
       "    </tr>\n",
       "  </tbody>\n",
       "</table>\n",
       "</div>"
      ],
      "text/plain": [
       "             customer_id  MerchantCode MerchantCategory   date_time    GTV  \\\n",
       "645   k59343132662801596   03e8005ti3t              F&B  1563537600  24.43   \n",
       "646  k944698484231758385  n0o150g0p35c           Retail  1563537600  24.65   \n",
       "\n",
       "            date_time_2   grid_id  fnb_grid  FB_flag  FB_flag_trn  \n",
       "645 2019-07-19 12:00:00  171760.0       0.0      1.0          1.0  \n",
       "646 2019-07-19 12:00:00  164034.0       0.0      1.0          1.0  "
      ]
     },
     "execution_count": 39,
     "metadata": {},
     "output_type": "execute_result"
    }
   ],
   "source": [
    "task_1c_base = task_1c_base[((task_1c_base.FB_flag > 0) | (task_1c_base.fnb_grid > 0)) & \n",
    "                            (task_1c_base.date_time_2.dt.time >= datetime.time(12,0,0)) & (task_1c_base.date_time_2.dt.time <= datetime.time(14,0,0))]\n",
    "\n",
    "task_1c_base.head(2)"
   ]
  },
  {
   "cell_type": "code",
   "execution_count": 40,
   "metadata": {
    "ExecuteTime": {
     "end_time": "2020-02-07T15:08:26.189567Z",
     "start_time": "2020-02-07T15:08:26.156151Z"
    }
   },
   "outputs": [
    {
     "data": {
      "text/html": [
       "<div>\n",
       "<style scoped>\n",
       "    .dataframe tbody tr th:only-of-type {\n",
       "        vertical-align: middle;\n",
       "    }\n",
       "\n",
       "    .dataframe tbody tr th {\n",
       "        vertical-align: top;\n",
       "    }\n",
       "\n",
       "    .dataframe thead th {\n",
       "        text-align: right;\n",
       "    }\n",
       "</style>\n",
       "<table border=\"1\" class=\"dataframe\">\n",
       "  <thead>\n",
       "    <tr style=\"text-align: right;\">\n",
       "      <th></th>\n",
       "      <th>customer_id</th>\n",
       "      <th>MerchantCode</th>\n",
       "      <th>MerchantCategory</th>\n",
       "      <th>date_time</th>\n",
       "      <th>GTV</th>\n",
       "      <th>date_time_2</th>\n",
       "      <th>grid_id</th>\n",
       "      <th>fnb_grid</th>\n",
       "      <th>FB_flag</th>\n",
       "      <th>FB_flag_trn</th>\n",
       "    </tr>\n",
       "  </thead>\n",
       "  <tbody>\n",
       "    <tr>\n",
       "      <td>1020</td>\n",
       "      <td>q676485508413304516</td>\n",
       "      <td>103k50l05ce</td>\n",
       "      <td>Household Goods and Groceries</td>\n",
       "      <td>1563537840</td>\n",
       "      <td>312.09</td>\n",
       "      <td>2019-07-19 12:04:00</td>\n",
       "      <td>168248.0</td>\n",
       "      <td>1.0</td>\n",
       "      <td>0.0</td>\n",
       "      <td>0.0</td>\n",
       "    </tr>\n",
       "    <tr>\n",
       "      <td>1632</td>\n",
       "      <td>7582844331202318793</td>\n",
       "      <td>103k50l05ce</td>\n",
       "      <td>Household Goods and Groceries</td>\n",
       "      <td>1563538320</td>\n",
       "      <td>312.09</td>\n",
       "      <td>2019-07-19 12:12:00</td>\n",
       "      <td>168248.0</td>\n",
       "      <td>1.0</td>\n",
       "      <td>0.0</td>\n",
       "      <td>0.0</td>\n",
       "    </tr>\n",
       "  </tbody>\n",
       "</table>\n",
       "</div>"
      ],
      "text/plain": [
       "              customer_id MerchantCode               MerchantCategory  \\\n",
       "1020  q676485508413304516  103k50l05ce  Household Goods and Groceries   \n",
       "1632  7582844331202318793  103k50l05ce  Household Goods and Groceries   \n",
       "\n",
       "       date_time     GTV         date_time_2   grid_id  fnb_grid  FB_flag  \\\n",
       "1020  1563537840  312.09 2019-07-19 12:04:00  168248.0       1.0      0.0   \n",
       "1632  1563538320  312.09 2019-07-19 12:12:00  168248.0       1.0      0.0   \n",
       "\n",
       "      FB_flag_trn  \n",
       "1020          0.0  \n",
       "1632          0.0  "
      ]
     },
     "execution_count": 40,
     "metadata": {},
     "output_type": "execute_result"
    }
   ],
   "source": [
    "task_1c_base[(task_1c_base.fnb_grid > 0) & (task_1c_base.FB_flag == 0)].head(2)"
   ]
  },
  {
   "cell_type": "code",
   "execution_count": 41,
   "metadata": {
    "ExecuteTime": {
     "end_time": "2020-02-07T15:08:26.357758Z",
     "start_time": "2020-02-07T15:08:26.191596Z"
    }
   },
   "outputs": [
    {
     "data": {
      "text/html": [
       "<div>\n",
       "<style scoped>\n",
       "    .dataframe tbody tr th:only-of-type {\n",
       "        vertical-align: middle;\n",
       "    }\n",
       "\n",
       "    .dataframe tbody tr th {\n",
       "        vertical-align: top;\n",
       "    }\n",
       "\n",
       "    .dataframe thead th {\n",
       "        text-align: right;\n",
       "    }\n",
       "</style>\n",
       "<table border=\"1\" class=\"dataframe\">\n",
       "  <thead>\n",
       "    <tr style=\"text-align: right;\">\n",
       "      <th></th>\n",
       "      <th>grid_id</th>\n",
       "      <th>cust_cnt</th>\n",
       "      <th>cnt_1c</th>\n",
       "    </tr>\n",
       "  </thead>\n",
       "  <tbody>\n",
       "    <tr>\n",
       "      <td>0</td>\n",
       "      <td>159117.0</td>\n",
       "      <td>13</td>\n",
       "      <td>13</td>\n",
       "    </tr>\n",
       "    <tr>\n",
       "      <td>1</td>\n",
       "      <td>159122.0</td>\n",
       "      <td>192</td>\n",
       "      <td>199</td>\n",
       "    </tr>\n",
       "    <tr>\n",
       "      <td>2</td>\n",
       "      <td>159817.0</td>\n",
       "      <td>110</td>\n",
       "      <td>110</td>\n",
       "    </tr>\n",
       "    <tr>\n",
       "      <td>3</td>\n",
       "      <td>159818.0</td>\n",
       "      <td>200</td>\n",
       "      <td>203</td>\n",
       "    </tr>\n",
       "    <tr>\n",
       "      <td>4</td>\n",
       "      <td>159820.0</td>\n",
       "      <td>208</td>\n",
       "      <td>217</td>\n",
       "    </tr>\n",
       "  </tbody>\n",
       "</table>\n",
       "</div>"
      ],
      "text/plain": [
       "    grid_id  cust_cnt  cnt_1c\n",
       "0  159117.0        13      13\n",
       "1  159122.0       192     199\n",
       "2  159817.0       110     110\n",
       "3  159818.0       200     203\n",
       "4  159820.0       208     217"
      ]
     },
     "execution_count": 41,
     "metadata": {},
     "output_type": "execute_result"
    }
   ],
   "source": [
    "task_1c_base_agg_00 = task_1c_base.groupby(['customer_id', 'grid_id']).agg(\n",
    "    {'date_time':'count'}).rename(columns={'date_time':'cnt_1c'}).reset_index()\n",
    "task_1c_base_agg_00['cust_cnt'] = 1\n",
    "\n",
    "task_1c_base_agg_10 = task_1c_base_agg_00.groupby(['grid_id']).agg({'cust_cnt':'sum', 'cnt_1c':'sum'}).reset_index()\n",
    "\n",
    "task_1c_base_agg_10.head()"
   ]
  },
  {
   "cell_type": "code",
   "execution_count": 42,
   "metadata": {
    "ExecuteTime": {
     "end_time": "2020-02-07T15:08:26.385720Z",
     "start_time": "2020-02-07T15:08:26.362350Z"
    },
    "scrolled": false
   },
   "outputs": [
    {
     "data": {
      "text/html": [
       "<div>\n",
       "<style scoped>\n",
       "    .dataframe tbody tr th:only-of-type {\n",
       "        vertical-align: middle;\n",
       "    }\n",
       "\n",
       "    .dataframe tbody tr th {\n",
       "        vertical-align: top;\n",
       "    }\n",
       "\n",
       "    .dataframe thead th {\n",
       "        text-align: right;\n",
       "    }\n",
       "</style>\n",
       "<table border=\"1\" class=\"dataframe\">\n",
       "  <thead>\n",
       "    <tr style=\"text-align: right;\">\n",
       "      <th></th>\n",
       "      <th>grid_id</th>\n",
       "      <th>cust_cnt</th>\n",
       "    </tr>\n",
       "  </thead>\n",
       "  <tbody>\n",
       "    <tr>\n",
       "      <td>371</td>\n",
       "      <td>176673.0</td>\n",
       "      <td>2870</td>\n",
       "    </tr>\n",
       "    <tr>\n",
       "      <td>252</td>\n",
       "      <td>171745.0</td>\n",
       "      <td>2190</td>\n",
       "    </tr>\n",
       "    <tr>\n",
       "      <td>296</td>\n",
       "      <td>173160.0</td>\n",
       "      <td>1955</td>\n",
       "    </tr>\n",
       "    <tr>\n",
       "      <td>167</td>\n",
       "      <td>168253.0</td>\n",
       "      <td>1657</td>\n",
       "    </tr>\n",
       "    <tr>\n",
       "      <td>88</td>\n",
       "      <td>165435.0</td>\n",
       "      <td>1319</td>\n",
       "    </tr>\n",
       "    <tr>\n",
       "      <td>130</td>\n",
       "      <td>166847.0</td>\n",
       "      <td>1237</td>\n",
       "    </tr>\n",
       "    <tr>\n",
       "      <td>52</td>\n",
       "      <td>163334.0</td>\n",
       "      <td>1233</td>\n",
       "    </tr>\n",
       "    <tr>\n",
       "      <td>240</td>\n",
       "      <td>171054.0</td>\n",
       "      <td>1042</td>\n",
       "    </tr>\n",
       "    <tr>\n",
       "      <td>299</td>\n",
       "      <td>173165.0</td>\n",
       "      <td>1036</td>\n",
       "    </tr>\n",
       "    <tr>\n",
       "      <td>67</td>\n",
       "      <td>164041.0</td>\n",
       "      <td>1027</td>\n",
       "    </tr>\n",
       "  </tbody>\n",
       "</table>\n",
       "</div>"
      ],
      "text/plain": [
       "      grid_id  cust_cnt\n",
       "371  176673.0      2870\n",
       "252  171745.0      2190\n",
       "296  173160.0      1955\n",
       "167  168253.0      1657\n",
       "88   165435.0      1319\n",
       "130  166847.0      1237\n",
       "52   163334.0      1233\n",
       "240  171054.0      1042\n",
       "299  173165.0      1036\n",
       "67   164041.0      1027"
      ]
     },
     "execution_count": 42,
     "metadata": {},
     "output_type": "execute_result"
    }
   ],
   "source": [
    "task_1c_result = task_1c_base_agg_10.sort_values(by='cust_cnt', ascending=False)[['grid_id', 'cust_cnt']].head(10)\n",
    "task_1c_result"
   ]
  },
  {
   "cell_type": "markdown",
   "metadata": {},
   "source": [
    "This is not the final solution of 1c), as it has just only got 15%. The uploaded version will be the next."
   ]
  },
  {
   "cell_type": "code",
   "execution_count": 43,
   "metadata": {
    "ExecuteTime": {
     "end_time": "2020-02-07T15:08:26.408571Z",
     "start_time": "2020-02-07T15:08:26.388413Z"
    }
   },
   "outputs": [],
   "source": [
    "task_1c_result.to_csv('res_1c.csv')"
   ]
  },
  {
   "cell_type": "markdown",
   "metadata": {},
   "source": [
    "### 1.C - final solution"
   ]
  },
  {
   "cell_type": "code",
   "execution_count": 44,
   "metadata": {
    "ExecuteTime": {
     "end_time": "2020-02-07T15:08:26.440932Z",
     "start_time": "2020-02-07T15:08:26.412783Z"
    }
   },
   "outputs": [
    {
     "data": {
      "text/html": [
       "<div>\n",
       "<style scoped>\n",
       "    .dataframe tbody tr th:only-of-type {\n",
       "        vertical-align: middle;\n",
       "    }\n",
       "\n",
       "    .dataframe tbody tr th {\n",
       "        vertical-align: top;\n",
       "    }\n",
       "\n",
       "    .dataframe thead th {\n",
       "        text-align: right;\n",
       "    }\n",
       "</style>\n",
       "<table border=\"1\" class=\"dataframe\">\n",
       "  <thead>\n",
       "    <tr style=\"text-align: right;\">\n",
       "      <th></th>\n",
       "      <th>grid_id</th>\n",
       "      <th>good_grid</th>\n",
       "    </tr>\n",
       "  </thead>\n",
       "  <tbody>\n",
       "    <tr>\n",
       "      <td>0</td>\n",
       "      <td>176673.0</td>\n",
       "      <td>1</td>\n",
       "    </tr>\n",
       "    <tr>\n",
       "      <td>1</td>\n",
       "      <td>175259.0</td>\n",
       "      <td>1</td>\n",
       "    </tr>\n",
       "  </tbody>\n",
       "</table>\n",
       "</div>"
      ],
      "text/plain": [
       "    grid_id  good_grid\n",
       "0  176673.0          1\n",
       "1  175259.0          1"
      ]
     },
     "execution_count": 44,
     "metadata": {},
     "output_type": "execute_result"
    }
   ],
   "source": [
    "good_grid = pd.read_csv('res_1b_v2.csv')\n",
    "good_grid = good_grid[['grid_id']]\n",
    "good_grid['good_grid'] = 1\n",
    "good_grid.head(2)"
   ]
  },
  {
   "cell_type": "code",
   "execution_count": 45,
   "metadata": {
    "ExecuteTime": {
     "end_time": "2020-02-07T15:08:27.088245Z",
     "start_time": "2020-02-07T15:08:26.446811Z"
    }
   },
   "outputs": [
    {
     "data": {
      "text/html": [
       "<div>\n",
       "<style scoped>\n",
       "    .dataframe tbody tr th:only-of-type {\n",
       "        vertical-align: middle;\n",
       "    }\n",
       "\n",
       "    .dataframe tbody tr th {\n",
       "        vertical-align: top;\n",
       "    }\n",
       "\n",
       "    .dataframe thead th {\n",
       "        text-align: right;\n",
       "    }\n",
       "</style>\n",
       "<table border=\"1\" class=\"dataframe\">\n",
       "  <thead>\n",
       "    <tr style=\"text-align: right;\">\n",
       "      <th></th>\n",
       "      <th>customer_id</th>\n",
       "      <th>MerchantCode</th>\n",
       "      <th>MerchantCategory</th>\n",
       "      <th>date_time</th>\n",
       "      <th>GTV</th>\n",
       "      <th>date_time_2</th>\n",
       "      <th>grid_id</th>\n",
       "      <th>good_grid</th>\n",
       "      <th>date_day</th>\n",
       "    </tr>\n",
       "  </thead>\n",
       "  <tbody>\n",
       "    <tr>\n",
       "      <td>0</td>\n",
       "      <td>r43045724262114812</td>\n",
       "      <td>pmbmkbipk</td>\n",
       "      <td>Transit &amp; Travel</td>\n",
       "      <td>1563536760</td>\n",
       "      <td>31.45</td>\n",
       "      <td>2019-07-19 11:46:00</td>\n",
       "      <td>176673.0</td>\n",
       "      <td>1.0</td>\n",
       "      <td>2019-07-19</td>\n",
       "    </tr>\n",
       "    <tr>\n",
       "      <td>1</td>\n",
       "      <td>165324620748557838</td>\n",
       "      <td>92r201n2a0iy</td>\n",
       "      <td>Household Goods and Groceries</td>\n",
       "      <td>1563536760</td>\n",
       "      <td>17.25</td>\n",
       "      <td>2019-07-19 11:46:00</td>\n",
       "      <td>175259.0</td>\n",
       "      <td>1.0</td>\n",
       "      <td>2019-07-19</td>\n",
       "    </tr>\n",
       "    <tr>\n",
       "      <td>2</td>\n",
       "      <td>h233548585934022368</td>\n",
       "      <td>3h00c55uk01</td>\n",
       "      <td>Household Goods and Groceries</td>\n",
       "      <td>1563536760</td>\n",
       "      <td>88.00</td>\n",
       "      <td>2019-07-19 11:46:00</td>\n",
       "      <td>171748.0</td>\n",
       "      <td>1.0</td>\n",
       "      <td>2019-07-19</td>\n",
       "    </tr>\n",
       "    <tr>\n",
       "      <td>3</td>\n",
       "      <td>6074516273378802718</td>\n",
       "      <td>110o7is610eu</td>\n",
       "      <td>F&amp;B</td>\n",
       "      <td>1563536760</td>\n",
       "      <td>50.82</td>\n",
       "      <td>2019-07-19 11:46:00</td>\n",
       "      <td>171758.0</td>\n",
       "      <td>1.0</td>\n",
       "      <td>2019-07-19</td>\n",
       "    </tr>\n",
       "    <tr>\n",
       "      <td>4</td>\n",
       "      <td>860214065958232817</td>\n",
       "      <td>50013tcm50aa</td>\n",
       "      <td>Household Goods and Groceries</td>\n",
       "      <td>1563536760</td>\n",
       "      <td>16.97</td>\n",
       "      <td>2019-07-19 11:46:00</td>\n",
       "      <td>177367.0</td>\n",
       "      <td>1.0</td>\n",
       "      <td>2019-07-19</td>\n",
       "    </tr>\n",
       "  </tbody>\n",
       "</table>\n",
       "</div>"
      ],
      "text/plain": [
       "           customer_id  MerchantCode               MerchantCategory  \\\n",
       "0   r43045724262114812     pmbmkbipk               Transit & Travel   \n",
       "1   165324620748557838  92r201n2a0iy  Household Goods and Groceries   \n",
       "2  h233548585934022368   3h00c55uk01  Household Goods and Groceries   \n",
       "3  6074516273378802718  110o7is610eu                            F&B   \n",
       "4   860214065958232817  50013tcm50aa  Household Goods and Groceries   \n",
       "\n",
       "    date_time    GTV         date_time_2   grid_id  good_grid    date_day  \n",
       "0  1563536760  31.45 2019-07-19 11:46:00  176673.0        1.0  2019-07-19  \n",
       "1  1563536760  17.25 2019-07-19 11:46:00  175259.0        1.0  2019-07-19  \n",
       "2  1563536760  88.00 2019-07-19 11:46:00  171748.0        1.0  2019-07-19  \n",
       "3  1563536760  50.82 2019-07-19 11:46:00  171758.0        1.0  2019-07-19  \n",
       "4  1563536760  16.97 2019-07-19 11:46:00  177367.0        1.0  2019-07-19  "
      ]
     },
     "execution_count": 45,
     "metadata": {},
     "output_type": "execute_result"
    }
   ],
   "source": [
    "task_1c_base = pd.merge(pd_transaction, pd_merchants[['MerchantCode', 'grid_id']], how='left', on='MerchantCode')\n",
    "task_1c_base_20 = pd.merge(task_1c_base, good_grid, how='left', on='grid_id').fillna({'good_grid':0})\n",
    "task_1c_base_20['date_day'] = task_1c_base_20['date_time_2'].dt.date\n",
    "task_1c_base_20.head()"
   ]
  },
  {
   "cell_type": "code",
   "execution_count": 46,
   "metadata": {
    "ExecuteTime": {
     "end_time": "2020-02-07T15:08:27.715827Z",
     "start_time": "2020-02-07T15:08:27.093905Z"
    }
   },
   "outputs": [
    {
     "data": {
      "text/html": [
       "<div>\n",
       "<style scoped>\n",
       "    .dataframe tbody tr th:only-of-type {\n",
       "        vertical-align: middle;\n",
       "    }\n",
       "\n",
       "    .dataframe tbody tr th {\n",
       "        vertical-align: top;\n",
       "    }\n",
       "\n",
       "    .dataframe thead th {\n",
       "        text-align: right;\n",
       "    }\n",
       "</style>\n",
       "<table border=\"1\" class=\"dataframe\">\n",
       "  <thead>\n",
       "    <tr style=\"text-align: right;\">\n",
       "      <th></th>\n",
       "      <th>grid_id</th>\n",
       "      <th>cust_cnt</th>\n",
       "    </tr>\n",
       "  </thead>\n",
       "  <tbody>\n",
       "    <tr>\n",
       "      <td>0</td>\n",
       "      <td>159117.0</td>\n",
       "      <td>4</td>\n",
       "    </tr>\n",
       "    <tr>\n",
       "      <td>1</td>\n",
       "      <td>159118.0</td>\n",
       "      <td>16</td>\n",
       "    </tr>\n",
       "    <tr>\n",
       "      <td>2</td>\n",
       "      <td>159121.0</td>\n",
       "      <td>9</td>\n",
       "    </tr>\n",
       "    <tr>\n",
       "      <td>3</td>\n",
       "      <td>159122.0</td>\n",
       "      <td>21</td>\n",
       "    </tr>\n",
       "    <tr>\n",
       "      <td>4</td>\n",
       "      <td>159817.0</td>\n",
       "      <td>22</td>\n",
       "    </tr>\n",
       "  </tbody>\n",
       "</table>\n",
       "</div>"
      ],
      "text/plain": [
       "    grid_id  cust_cnt\n",
       "0  159117.0         4\n",
       "1  159118.0        16\n",
       "2  159121.0         9\n",
       "3  159122.0        21\n",
       "4  159817.0        22"
      ]
     },
     "execution_count": 46,
     "metadata": {},
     "output_type": "execute_result"
    }
   ],
   "source": [
    "task_1c_base_agg_00 = task_1c_base_20.groupby(['date_day', 'customer_id', 'grid_id']).agg(\n",
    "    {'date_time':'count'}).rename(columns={'date_time':'cnt_1c'}).reset_index()\n",
    "task_1c_base_agg_00['cust_cnt'] = 1\n",
    "\n",
    "task_1c_base_agg_10 = task_1c_base_agg_00.groupby(['date_day', 'grid_id']).agg({'cust_cnt':'sum'}).reset_index()\n",
    "task_1c_base_agg_20 = task_1c_base_agg_10.groupby(['grid_id']).agg({'cust_cnt':'max'}).reset_index()\n",
    "\n",
    "task_1c_base_agg_20.head()"
   ]
  },
  {
   "cell_type": "code",
   "execution_count": 47,
   "metadata": {
    "ExecuteTime": {
     "end_time": "2020-02-07T15:08:27.748338Z",
     "start_time": "2020-02-07T15:08:27.720824Z"
    }
   },
   "outputs": [
    {
     "data": {
      "text/html": [
       "<div>\n",
       "<style scoped>\n",
       "    .dataframe tbody tr th:only-of-type {\n",
       "        vertical-align: middle;\n",
       "    }\n",
       "\n",
       "    .dataframe tbody tr th {\n",
       "        vertical-align: top;\n",
       "    }\n",
       "\n",
       "    .dataframe thead th {\n",
       "        text-align: right;\n",
       "    }\n",
       "</style>\n",
       "<table border=\"1\" class=\"dataframe\">\n",
       "  <thead>\n",
       "    <tr style=\"text-align: right;\">\n",
       "      <th></th>\n",
       "      <th>grid_id</th>\n",
       "      <th>cust_cnt</th>\n",
       "    </tr>\n",
       "  </thead>\n",
       "  <tbody>\n",
       "    <tr>\n",
       "      <td>486</td>\n",
       "      <td>176673.0</td>\n",
       "      <td>1633</td>\n",
       "    </tr>\n",
       "    <tr>\n",
       "      <td>329</td>\n",
       "      <td>171745.0</td>\n",
       "      <td>256</td>\n",
       "    </tr>\n",
       "    <tr>\n",
       "      <td>131</td>\n",
       "      <td>165439.0</td>\n",
       "      <td>214</td>\n",
       "    </tr>\n",
       "    <tr>\n",
       "      <td>385</td>\n",
       "      <td>173160.0</td>\n",
       "      <td>213</td>\n",
       "    </tr>\n",
       "    <tr>\n",
       "      <td>226</td>\n",
       "      <td>168253.0</td>\n",
       "      <td>208</td>\n",
       "    </tr>\n",
       "    <tr>\n",
       "      <td>164</td>\n",
       "      <td>166833.0</td>\n",
       "      <td>199</td>\n",
       "    </tr>\n",
       "    <tr>\n",
       "      <td>178</td>\n",
       "      <td>166847.0</td>\n",
       "      <td>173</td>\n",
       "    </tr>\n",
       "    <tr>\n",
       "      <td>79</td>\n",
       "      <td>163334.0</td>\n",
       "      <td>164</td>\n",
       "    </tr>\n",
       "    <tr>\n",
       "      <td>404</td>\n",
       "      <td>173859.0</td>\n",
       "      <td>148</td>\n",
       "    </tr>\n",
       "    <tr>\n",
       "      <td>60</td>\n",
       "      <td>162629.0</td>\n",
       "      <td>144</td>\n",
       "    </tr>\n",
       "  </tbody>\n",
       "</table>\n",
       "</div>"
      ],
      "text/plain": [
       "      grid_id  cust_cnt\n",
       "486  176673.0      1633\n",
       "329  171745.0       256\n",
       "131  165439.0       214\n",
       "385  173160.0       213\n",
       "226  168253.0       208\n",
       "164  166833.0       199\n",
       "178  166847.0       173\n",
       "79   163334.0       164\n",
       "404  173859.0       148\n",
       "60   162629.0       144"
      ]
     },
     "execution_count": 47,
     "metadata": {},
     "output_type": "execute_result"
    }
   ],
   "source": [
    "task_1c_result_v2 = task_1c_base_agg_20.sort_values(by='cust_cnt', ascending=False)[['grid_id', 'cust_cnt']].head(10)\n",
    "task_1c_result_v2"
   ]
  },
  {
   "cell_type": "markdown",
   "metadata": {},
   "source": [
    "This is the uploaded solution for 1C, as it got 50%"
   ]
  },
  {
   "cell_type": "code",
   "execution_count": 48,
   "metadata": {
    "ExecuteTime": {
     "end_time": "2020-02-07T15:08:27.768349Z",
     "start_time": "2020-02-07T15:08:27.752362Z"
    }
   },
   "outputs": [],
   "source": [
    "task_1c_result_v2.to_csv('res_1c_v3.csv')"
   ]
  },
  {
   "cell_type": "markdown",
   "metadata": {},
   "source": [
    "## END"
   ]
  }
 ],
 "metadata": {
  "kernelspec": {
   "display_name": "Python 3",
   "language": "python",
   "name": "python3"
  },
  "language_info": {
   "codemirror_mode": {
    "name": "ipython",
    "version": 3
   },
   "file_extension": ".py",
   "mimetype": "text/x-python",
   "name": "python",
   "nbconvert_exporter": "python",
   "pygments_lexer": "ipython3",
   "version": "3.7.4"
  },
  "toc": {
   "base_numbering": 1,
   "nav_menu": {},
   "number_sections": true,
   "sideBar": true,
   "skip_h1_title": false,
   "title_cell": "Table of Contents",
   "title_sidebar": "Contents",
   "toc_cell": false,
   "toc_position": {},
   "toc_section_display": true,
   "toc_window_display": true
  },
  "varInspector": {
   "cols": {
    "lenName": 16,
    "lenType": 16,
    "lenVar": 40
   },
   "kernels_config": {
    "python": {
     "delete_cmd_postfix": "",
     "delete_cmd_prefix": "del ",
     "library": "var_list.py",
     "varRefreshCmd": "print(var_dic_list())"
    },
    "r": {
     "delete_cmd_postfix": ") ",
     "delete_cmd_prefix": "rm(",
     "library": "var_list.r",
     "varRefreshCmd": "cat(var_dic_list()) "
    }
   },
   "types_to_exclude": [
    "module",
    "function",
    "builtin_function_or_method",
    "instance",
    "_Feature"
   ],
   "window_display": false
  }
 },
 "nbformat": 4,
 "nbformat_minor": 2
}
